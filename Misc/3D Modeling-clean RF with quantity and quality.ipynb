{
 "cells": [
  {
   "cell_type": "code",
   "execution_count": 1,
   "metadata": {},
   "outputs": [],
   "source": [
    "import os\n",
    "import pandas as pd\n",
    "import numpy as np\n",
    "import matplotlib.pyplot as plt\n",
    "import seaborn as sns\n",
    "#import geopandas as gpd\n"
   ]
  },
  {
   "cell_type": "code",
   "execution_count": 2,
   "metadata": {},
   "outputs": [],
   "source": [
    "from model_prep import get_feature_name, model_transformer_train"
   ]
  },
  {
   "cell_type": "code",
   "execution_count": 3,
   "metadata": {},
   "outputs": [],
   "source": [
    "from sklearn.ensemble import RandomForestClassifier\n",
    "from sklearn.model_selection import RandomizedSearchCV\n",
    "from sklearn.model_selection import train_test_split, cross_val_score\n",
    "from sklearn.preprocessing import StandardScaler\n",
    "from sklearn.compose import ColumnTransformer\n",
    "from sklearn.preprocessing import OneHotEncoder\n",
    "from sklearn.pipeline import Pipeline\n",
    "from sklearn.impute import SimpleImputer\n",
    "from sklearn.linear_model import LogisticRegression\n",
    "from sklearn.linear_model import LinearRegression\n",
    "from sklearn.svm import LinearSVC\n",
    "from sklearn.preprocessing import FunctionTransformer\n",
    "from xgboost import XGBClassifier\n",
    "from sklearn.decomposition import PCA\n",
    "from sklearn.metrics import confusion_matrix, ConfusionMatrixDisplay"
   ]
  },
  {
   "cell_type": "code",
   "execution_count": 4,
   "metadata": {},
   "outputs": [
    {
     "data": {
      "text/plain": [
       "(<Scheduler: \"tcp://127.0.0.1:64702\" processes: 3 cores: 6>,\n",
       " {0: <Nanny: tcp://127.0.0.1:64723, threads: 2>,\n",
       "  1: <Nanny: tcp://127.0.0.1:64722, threads: 2>,\n",
       "  2: <Nanny: tcp://127.0.0.1:64719, threads: 2>})"
      ]
     },
     "execution_count": 4,
     "metadata": {},
     "output_type": "execute_result"
    }
   ],
   "source": [
    "from dask import dataframe as dd\n",
    "import joblib\n",
    "from dask.distributed import Client, LocalCluster\n",
    "cluster = LocalCluster()\n",
    "client = Client(cluster)\n",
    "cluster.scheduler, cluster.workers"
   ]
  },
  {
   "cell_type": "code",
   "execution_count": 5,
   "metadata": {},
   "outputs": [],
   "source": [
    "model_data = pd.read_pickle('Data/model_data.pkl')"
   ]
  },
  {
   "cell_type": "code",
   "execution_count": 6,
   "metadata": {},
   "outputs": [
    {
     "data": {
      "text/plain": [
       "Index(['id', 'class', 'amount_tsh', 'funder', 'gps_height', 'installer',\n",
       "       'longitude', 'latitude', 'basin', 'subvillage', 'region_code',\n",
       "       'district_code', 'lga', 'ward', 'population', 'public_meeting',\n",
       "       'scheme_management', 'scheme_name', 'permit', 'extraction_type',\n",
       "       'management', 'management_group', 'payment_type', 'water_quality',\n",
       "       'quantity', 'source', 'waterpoint_type', 'urban_rural', 'year', 'month',\n",
       "       'years_old', 'popbins', 'water_quality_rank', 'quantity_rank',\n",
       "       'quant_qual_rank'],\n",
       "      dtype='object')"
      ]
     },
     "execution_count": 6,
     "metadata": {},
     "output_type": "execute_result"
    }
   ],
   "source": [
    "model_data.columns"
   ]
  },
  {
   "cell_type": "code",
   "execution_count": 7,
   "metadata": {},
   "outputs": [],
   "source": [
    "model_data['class'] = model_data['class'].map({'functional':2, 'non functional':0, 'functional needs repair':1})\n",
    "id_col = model_data['id']\n",
    "model_data.drop(columns=['id'], inplace=True)"
   ]
  },
  {
   "cell_type": "code",
   "execution_count": 8,
   "metadata": {},
   "outputs": [],
   "source": [
    "num_cols = ['gps_height', 'population']\n",
    "cat_cols = ['basin', 'region_code', 'district_code', \n",
    "            'extraction_type', 'payment_type', 'water_quality', 'quantity', \n",
    "            'source', 'management', 'management_group', 'waterpoint_type',  'funder', 'installer', 'subvillage', \n",
    "            'ward', 'scheme_management', 'scheme_name', 'popbins', 'lga', 'urban_rural']"
   ]
  },
  {
   "cell_type": "code",
   "execution_count": 9,
   "metadata": {},
   "outputs": [],
   "source": [
    "scaler = StandardScaler()\n",
    "ohe = OneHotEncoder(handle_unknown='ignore')\n",
    "CT = ColumnTransformer(remainder='passthrough', transformers=[('scaler', scaler, num_cols),\n",
    "                                              ('ohe', ohe, cat_cols)], verbose=True, sparse_threshold=0)"
   ]
  },
  {
   "cell_type": "code",
   "execution_count": 10,
   "metadata": {},
   "outputs": [],
   "source": [
    "def prep_train(unprepped_values, class_col):\n",
    "    train_X, test_X, train_y, test_y = train_test_split(unprepped_values.drop(columns=[class_col]), \n",
    "                                                        unprepped_values[class_col], test_size=0.25, random_state=42)\n",
    "    train_Xct = CT.fit_transform(train_X)\n",
    "    \n",
    "    test_Xct = CT.transform(test_X)\n",
    "\n",
    "    cols = get_feature_name(CT)\n",
    "    train_Xf = pd.DataFrame(train_Xct, columns=cols)\n",
    "    cols = get_feature_name(CT)\n",
    "    test_Xf = pd.DataFrame(test_Xct, columns=cols)\n",
    "    \n",
    "    return train_Xf, train_y, test_Xf, test_y   "
   ]
  },
  {
   "cell_type": "code",
   "execution_count": 11,
   "metadata": {},
   "outputs": [],
   "source": [
    "def prep_submit(unprepped_values):\n",
    "    submit_X= unprepped_values\n",
    "        \n",
    "    submit_Xt = model_transformer_train(submit_X)\n",
    "    submit_Xct = CT.transform(submit_Xt)\n",
    "\n",
    "    cols = get_feature_name(CT)\n",
    "    submit_Xf = pd.DataFrame(submit_Xct.todense(), columns=cols)\n",
    "    \n",
    "    return submit_Xf"
   ]
  },
  {
   "cell_type": "code",
   "execution_count": 12,
   "metadata": {
    "scrolled": true
   },
   "outputs": [
    {
     "name": "stdout",
     "output_type": "stream",
     "text": [
      "[ColumnTransformer] ........ (1 of 3) Processing scaler, total=   0.0s\n",
      "[ColumnTransformer] ........... (2 of 3) Processing ohe, total=   0.4s\n",
      "[ColumnTransformer] ..... (3 of 3) Processing remainder, total=   0.0s\n"
     ]
    },
    {
     "name": "stderr",
     "output_type": "stream",
     "text": [
      "C:\\Users\\bwils\\OneDrive\\Documents\\GitHub\\Pump-it-up\\model_prep\\gfn.py:36: UserWarning: Transformer scaler (type StandardScaler) does not provide get_feature_names. Will return input column names if available\n",
      "  warnings.warn(\"Transformer %s (type %s) does not \"\n"
     ]
    }
   ],
   "source": [
    "train_X, train_y, test_X, test_y = prep_train(model_data, 'class')"
   ]
  },
  {
   "cell_type": "code",
   "execution_count": 13,
   "metadata": {},
   "outputs": [
    {
     "name": "stderr",
     "output_type": "stream",
     "text": [
      "[Parallel(n_jobs=-1)]: Using backend DaskDistributedBackend with 6 concurrent workers.\n",
      "[Parallel(n_jobs=-1)]: Done  38 tasks      | elapsed:   11.0s\n",
      "[Parallel(n_jobs=-1)]: Done 188 tasks      | elapsed:   21.1s\n",
      "[Parallel(n_jobs=-1)]: Done 250 out of 250 | elapsed:   25.1s finished\n",
      "[Parallel(n_jobs=1)]: Using backend SequentialBackend with 1 concurrent workers.\n",
      "[Parallel(n_jobs=1)]: Done 250 out of 250 | elapsed:    2.2s finished\n",
      "[Parallel(n_jobs=1)]: Using backend SequentialBackend with 1 concurrent workers.\n"
     ]
    },
    {
     "name": "stdout",
     "output_type": "stream",
     "text": [
      "0.8032996632996633\n"
     ]
    },
    {
     "name": "stderr",
     "output_type": "stream",
     "text": [
      "[Parallel(n_jobs=1)]: Done 250 out of 250 | elapsed:    2.1s finished\n"
     ]
    },
    {
     "data": {
      "text/plain": [
       "<sklearn.metrics._plot.confusion_matrix.ConfusionMatrixDisplay at 0x298dbbcff40>"
      ]
     },
     "execution_count": 13,
     "metadata": {},
     "output_type": "execute_result"
    },
    {
     "data": {
      "text/plain": [
       "<Figure size 2880x576 with 0 Axes>"
      ]
     },
     "metadata": {},
     "output_type": "display_data"
    },
    {
     "data": {
      "image/png": "[encoded data removed]",
      "text/plain": [
       "<Figure size 432x288 with 2 Axes>"
      ]
     },
     "metadata": {
      "needs_background": "light"
     },
     "output_type": "display_data"
    }
   ],
   "source": [
    "rf_clean = RandomForestClassifier(n_estimators=250, verbose=True, class_weight='balanced_subsample')\n",
    "with joblib.parallel_backend('dask'):\n",
    "    rf_clean.fit(train_X, train_y)\n",
    "print(rf_clean.score(test_X, test_y))\n",
    "y_pred = rf_clean.predict(test_X)\n",
    "with joblib.parallel_backend('dask'):\n",
    "    cm=confusion_matrix(test_y, y_pred, labels=rf_clean.classes_)\n",
    "    disp = ConfusionMatrixDisplay(cm, display_labels=rf_clean.classes_)\n",
    "plt.figure(figsize=(40,8))\n",
    "disp.plot()"
   ]
  },
  {
   "cell_type": "code",
   "execution_count": 14,
   "metadata": {},
   "outputs": [
    {
     "data": {
      "text/html": [
       "<div>\n",
       "<style scoped>\n",
       "    .dataframe tbody tr th:only-of-type {\n",
       "        vertical-align: middle;\n",
       "    }\n",
       "\n",
       "    .dataframe tbody tr th {\n",
       "        vertical-align: top;\n",
       "    }\n",
       "\n",
       "    .dataframe thead th {\n",
       "        text-align: right;\n",
       "    }\n",
       "</style>\n",
       "<table border=\"1\" class=\"dataframe\">\n",
       "  <thead>\n",
       "    <tr style=\"text-align: right;\">\n",
       "      <th></th>\n",
       "      <th>importance</th>\n",
       "    </tr>\n",
       "  </thead>\n",
       "  <tbody>\n",
       "    <tr>\n",
       "      <th>longitude</th>\n",
       "      <td>0.094932</td>\n",
       "    </tr>\n",
       "    <tr>\n",
       "      <th>latitude</th>\n",
       "      <td>0.090673</td>\n",
       "    </tr>\n",
       "    <tr>\n",
       "      <th>scaler__gps_height</th>\n",
       "      <td>0.084221</td>\n",
       "    </tr>\n",
       "    <tr>\n",
       "      <th>years_old</th>\n",
       "      <td>0.043254</td>\n",
       "    </tr>\n",
       "    <tr>\n",
       "      <th>scaler__population</th>\n",
       "      <td>0.033403</td>\n",
       "    </tr>\n",
       "    <tr>\n",
       "      <th>quantity_rank</th>\n",
       "      <td>0.032024</td>\n",
       "    </tr>\n",
       "    <tr>\n",
       "      <th>quant_qual_rank</th>\n",
       "      <td>0.031925</td>\n",
       "    </tr>\n",
       "    <tr>\n",
       "      <th>ohe__x6_dry</th>\n",
       "      <td>0.024144</td>\n",
       "    </tr>\n",
       "    <tr>\n",
       "      <th>month</th>\n",
       "      <td>0.019813</td>\n",
       "    </tr>\n",
       "    <tr>\n",
       "      <th>amount_tsh</th>\n",
       "      <td>0.015878</td>\n",
       "    </tr>\n",
       "    <tr>\n",
       "      <th>ohe__x10_other</th>\n",
       "      <td>0.015055</td>\n",
       "    </tr>\n",
       "    <tr>\n",
       "      <th>ohe__x3_other</th>\n",
       "      <td>0.014754</td>\n",
       "    </tr>\n",
       "    <tr>\n",
       "      <th>ohe__x3_gravity</th>\n",
       "      <td>0.010695</td>\n",
       "    </tr>\n",
       "    <tr>\n",
       "      <th>ohe__x6_enough</th>\n",
       "      <td>0.010614</td>\n",
       "    </tr>\n",
       "    <tr>\n",
       "      <th>ohe__x14_small</th>\n",
       "      <td>0.010052</td>\n",
       "    </tr>\n",
       "    <tr>\n",
       "      <th>ohe__x4_never pay</th>\n",
       "      <td>0.009636</td>\n",
       "    </tr>\n",
       "    <tr>\n",
       "      <th>ohe__x11_other</th>\n",
       "      <td>0.009259</td>\n",
       "    </tr>\n",
       "    <tr>\n",
       "      <th>ohe__x14_medium</th>\n",
       "      <td>0.008828</td>\n",
       "    </tr>\n",
       "    <tr>\n",
       "      <th>ohe__x10_communal standpipe</th>\n",
       "      <td>0.008718</td>\n",
       "    </tr>\n",
       "    <tr>\n",
       "      <th>ohe__x14_verysmall</th>\n",
       "      <td>0.008403</td>\n",
       "    </tr>\n",
       "  </tbody>\n",
       "</table>\n",
       "</div>"
      ],
      "text/plain": [
       "                             importance\n",
       "longitude                      0.094932\n",
       "latitude                       0.090673\n",
       "scaler__gps_height             0.084221\n",
       "years_old                      0.043254\n",
       "scaler__population             0.033403\n",
       "quantity_rank                  0.032024\n",
       "quant_qual_rank                0.031925\n",
       "ohe__x6_dry                    0.024144\n",
       "month                          0.019813\n",
       "amount_tsh                     0.015878\n",
       "ohe__x10_other                 0.015055\n",
       "ohe__x3_other                  0.014754\n",
       "ohe__x3_gravity                0.010695\n",
       "ohe__x6_enough                 0.010614\n",
       "ohe__x14_small                 0.010052\n",
       "ohe__x4_never pay              0.009636\n",
       "ohe__x11_other                 0.009259\n",
       "ohe__x14_medium                0.008828\n",
       "ohe__x10_communal standpipe    0.008718\n",
       "ohe__x14_verysmall             0.008403"
      ]
     },
     "execution_count": 14,
     "metadata": {},
     "output_type": "execute_result"
    }
   ],
   "source": [
    "pd.DataFrame(rf_clean.feature_importances_.reshape(1,-1), columns=train_X.columns, index=['importance']).T.sort_values(by='importance', ascending=False).head(20)"
   ]
  },
  {
   "cell_type": "code",
   "execution_count": 15,
   "metadata": {},
   "outputs": [
    {
     "name": "stderr",
     "output_type": "stream",
     "text": [
      "[Parallel(n_jobs=1)]: Using backend SequentialBackend with 1 concurrent workers.\n",
      "[Parallel(n_jobs=1)]: Done 250 out of 250 | elapsed:   44.1s finished\n",
      "[Parallel(n_jobs=1)]: Using backend SequentialBackend with 1 concurrent workers.\n",
      "[Parallel(n_jobs=1)]: Done 250 out of 250 | elapsed:    1.3s finished\n",
      "[Parallel(n_jobs=1)]: Using backend SequentialBackend with 1 concurrent workers.\n",
      "[Parallel(n_jobs=1)]: Done 250 out of 250 | elapsed:   46.2s finished\n",
      "[Parallel(n_jobs=1)]: Using backend SequentialBackend with 1 concurrent workers.\n",
      "[Parallel(n_jobs=1)]: Done 250 out of 250 | elapsed:    1.3s finished\n",
      "[Parallel(n_jobs=1)]: Using backend SequentialBackend with 1 concurrent workers.\n",
      "[Parallel(n_jobs=1)]: Done 250 out of 250 | elapsed:   44.8s finished\n",
      "[Parallel(n_jobs=1)]: Using backend SequentialBackend with 1 concurrent workers.\n",
      "[Parallel(n_jobs=1)]: Done 250 out of 250 | elapsed:    1.3s finished\n",
      "[Parallel(n_jobs=1)]: Using backend SequentialBackend with 1 concurrent workers.\n",
      "[Parallel(n_jobs=1)]: Done 250 out of 250 | elapsed:   46.3s finished\n",
      "[Parallel(n_jobs=1)]: Using backend SequentialBackend with 1 concurrent workers.\n",
      "[Parallel(n_jobs=1)]: Done 250 out of 250 | elapsed:    1.7s finished\n",
      "[Parallel(n_jobs=1)]: Using backend SequentialBackend with 1 concurrent workers.\n",
      "[Parallel(n_jobs=1)]: Done 250 out of 250 | elapsed:   43.7s finished\n",
      "[Parallel(n_jobs=1)]: Using backend SequentialBackend with 1 concurrent workers.\n"
     ]
    },
    {
     "name": "stdout",
     "output_type": "stream",
     "text": [
      "[0.80852974 0.8047138  0.80190797 0.80359147 0.80044893]\n"
     ]
    },
    {
     "name": "stderr",
     "output_type": "stream",
     "text": [
      "[Parallel(n_jobs=1)]: Done 250 out of 250 | elapsed:    1.3s finished\n"
     ]
    }
   ],
   "source": [
    "print(cross_val_score(rf_clean, train_X, train_y))"
   ]
  }
 ],
 "metadata": {
  "kernelspec": {
   "display_name": "pumpitup",
   "language": "python",
   "name": "pumpitup"
  },
  "language_info": {
   "codemirror_mode": {
    "name": "ipython",
    "version": 3
   },
   "file_extension": ".py",
   "mimetype": "text/x-python",
   "name": "python",
   "nbconvert_exporter": "python",
   "pygments_lexer": "ipython3",
   "version": "3.9.2"
  }
 },
 "nbformat": 4,
 "nbformat_minor": 5
}
