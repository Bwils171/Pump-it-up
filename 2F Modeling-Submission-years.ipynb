{
 "cells": [
  {
   "cell_type": "code",
   "execution_count": 19,
   "metadata": {},
   "outputs": [],
   "source": [
    "import os\n",
    "import pandas as pd\n",
    "import numpy as np\n",
    "import matplotlib.pyplot as plt\n",
    "import seaborn as sns\n",
    "#import geopandas as gpd"
   ]
  },
  {
   "cell_type": "code",
   "execution_count": 20,
   "metadata": {},
   "outputs": [],
   "source": [
    "#importing project specific functions to match changes in EDA notebook\n",
    "from model_prep import get_feature_name, model_transformer_train, model_transformer_test"
   ]
  },
  {
   "cell_type": "code",
   "execution_count": 21,
   "metadata": {},
   "outputs": [],
   "source": [
    "from sklearn.ensemble import RandomForestClassifier, AdaBoostClassifier\n",
    "from sklearn.neighbors import KNeighborsClassifier\n",
    "from sklearn.model_selection import RandomizedSearchCV\n",
    "from sklearn.model_selection import train_test_split\n",
    "from sklearn.preprocessing import StandardScaler\n",
    "from sklearn.compose import ColumnTransformer\n",
    "from sklearn.preprocessing import OneHotEncoder\n",
    "from sklearn.pipeline import Pipeline\n",
    "from sklearn.impute import SimpleImputer\n",
    "from sklearn.linear_model import LogisticRegression\n",
    "from sklearn.linear_model import LinearRegression\n",
    "from sklearn.svm import LinearSVC\n",
    "from sklearn.preprocessing import FunctionTransformer\n",
    "from xgboost import XGBClassifier\n",
    "from sklearn.decomposition import PCA\n",
    "from sklearn.metrics import confusion_matrix, ConfusionMatrixDisplay\n",
    "from sklearn.model_selection import cross_val_score\n",
    "from sklearn.utils.class_weight import compute_sample_weight"
   ]
  },
  {
   "cell_type": "code",
   "execution_count": 22,
   "metadata": {},
   "outputs": [
    {
     "name": "stderr",
     "output_type": "stream",
     "text": [
      "C:\\Users\\bwils\\anaconda3\\envs\\pumpitup\\lib\\site-packages\\distributed\\node.py:151: UserWarning: Port 8787 is already in use.\n",
      "Perhaps you already have a cluster running?\n",
      "Hosting the HTTP server on port 64584 instead\n",
      "  warnings.warn(\n"
     ]
    },
    {
     "data": {
      "text/plain": [
       "(<Scheduler: \"tcp://127.0.0.1:64587\" processes: 3 cores: 6>,\n",
       " {0: <Nanny: tcp://127.0.0.1:64605, threads: 2>,\n",
       "  1: <Nanny: tcp://127.0.0.1:64604, threads: 2>,\n",
       "  2: <Nanny: tcp://127.0.0.1:64610, threads: 2>})"
      ]
     },
     "execution_count": 22,
     "metadata": {},
     "output_type": "execute_result"
    }
   ],
   "source": [
    "from dask import dataframe as dd\n",
    "import joblib\n",
    "from dask.distributed import Client, LocalCluster\n",
    "cluster = LocalCluster()\n",
    "client = Client(cluster)\n",
    "cluster.scheduler, cluster.workers"
   ]
  },
  {
   "cell_type": "code",
   "execution_count": 23,
   "metadata": {},
   "outputs": [],
   "source": [
    "model_data = pd.read_pickle('Data/model_data.pkl')"
   ]
  },
  {
   "cell_type": "code",
   "execution_count": 24,
   "metadata": {},
   "outputs": [],
   "source": [
    "submit_X = pd.read_csv('Source_data/testset_values.csv')"
   ]
  },
  {
   "cell_type": "code",
   "execution_count": 25,
   "metadata": {
    "scrolled": true
   },
   "outputs": [
    {
     "data": {
      "text/plain": [
       "Index(['id', 'class', 'amount_tsh', 'funder', 'gps_height', 'installer',\n",
       "       'longitude', 'latitude', 'basin', 'subvillage', 'region_code',\n",
       "       'district_code', 'lga', 'ward', 'population', 'public_meeting',\n",
       "       'scheme_management', 'scheme_name', 'permit', 'extraction_type',\n",
       "       'management', 'management_group', 'payment_type', 'water_quality',\n",
       "       'quantity', 'source', 'waterpoint_type', 'urban_rural', 'year', 'month',\n",
       "       'years_old', 'popbins'],\n",
       "      dtype='object')"
      ]
     },
     "execution_count": 25,
     "metadata": {},
     "output_type": "execute_result"
    }
   ],
   "source": [
    "model_data.columns"
   ]
  },
  {
   "cell_type": "code",
   "execution_count": 26,
   "metadata": {},
   "outputs": [],
   "source": [
    "model_data.drop(columns=['id'], inplace=True)"
   ]
  },
  {
   "cell_type": "code",
   "execution_count": 27,
   "metadata": {},
   "outputs": [],
   "source": [
    "model_data_new = model_data.loc[model_data['years_old']<5]"
   ]
  },
  {
   "cell_type": "code",
   "execution_count": 28,
   "metadata": {},
   "outputs": [],
   "source": [
    "num_cols = ['gps_height', 'population']\n",
    "cat_cols = ['basin', 'region_code', 'district_code', 'extraction_type', 'payment_type', 'water_quality', 'quantity', \n",
    "            'source', 'management', 'management_group', 'waterpoint_type',  'funder', 'installer', 'subvillage', \n",
    "            'ward', 'scheme_management', 'scheme_name', 'popbins', 'lga', 'urban-rural']"
   ]
  },
  {
   "cell_type": "code",
   "execution_count": 29,
   "metadata": {},
   "outputs": [],
   "source": [
    "scaler = StandardScaler()\n",
    "ohe = OneHotEncoder(handle_unknown='ignore')\n",
    "CT = ColumnTransformer(remainder='passthrough', transformers=[('scaler', scaler, num_cols),\n",
    "                                              ('ohe', ohe, cat_cols)], verbose=True, sparse_threshold=0)"
   ]
  },
  {
   "cell_type": "code",
   "execution_count": 30,
   "metadata": {},
   "outputs": [],
   "source": [
    "def prep_train(unprepped_values, class_col):\n",
    "    #splits the data into a train and test set ensuring that transformations are based only on the train set assuming we \n",
    "    #haven't seen the test set before\n",
    "    train_X, test_X, train_y, test_y = train_test_split(unprepped_values.drop(columns=[class_col]), \n",
    "                                                        unprepped_values[class_col], test_size=0.25, random_state=42)\n",
    "    train_Xct = CT.fit_transform(train_X)\n",
    "    \n",
    "    test_Xct = CT.transform(test_X)\n",
    "\n",
    "    cols = get_feature_name(CT)\n",
    "    train_Xf = pd.DataFrame(train_Xct, columns=cols)\n",
    "    cols = get_feature_name(CT)\n",
    "    test_Xf = pd.DataFrame(test_Xct, columns=cols)\n",
    "    \n",
    "    return train_Xf, train_y, test_Xf, test_y   "
   ]
  },
  {
   "cell_type": "code",
   "execution_count": 31,
   "metadata": {},
   "outputs": [],
   "source": [
    "def prep_submit(train_data, test_data):\n",
    "    #prepares the submission test set as we do our learning set, without refitting to the unseen data\n",
    "            \n",
    "    submit_Xt, id_col = model_transformer_test(train_data, test_data)\n",
    "    submit_Xct = CT.transform(submit_Xt)\n",
    "\n",
    "    cols = get_feature_name(CT)\n",
    "    submit_Xf = pd.DataFrame(submit_Xct, columns=cols)\n",
    "    \n",
    "    return submit_Xf, cols, id_col"
   ]
  },
  {
   "cell_type": "code",
   "execution_count": null,
   "metadata": {
    "scrolled": true
   },
   "outputs": [],
   "source": [
    "train_X, train_y, test_X, test_y = prep_train(model_data, 'class')"
   ]
  },
  {
   "cell_type": "markdown",
   "metadata": {},
   "source": [
    "## Random Forest"
   ]
  },
  {
   "cell_type": "code",
   "execution_count": null,
   "metadata": {
    "scrolled": true
   },
   "outputs": [],
   "source": [
    "rf = RandomForestClassifier(n_estimators = 250, criterion='entropy', #max_samples=.75, #max_depth=16,  \n",
    "                            class_weight='balanced_subsample', verbose=True)\n",
    "\n",
    "with joblib.parallel_backend('dask'):\n",
    "    rf.fit(train_X, train_y)\n",
    "print(rf.score(test_X, test_y))"
   ]
  },
  {
   "cell_type": "code",
   "execution_count": null,
   "metadata": {},
   "outputs": [],
   "source": [
    "with joblib.parallel_backend('dask'):\n",
    "    print(cross_val_score(rf, train_Xf, train_y, cv=5))"
   ]
  },
  {
   "cell_type": "markdown",
   "metadata": {},
   "source": [
    "## Submission"
   ]
  },
  {
   "cell_type": "code",
   "execution_count": null,
   "metadata": {},
   "outputs": [],
   "source": [
    "values = pd.read_csv('Source_data/trainset_values.csv')\n",
    "submit_X = pd.read_csv('Source_data/testset_values.csv')"
   ]
  },
  {
   "cell_type": "code",
   "execution_count": null,
   "metadata": {
    "scrolled": true
   },
   "outputs": [],
   "source": [
    "submit_Xf, cols, id_col = prep_submit(values, submit_X)"
   ]
  },
  {
   "cell_type": "code",
   "execution_count": null,
   "metadata": {},
   "outputs": [],
   "source": [
    "submit_Xf"
   ]
  },
  {
   "cell_type": "code",
   "execution_count": null,
   "metadata": {},
   "outputs": [],
   "source": [
    "submit_pred_rf = rf.predict(submit_Xf)\n",
    "submit_pred_rf = pd.DataFrame(submit_pred_rf, columns=['status_group'])\n",
    "submit_pred_rf.insert(0,value=id_col, column='id')\n",
    "submit_pred_rf"
   ]
  },
  {
   "cell_type": "code",
   "execution_count": null,
   "metadata": {},
   "outputs": [],
   "source": [
    "#submit_pred_rf.to_csv(r'submissions/D/submission_E_rf', index=False)"
   ]
  }
 ],
 "metadata": {
  "kernelspec": {
   "display_name": "pumpitup",
   "language": "python",
   "name": "pumpitup"
  },
  "language_info": {
   "codemirror_mode": {
    "name": "ipython",
    "version": 3
   },
   "file_extension": ".py",
   "mimetype": "text/x-python",
   "name": "python",
   "nbconvert_exporter": "python",
   "pygments_lexer": "ipython3",
   "version": "3.9.2"
  }
 },
 "nbformat": 4,
 "nbformat_minor": 5
}
