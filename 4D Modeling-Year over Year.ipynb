{
 "cells": [
  {
   "cell_type": "code",
   "execution_count": 1,
   "metadata": {},
   "outputs": [],
   "source": [
    "#Read in standard packages\n",
    "import os\n",
    "import pandas as pd\n",
    "import numpy as np\n",
    "import matplotlib.pyplot as plt\n",
    "import seaborn as sns\n",
    "#import geopandas as gpd"
   ]
  },
  {
   "cell_type": "code",
   "execution_count": 2,
   "metadata": {},
   "outputs": [],
   "source": [
    "#read in ML packages/modules\n",
    "from sklearn.metrics import confusion_matrix, ConfusionMatrixDisplay\n",
    "from sklearn.model_selection import cross_val_score\n",
    "from sklearn.ensemble import RandomForestClassifier\n",
    "from sklearn.metrics import classification_report\n",
    "from sklearn.preprocessing import StandardScaler\n",
    "from sklearn.compose import ColumnTransformer\n",
    "from sklearn.preprocessing import OneHotEncoder\n",
    "from model_prep import get_feature_name, model_transformer_train"
   ]
  },
  {
   "cell_type": "code",
   "execution_count": 3,
   "metadata": {},
   "outputs": [
    {
     "data": {
      "text/plain": [
       "(<Scheduler: \"tcp://127.0.0.1:63779\" processes: 3 cores: 6>,\n",
       " {0: <Nanny: tcp://127.0.0.1:63796, threads: 2>,\n",
       "  1: <Nanny: tcp://127.0.0.1:63802, threads: 2>,\n",
       "  2: <Nanny: tcp://127.0.0.1:63799, threads: 2>})"
      ]
     },
     "execution_count": 3,
     "metadata": {},
     "output_type": "execute_result"
    }
   ],
   "source": [
    "#Read in dask package and set up to allow for faster compute times. Distributes computing among all availabel preocessors\n",
    "from dask import dataframe as dd\n",
    "import joblib\n",
    "from dask.distributed import Client, LocalCluster\n",
    "cluster = LocalCluster()\n",
    "client = Client(cluster)\n",
    "cluster.scheduler, cluster.workers"
   ]
  },
  {
   "cell_type": "markdown",
   "metadata": {},
   "source": [
    "# Model Accuracy Over Time\n",
    "\n",
    "This model can be used over time to predict which wellpoints require more maintenance and more generaly which types of wellpoints require more maintenance. As more inspections are completed the model will train on more data and this will improve the overall accuracy as time goes on. To prove this we will take a look at how the model had improved over time already. "
   ]
  },
  {
   "cell_type": "code",
   "execution_count": 4,
   "metadata": {},
   "outputs": [],
   "source": [
    "#read in data\n",
    "model_data = pd.read_pickle('Data/model_data.pkl')"
   ]
  },
  {
   "cell_type": "code",
   "execution_count": 5,
   "metadata": {},
   "outputs": [],
   "source": [
    "#Create column lists to use as inputs for the StandardScaler and OneHotEncoder Pipeline\n",
    "num_cols = ['gps_height', 'population', 'amount_tsh', 'years_old']\n",
    "cat_cols = ['basin', 'region_code', 'district_code', 'extraction_type', 'payment_type', 'water_quality', 'quantity', \n",
    "            'source', 'management', 'management_group', 'waterpoint_type',  'funder', 'installer', 'subvillage', \n",
    "            'ward', 'scheme_management', 'scheme_name', 'popbins', 'lga', 'urban_rural', 'tsh_rank', 'month']"
   ]
  },
  {
   "cell_type": "code",
   "execution_count": 6,
   "metadata": {},
   "outputs": [],
   "source": [
    "#Set up instances of StanardSCaler, OneHotEncoder and ColumnTransformer to process model_data\n",
    "scaler = StandardScaler()\n",
    "ohe = OneHotEncoder(handle_unknown='ignore')\n",
    "CT = ColumnTransformer(remainder='passthrough', transformers=[('scaler', scaler, num_cols),\n",
    "                                              ('ohe', ohe, cat_cols)], verbose=True, sparse_threshold=0)"
   ]
  },
  {
   "cell_type": "code",
   "execution_count": 7,
   "metadata": {},
   "outputs": [],
   "source": [
    "def prep_train_year(unprepped_values, class_col, year):\n",
    "    #transforms clean data from EDA notebook into model ready train and test data\n",
    "    data = unprepped_values.copy()\n",
    "    train_X = data.loc[data['year']<year].drop(columns=[class_col])\n",
    "    train_y = data.loc[data['year']<year, class_col]\n",
    "    test_X = data.loc[data['year']==year].drop(columns=[class_col])\n",
    "    test_y = data.loc[data['year']==year, class_col]\n",
    "    \n",
    "    #run ColumnTransformer fit on training data only\n",
    "    train_Xct = CT.fit_transform(train_X)\n",
    "    \n",
    "    #transform test data based on training fit\n",
    "    test_Xct = CT.transform(test_X)\n",
    "\n",
    "    #get columns names from ColumnTransformer\n",
    "    cols = get_feature_name(CT)\n",
    "    train_Xf = pd.DataFrame(train_Xct, columns=cols)\n",
    "    cols = get_feature_name(CT)\n",
    "    test_Xf = pd.DataFrame(test_Xct, columns=cols)\n",
    "    \n",
    "    #Output training and testing dependent and independent variables\n",
    "    return train_Xf, train_y, test_Xf, test_y   "
   ]
  },
  {
   "cell_type": "markdown",
   "metadata": {},
   "source": [
    "We will start by taking a look at year over year changes to model accuracy. We will only include 2011, 2012 and 2013 as there are relatively few inspections recorded before these years. Each year will be predicted based only on the inspections that came before it. This is would be similar to a look ahead done during budgeting time to get a baseline for how often wellpoints would be down and in what areas, allowing more targeted planning."
   ]
  },
  {
   "cell_type": "code",
   "execution_count": 8,
   "metadata": {
    "scrolled": true
   },
   "outputs": [
    {
     "name": "stdout",
     "output_type": "stream",
     "text": [
      "[ColumnTransformer] ........ (1 of 3) Processing scaler, total=   0.0s\n",
      "[ColumnTransformer] ........... (2 of 3) Processing ohe, total=   0.0s\n",
      "[ColumnTransformer] ..... (3 of 3) Processing remainder, total=   0.0s\n"
     ]
    },
    {
     "name": "stderr",
     "output_type": "stream",
     "text": [
      "C:\\Users\\bwils\\OneDrive\\Documents\\GitHub\\Pump-it-up\\model_prep\\gfn.py:36: UserWarning: Transformer scaler (type StandardScaler) does not provide get_feature_names. Will return input column names if available\n",
      "  warnings.warn(\"Transformer %s (type %s) does not \"\n",
      "[Parallel(n_jobs=-1)]: Using backend DaskDistributedBackend with 6 concurrent workers.\n",
      "[Parallel(n_jobs=-1)]: Done  90 tasks      | elapsed:    2.0s\n",
      "[Parallel(n_jobs=-1)]: Done 250 out of 250 | elapsed:    3.1s finished\n",
      "[Parallel(n_jobs=1)]: Using backend SequentialBackend with 1 concurrent workers.\n",
      "[Parallel(n_jobs=1)]: Done 250 out of 250 | elapsed:    1.1s finished\n"
     ]
    },
    {
     "name": "stdout",
     "output_type": "stream",
     "text": [
      "[ColumnTransformer] ........ (1 of 3) Processing scaler, total=   0.0s\n",
      "[ColumnTransformer] ........... (2 of 3) Processing ohe, total=   0.2s\n",
      "[ColumnTransformer] ..... (3 of 3) Processing remainder, total=   0.0s\n"
     ]
    },
    {
     "name": "stderr",
     "output_type": "stream",
     "text": [
      "C:\\Users\\bwils\\OneDrive\\Documents\\GitHub\\Pump-it-up\\model_prep\\gfn.py:36: UserWarning: Transformer scaler (type StandardScaler) does not provide get_feature_names. Will return input column names if available\n",
      "  warnings.warn(\"Transformer %s (type %s) does not \"\n",
      "[Parallel(n_jobs=-1)]: Using backend DaskDistributedBackend with 6 concurrent workers.\n",
      "[Parallel(n_jobs=-1)]: Done  38 tasks      | elapsed:    5.9s\n",
      "[Parallel(n_jobs=-1)]: Done 188 tasks      | elapsed:   12.0s\n",
      "[Parallel(n_jobs=-1)]: Done 250 out of 250 | elapsed:   14.3s finished\n",
      "[Parallel(n_jobs=1)]: Using backend SequentialBackend with 1 concurrent workers.\n",
      "[Parallel(n_jobs=1)]: Done 250 out of 250 | elapsed:    0.7s finished\n"
     ]
    },
    {
     "name": "stdout",
     "output_type": "stream",
     "text": [
      "[ColumnTransformer] ........ (1 of 3) Processing scaler, total=   0.0s\n",
      "[ColumnTransformer] ........... (2 of 3) Processing ohe, total=   0.3s\n",
      "[ColumnTransformer] ..... (3 of 3) Processing remainder, total=   0.0s\n"
     ]
    },
    {
     "name": "stderr",
     "output_type": "stream",
     "text": [
      "C:\\Users\\bwils\\OneDrive\\Documents\\GitHub\\Pump-it-up\\model_prep\\gfn.py:36: UserWarning: Transformer scaler (type StandardScaler) does not provide get_feature_names. Will return input column names if available\n",
      "  warnings.warn(\"Transformer %s (type %s) does not \"\n",
      "[Parallel(n_jobs=-1)]: Using backend DaskDistributedBackend with 6 concurrent workers.\n",
      "[Parallel(n_jobs=-1)]: Done  38 tasks      | elapsed:    7.4s\n",
      "[Parallel(n_jobs=-1)]: Done 188 tasks      | elapsed:   16.8s\n",
      "[Parallel(n_jobs=-1)]: Done 250 out of 250 | elapsed:   20.4s finished\n",
      "[Parallel(n_jobs=1)]: Using backend SequentialBackend with 1 concurrent workers.\n",
      "[Parallel(n_jobs=1)]: Done 250 out of 250 | elapsed:    2.9s finished\n"
     ]
    },
    {
     "data": {
      "text/plain": [
       "{'year_predicted': [2011, 2012, 2013],\n",
       " 'accuracy': [0.5547883099672177, 0.6983188044831881, 0.7139384450578881],\n",
       " 'train_data': [31, 28705, 35129],\n",
       " 'test_data': [28674, 6424, 24271]}"
      ]
     },
     "execution_count": 8,
     "metadata": {},
     "output_type": "execute_result"
    }
   ],
   "source": [
    "#We wil use the RandomForest Classifier that we found to perform well for both performance and computation time\n",
    "rf = RandomForestClassifier(n_estimators=250, criterion='gini', class_weight='balanced_subsample', verbose=True)        \n",
    "years = [2011, 2012, 2013]\n",
    "year_score = {'year_predicted':[], 'accuracy':[], 'train_data':[], 'test_data':[]}\n",
    "for year in years:\n",
    "        X, y, tX, ty = prep_train_year(model_data, 'class', year)\n",
    "        with joblib.parallel_backend('dask'):\n",
    "            rf.fit(X, np.ravel(y))\n",
    "        year_score['year_predicted'].append(year)\n",
    "        year_score['accuracy'].append(rf.score(tX, ty))\n",
    "        year_score['train_data'].append(len(y))\n",
    "        year_score['test_data'].append(len(ty))\n",
    "year_score"
   ]
  },
  {
   "cell_type": "code",
   "execution_count": 9,
   "metadata": {},
   "outputs": [
    {
     "data": {
      "text/html": [
       "<div>\n",
       "<style scoped>\n",
       "    .dataframe tbody tr th:only-of-type {\n",
       "        vertical-align: middle;\n",
       "    }\n",
       "\n",
       "    .dataframe tbody tr th {\n",
       "        vertical-align: top;\n",
       "    }\n",
       "\n",
       "    .dataframe thead th {\n",
       "        text-align: right;\n",
       "    }\n",
       "</style>\n",
       "<table border=\"1\" class=\"dataframe\">\n",
       "  <thead>\n",
       "    <tr style=\"text-align: right;\">\n",
       "      <th></th>\n",
       "      <th>year_predicted</th>\n",
       "      <th>accuracy</th>\n",
       "      <th>train_data</th>\n",
       "      <th>test_data</th>\n",
       "    </tr>\n",
       "  </thead>\n",
       "  <tbody>\n",
       "    <tr>\n",
       "      <th>0</th>\n",
       "      <td>2011</td>\n",
       "      <td>0.554788</td>\n",
       "      <td>31</td>\n",
       "      <td>28674</td>\n",
       "    </tr>\n",
       "    <tr>\n",
       "      <th>1</th>\n",
       "      <td>2012</td>\n",
       "      <td>0.698319</td>\n",
       "      <td>28705</td>\n",
       "      <td>6424</td>\n",
       "    </tr>\n",
       "    <tr>\n",
       "      <th>2</th>\n",
       "      <td>2013</td>\n",
       "      <td>0.713938</td>\n",
       "      <td>35129</td>\n",
       "      <td>24271</td>\n",
       "    </tr>\n",
       "  </tbody>\n",
       "</table>\n",
       "</div>"
      ],
      "text/plain": [
       "   year_predicted  accuracy  train_data  test_data\n",
       "0            2011  0.554788          31      28674\n",
       "1            2012  0.698319       28705       6424\n",
       "2            2013  0.713938       35129      24271"
      ]
     },
     "execution_count": 9,
     "metadata": {},
     "output_type": "execute_result"
    }
   ],
   "source": [
    "year_score_df = pd.DataFrame(year_score)\n",
    "year_score_df"
   ]
  },
  {
   "cell_type": "code",
   "execution_count": 10,
   "metadata": {},
   "outputs": [
    {
     "data": {
      "image/png": "[encoded data removed]",
      "text/plain": [
       "<Figure size 1152x720 with 2 Axes>"
      ]
     },
     "metadata": {
      "needs_background": "light"
     },
     "output_type": "display_data"
    }
   ],
   "source": [
    "fig, (ax1, ax2) = plt.subplots(2, figsize=(16, 10))\n",
    "fig.suptitle('Accuracy of Model by Year and Compared to Amount of Training and Testing Data')\n",
    "sns.lineplot(data=year_score_df, x='year_predicted', y='accuracy', ax=ax1)\n",
    "ax1.set_xticks([2011, 2012, 2013])\n",
    "sns.barplot(data=pd.melt(year_score_df.drop(columns='accuracy'), id_vars='year_predicted'), x='year_predicted', \n",
    "            y='value', ax=ax2, hue='variable')\n",
    "ax2.set_ylabel('Amount of Data')\n",
    "ax2.set_yscale('log')\n",
    "plt.xticks(rotation=90)\n",
    "ax2.legend()\n",
    "plt.show()"
   ]
  },
  {
   "cell_type": "markdown",
   "metadata": {},
   "source": [
    "The graph above clearly shows an increase as more data is used for train which happens as time goes by. It is likely the incremental changes will be smaller as the accuracy increases and closes in on the max accuracy. Investigations into subsets of the data that are harder to predict could additional help the model's accuracy to improve.\n",
    "\n",
    "We can also take a look at the model on a month to month basis to see how much improvement we see as each month goes by."
   ]
  },
  {
   "cell_type": "code",
   "execution_count": 11,
   "metadata": {},
   "outputs": [],
   "source": [
    "def prep_train_month(unprepped_values, class_col, year, month):\n",
    "    #transforms clean data from EDA notebook into model ready train and test data\n",
    "    data = unprepped_values.copy()\n",
    "    \n",
    "    not_in_train = data.loc[(data['year']>=year) & (data['month']>=month)]\n",
    "    test_in = data.loc[(data['year']==year) & (data['month']==month)]\n",
    "    train_X = data.loc[~data.index.isin(not_in_train.index)].drop(columns=[class_col])\n",
    "    train_y = data.loc[~data.index.isin(not_in_train.index), class_col]\n",
    "    test_X = data.loc[data.index.isin(test_in.index)].drop(columns=[class_col])\n",
    "    test_y = data.loc[data.index.isin(test_in.index), class_col]\n",
    "        \n",
    "    #run ColumnTransformer fit on training data only\n",
    "    train_Xct = CT.fit_transform(train_X)\n",
    "    \n",
    "    #transform test data based on training fit\n",
    "    test_Xct = CT.transform(test_X)\n",
    "\n",
    "    #get columns names from ColumnTransformer\n",
    "    cols = get_feature_name(CT)\n",
    "    train_Xf = pd.DataFrame(train_Xct, columns=cols)\n",
    "    cols = get_feature_name(CT)\n",
    "    test_Xf = pd.DataFrame(test_Xct, columns=cols)\n",
    "    \n",
    "    #Output training and testing dependent and independent variables\n",
    "    return train_Xf, train_y, test_Xf, test_y   "
   ]
  },
  {
   "cell_type": "code",
   "execution_count": 12,
   "metadata": {},
   "outputs": [
    {
     "name": "stdout",
     "output_type": "stream",
     "text": [
      "[ColumnTransformer] ........ (1 of 3) Processing scaler, total=   0.0s\n",
      "[ColumnTransformer] ........... (2 of 3) Processing ohe, total=   0.0s\n",
      "[ColumnTransformer] ..... (3 of 3) Processing remainder, total=   0.0s\n"
     ]
    },
    {
     "name": "stderr",
     "output_type": "stream",
     "text": [
      "C:\\Users\\bwils\\OneDrive\\Documents\\GitHub\\Pump-it-up\\model_prep\\gfn.py:36: UserWarning: Transformer scaler (type StandardScaler) does not provide get_feature_names. Will return input column names if available\n",
      "  warnings.warn(\"Transformer %s (type %s) does not \"\n",
      "[Parallel(n_jobs=-1)]: Using backend DaskDistributedBackend with 6 concurrent workers.\n",
      "[Parallel(n_jobs=-1)]: Done 104 tasks      | elapsed:    0.3s\n",
      "[Parallel(n_jobs=-1)]: Done 250 out of 250 | elapsed:    0.8s finished\n",
      "[Parallel(n_jobs=1)]: Using backend SequentialBackend with 1 concurrent workers.\n",
      "[Parallel(n_jobs=1)]: Done 250 out of 250 | elapsed:    0.0s finished\n"
     ]
    },
    {
     "name": "stdout",
     "output_type": "stream",
     "text": [
      "[ColumnTransformer] ........ (1 of 3) Processing scaler, total=   0.0s\n",
      "[ColumnTransformer] ........... (2 of 3) Processing ohe, total=   0.0s\n",
      "[ColumnTransformer] ..... (3 of 3) Processing remainder, total=   0.0s\n"
     ]
    },
    {
     "name": "stderr",
     "output_type": "stream",
     "text": [
      "C:\\Users\\bwils\\OneDrive\\Documents\\GitHub\\Pump-it-up\\model_prep\\gfn.py:36: UserWarning: Transformer scaler (type StandardScaler) does not provide get_feature_names. Will return input column names if available\n",
      "  warnings.warn(\"Transformer %s (type %s) does not \"\n",
      "[Parallel(n_jobs=-1)]: Using backend DaskDistributedBackend with 6 concurrent workers.\n",
      "[Parallel(n_jobs=-1)]: Done  38 tasks      | elapsed:    1.4s\n",
      "[Parallel(n_jobs=-1)]: Done 239 out of 250 | elapsed:    3.0s remaining:    0.0s\n",
      "[Parallel(n_jobs=-1)]: Done 250 out of 250 | elapsed:    3.0s finished\n",
      "[Parallel(n_jobs=1)]: Using backend SequentialBackend with 1 concurrent workers.\n",
      "[Parallel(n_jobs=1)]: Done 250 out of 250 | elapsed:    0.2s finished\n"
     ]
    },
    {
     "name": "stdout",
     "output_type": "stream",
     "text": [
      "[ColumnTransformer] ........ (1 of 3) Processing scaler, total=   0.0s\n",
      "[ColumnTransformer] ........... (2 of 3) Processing ohe, total=   0.2s\n",
      "[ColumnTransformer] ..... (3 of 3) Processing remainder, total=   0.0s\n"
     ]
    },
    {
     "name": "stderr",
     "output_type": "stream",
     "text": [
      "C:\\Users\\bwils\\OneDrive\\Documents\\GitHub\\Pump-it-up\\model_prep\\gfn.py:36: UserWarning: Transformer scaler (type StandardScaler) does not provide get_feature_names. Will return input column names if available\n",
      "  warnings.warn(\"Transformer %s (type %s) does not \"\n",
      "[Parallel(n_jobs=-1)]: Using backend DaskDistributedBackend with 6 concurrent workers.\n",
      "[Parallel(n_jobs=-1)]: Done  38 tasks      | elapsed:    3.6s\n",
      "[Parallel(n_jobs=-1)]: Done 188 tasks      | elapsed:    8.2s\n",
      "[Parallel(n_jobs=-1)]: Done 250 out of 250 | elapsed:    9.9s finished\n",
      "[Parallel(n_jobs=1)]: Using backend SequentialBackend with 1 concurrent workers.\n",
      "[Parallel(n_jobs=1)]: Done 250 out of 250 | elapsed:    1.5s finished\n"
     ]
    },
    {
     "name": "stdout",
     "output_type": "stream",
     "text": [
      "[ColumnTransformer] ........ (1 of 3) Processing scaler, total=   0.0s\n",
      "[ColumnTransformer] ........... (2 of 3) Processing ohe, total=   0.4s\n",
      "[ColumnTransformer] ..... (3 of 3) Processing remainder, total=   0.0s\n"
     ]
    },
    {
     "name": "stderr",
     "output_type": "stream",
     "text": [
      "C:\\Users\\bwils\\OneDrive\\Documents\\GitHub\\Pump-it-up\\model_prep\\gfn.py:36: UserWarning: Transformer scaler (type StandardScaler) does not provide get_feature_names. Will return input column names if available\n",
      "  warnings.warn(\"Transformer %s (type %s) does not \"\n",
      "[Parallel(n_jobs=-1)]: Using backend DaskDistributedBackend with 6 concurrent workers.\n",
      "[Parallel(n_jobs=-1)]: Done  38 tasks      | elapsed:    9.0s\n",
      "[Parallel(n_jobs=-1)]: Done 188 tasks      | elapsed:   18.9s\n",
      "[Parallel(n_jobs=-1)]: Done 250 out of 250 | elapsed:   23.0s finished\n",
      "[Parallel(n_jobs=1)]: Using backend SequentialBackend with 1 concurrent workers.\n",
      "[Parallel(n_jobs=1)]: Done 250 out of 250 | elapsed:    0.5s finished\n"
     ]
    },
    {
     "name": "stdout",
     "output_type": "stream",
     "text": [
      "[ColumnTransformer] ........ (1 of 3) Processing scaler, total=   0.0s\n",
      "[ColumnTransformer] ........... (2 of 3) Processing ohe, total=   0.4s\n",
      "[ColumnTransformer] ..... (3 of 3) Processing remainder, total=   0.0s\n"
     ]
    },
    {
     "name": "stderr",
     "output_type": "stream",
     "text": [
      "C:\\Users\\bwils\\OneDrive\\Documents\\GitHub\\Pump-it-up\\model_prep\\gfn.py:36: UserWarning: Transformer scaler (type StandardScaler) does not provide get_feature_names. Will return input column names if available\n",
      "  warnings.warn(\"Transformer %s (type %s) does not \"\n",
      "[Parallel(n_jobs=-1)]: Using backend DaskDistributedBackend with 6 concurrent workers.\n",
      "[Parallel(n_jobs=-1)]: Done  38 tasks      | elapsed:    9.1s\n",
      "[Parallel(n_jobs=-1)]: Done 188 tasks      | elapsed:   20.6s\n",
      "[Parallel(n_jobs=-1)]: Done 250 out of 250 | elapsed:   24.8s finished\n",
      "[Parallel(n_jobs=1)]: Using backend SequentialBackend with 1 concurrent workers.\n",
      "[Parallel(n_jobs=1)]: Done 250 out of 250 | elapsed:    0.0s finished\n"
     ]
    },
    {
     "name": "stdout",
     "output_type": "stream",
     "text": [
      "[ColumnTransformer] ........ (1 of 3) Processing scaler, total=   0.0s\n",
      "[ColumnTransformer] ........... (2 of 3) Processing ohe, total=   0.4s\n",
      "[ColumnTransformer] ..... (3 of 3) Processing remainder, total=   0.0s\n"
     ]
    },
    {
     "name": "stderr",
     "output_type": "stream",
     "text": [
      "C:\\Users\\bwils\\OneDrive\\Documents\\GitHub\\Pump-it-up\\model_prep\\gfn.py:36: UserWarning: Transformer scaler (type StandardScaler) does not provide get_feature_names. Will return input column names if available\n",
      "  warnings.warn(\"Transformer %s (type %s) does not \"\n",
      "[Parallel(n_jobs=-1)]: Using backend DaskDistributedBackend with 6 concurrent workers.\n",
      "[Parallel(n_jobs=-1)]: Done  38 tasks      | elapsed:    8.2s\n",
      "[Parallel(n_jobs=-1)]: Done 188 tasks      | elapsed:   19.0s\n",
      "[Parallel(n_jobs=-1)]: Done 250 out of 250 | elapsed:   23.5s finished\n",
      "[Parallel(n_jobs=1)]: Using backend SequentialBackend with 1 concurrent workers.\n",
      "[Parallel(n_jobs=1)]: Done 250 out of 250 | elapsed:    0.0s finished\n"
     ]
    },
    {
     "name": "stdout",
     "output_type": "stream",
     "text": [
      "[ColumnTransformer] ........ (1 of 3) Processing scaler, total=   0.0s\n",
      "[ColumnTransformer] ........... (2 of 3) Processing ohe, total=   0.3s\n",
      "[ColumnTransformer] ..... (3 of 3) Processing remainder, total=   0.0s\n"
     ]
    },
    {
     "name": "stderr",
     "output_type": "stream",
     "text": [
      "C:\\Users\\bwils\\OneDrive\\Documents\\GitHub\\Pump-it-up\\model_prep\\gfn.py:36: UserWarning: Transformer scaler (type StandardScaler) does not provide get_feature_names. Will return input column names if available\n",
      "  warnings.warn(\"Transformer %s (type %s) does not \"\n",
      "[Parallel(n_jobs=-1)]: Using backend DaskDistributedBackend with 6 concurrent workers.\n",
      "[Parallel(n_jobs=-1)]: Done  38 tasks      | elapsed:    8.5s\n",
      "[Parallel(n_jobs=-1)]: Done 188 tasks      | elapsed:   19.8s\n",
      "[Parallel(n_jobs=-1)]: Done 250 out of 250 | elapsed:   24.3s finished\n",
      "[Parallel(n_jobs=1)]: Using backend SequentialBackend with 1 concurrent workers.\n",
      "[Parallel(n_jobs=1)]: Done 250 out of 250 | elapsed:    0.9s finished\n"
     ]
    },
    {
     "name": "stdout",
     "output_type": "stream",
     "text": [
      "[ColumnTransformer] ........ (1 of 3) Processing scaler, total=   0.0s\n",
      "[ColumnTransformer] ........... (2 of 3) Processing ohe, total=   0.4s\n",
      "[ColumnTransformer] ..... (3 of 3) Processing remainder, total=   0.0s\n"
     ]
    },
    {
     "name": "stderr",
     "output_type": "stream",
     "text": [
      "C:\\Users\\bwils\\OneDrive\\Documents\\GitHub\\Pump-it-up\\model_prep\\gfn.py:36: UserWarning: Transformer scaler (type StandardScaler) does not provide get_feature_names. Will return input column names if available\n",
      "  warnings.warn(\"Transformer %s (type %s) does not \"\n",
      "[Parallel(n_jobs=-1)]: Using backend DaskDistributedBackend with 6 concurrent workers.\n",
      "[Parallel(n_jobs=-1)]: Done  38 tasks      | elapsed:   10.0s\n",
      "[Parallel(n_jobs=-1)]: Done 188 tasks      | elapsed:   25.7s\n",
      "[Parallel(n_jobs=-1)]: Done 250 out of 250 | elapsed:   32.0s finished\n",
      "[Parallel(n_jobs=1)]: Using backend SequentialBackend with 1 concurrent workers.\n",
      "[Parallel(n_jobs=1)]: Done 250 out of 250 | elapsed:    0.4s finished\n"
     ]
    },
    {
     "name": "stdout",
     "output_type": "stream",
     "text": [
      "[ColumnTransformer] ........ (1 of 3) Processing scaler, total=   0.0s\n",
      "[ColumnTransformer] ........... (2 of 3) Processing ohe, total=   0.4s\n",
      "[ColumnTransformer] ..... (3 of 3) Processing remainder, total=   0.0s\n"
     ]
    },
    {
     "name": "stderr",
     "output_type": "stream",
     "text": [
      "C:\\Users\\bwils\\OneDrive\\Documents\\GitHub\\Pump-it-up\\model_prep\\gfn.py:36: UserWarning: Transformer scaler (type StandardScaler) does not provide get_feature_names. Will return input column names if available\n",
      "  warnings.warn(\"Transformer %s (type %s) does not \"\n",
      "[Parallel(n_jobs=-1)]: Using backend DaskDistributedBackend with 6 concurrent workers.\n",
      "[Parallel(n_jobs=-1)]: Done  38 tasks      | elapsed:   12.2s\n",
      "[Parallel(n_jobs=-1)]: Done 188 tasks      | elapsed:   27.1s\n",
      "[Parallel(n_jobs=-1)]: Done 250 out of 250 | elapsed:   33.2s finished\n",
      "[Parallel(n_jobs=1)]: Using backend SequentialBackend with 1 concurrent workers.\n",
      "[Parallel(n_jobs=1)]: Done 250 out of 250 | elapsed:    0.0s finished\n"
     ]
    },
    {
     "name": "stdout",
     "output_type": "stream",
     "text": [
      "[ColumnTransformer] ........ (1 of 3) Processing scaler, total=   0.0s\n",
      "[ColumnTransformer] ........... (2 of 3) Processing ohe, total=   0.5s\n",
      "[ColumnTransformer] ..... (3 of 3) Processing remainder, total=   0.0s\n"
     ]
    },
    {
     "name": "stderr",
     "output_type": "stream",
     "text": [
      "C:\\Users\\bwils\\OneDrive\\Documents\\GitHub\\Pump-it-up\\model_prep\\gfn.py:36: UserWarning: Transformer scaler (type StandardScaler) does not provide get_feature_names. Will return input column names if available\n",
      "  warnings.warn(\"Transformer %s (type %s) does not \"\n",
      "[Parallel(n_jobs=-1)]: Using backend DaskDistributedBackend with 6 concurrent workers.\n",
      "[Parallel(n_jobs=-1)]: Done  38 tasks      | elapsed:   10.1s\n",
      "[Parallel(n_jobs=-1)]: Done 188 tasks      | elapsed:   27.1s\n",
      "[Parallel(n_jobs=-1)]: Done 250 out of 250 | elapsed:   32.7s finished\n",
      "[Parallel(n_jobs=1)]: Using backend SequentialBackend with 1 concurrent workers.\n",
      "[Parallel(n_jobs=1)]: Done 250 out of 250 | elapsed:    0.0s finished\n"
     ]
    },
    {
     "name": "stdout",
     "output_type": "stream",
     "text": [
      "[ColumnTransformer] ........ (1 of 3) Processing scaler, total=   0.0s\n",
      "[ColumnTransformer] ........... (2 of 3) Processing ohe, total=   0.5s\n",
      "[ColumnTransformer] ..... (3 of 3) Processing remainder, total=   0.0s\n"
     ]
    },
    {
     "name": "stderr",
     "output_type": "stream",
     "text": [
      "C:\\Users\\bwils\\OneDrive\\Documents\\GitHub\\Pump-it-up\\model_prep\\gfn.py:36: UserWarning: Transformer scaler (type StandardScaler) does not provide get_feature_names. Will return input column names if available\n",
      "  warnings.warn(\"Transformer %s (type %s) does not \"\n",
      "[Parallel(n_jobs=-1)]: Using backend DaskDistributedBackend with 6 concurrent workers.\n",
      "[Parallel(n_jobs=-1)]: Done  38 tasks      | elapsed:   12.7s\n",
      "[Parallel(n_jobs=-1)]: Done 188 tasks      | elapsed:   28.6s\n",
      "[Parallel(n_jobs=-1)]: Done 250 out of 250 | elapsed:   35.4s finished\n",
      "[Parallel(n_jobs=1)]: Using backend SequentialBackend with 1 concurrent workers.\n",
      "[Parallel(n_jobs=1)]: Done 250 out of 250 | elapsed:    0.0s finished\n"
     ]
    },
    {
     "name": "stdout",
     "output_type": "stream",
     "text": [
      "[ColumnTransformer] ........ (1 of 3) Processing scaler, total=   0.0s\n",
      "[ColumnTransformer] ........... (2 of 3) Processing ohe, total=   0.5s\n",
      "[ColumnTransformer] ..... (3 of 3) Processing remainder, total=   0.0s\n"
     ]
    },
    {
     "name": "stderr",
     "output_type": "stream",
     "text": [
      "C:\\Users\\bwils\\OneDrive\\Documents\\GitHub\\Pump-it-up\\model_prep\\gfn.py:36: UserWarning: Transformer scaler (type StandardScaler) does not provide get_feature_names. Will return input column names if available\n",
      "  warnings.warn(\"Transformer %s (type %s) does not \"\n",
      "[Parallel(n_jobs=-1)]: Using backend DaskDistributedBackend with 6 concurrent workers.\n",
      "[Parallel(n_jobs=-1)]: Done  38 tasks      | elapsed:   15.4s\n",
      "[Parallel(n_jobs=-1)]: Done 188 tasks      | elapsed:   34.4s\n",
      "[Parallel(n_jobs=-1)]: Done 250 out of 250 | elapsed:   42.0s finished\n",
      "[Parallel(n_jobs=1)]: Using backend SequentialBackend with 1 concurrent workers.\n",
      "[Parallel(n_jobs=1)]: Done 250 out of 250 | elapsed:    0.0s finished\n"
     ]
    },
    {
     "data": {
      "text/plain": [
       "{'month_predicted': ['2011-1',\n",
       "  '2011-2',\n",
       "  '2011-3',\n",
       "  '2011-4',\n",
       "  '2011-5',\n",
       "  '2011-6',\n",
       "  '2011-7',\n",
       "  '2011-8',\n",
       "  '2011-9',\n",
       "  '2011-10',\n",
       "  '2011-11',\n",
       "  '2011-12'],\n",
       " 'accuracy': [0.9292929292929293,\n",
       "  0.7635256180580438,\n",
       "  0.7365208545269583,\n",
       "  0.6433489396860369,\n",
       "  1.0,\n",
       "  0.9587628865979382,\n",
       "  0.7072105976215566,\n",
       "  0.7145545796737767,\n",
       "  0.7176470588235294,\n",
       "  0.8172043010752689,\n",
       "  0.9469026548672567,\n",
       "  0.9537037037037037],\n",
       " 'train_data': [31,\n",
       "  6384,\n",
       "  18786,\n",
       "  36717,\n",
       "  40685,\n",
       "  41019,\n",
       "  41364,\n",
       "  48291,\n",
       "  51653,\n",
       "  51979,\n",
       "  57444,\n",
       "  58793],\n",
       " 'test_data': [99, 2791, 11796, 3631, 30, 97, 6643, 3188, 85, 93, 113, 108]}"
      ]
     },
     "execution_count": 12,
     "metadata": {},
     "output_type": "execute_result"
    }
   ],
   "source": [
    "rf = RandomForestClassifier(n_estimators=250, criterion='gini', class_weight='balanced_subsample', verbose=True)        \n",
    "years = [2011]#, 2012, 2013]\n",
    "months = range(1,13)\n",
    "month_score = {'month_predicted':[], 'accuracy':[], 'train_data':[], 'test_data':[]}\n",
    "for year in years:\n",
    "    for month in months:\n",
    "        if month in model_data.loc[model_data['year']==year, 'month'].unique():\n",
    "            X, y, tX, ty = prep_train_month(model_data, 'class', 2011, month)\n",
    "            with joblib.parallel_backend('dask'):\n",
    "                rf.fit(X, np.ravel(y))\n",
    "            month_score['month_predicted'].append('{year}-{month}'.format(year=year, month=month))\n",
    "            month_score['accuracy'].append(rf.score(tX, ty))\n",
    "            month_score['train_data'].append(len(y))\n",
    "            month_score['test_data'].append(len(ty))\n",
    "month_score"
   ]
  },
  {
   "cell_type": "code",
   "execution_count": 13,
   "metadata": {},
   "outputs": [
    {
     "data": {
      "text/html": [
       "<div>\n",
       "<style scoped>\n",
       "    .dataframe tbody tr th:only-of-type {\n",
       "        vertical-align: middle;\n",
       "    }\n",
       "\n",
       "    .dataframe tbody tr th {\n",
       "        vertical-align: top;\n",
       "    }\n",
       "\n",
       "    .dataframe thead th {\n",
       "        text-align: right;\n",
       "    }\n",
       "</style>\n",
       "<table border=\"1\" class=\"dataframe\">\n",
       "  <thead>\n",
       "    <tr style=\"text-align: right;\">\n",
       "      <th></th>\n",
       "      <th>month_predicted</th>\n",
       "      <th>accuracy</th>\n",
       "      <th>train_data</th>\n",
       "      <th>test_data</th>\n",
       "    </tr>\n",
       "  </thead>\n",
       "  <tbody>\n",
       "    <tr>\n",
       "      <th>0</th>\n",
       "      <td>2011-1</td>\n",
       "      <td>0.929293</td>\n",
       "      <td>31</td>\n",
       "      <td>99</td>\n",
       "    </tr>\n",
       "    <tr>\n",
       "      <th>1</th>\n",
       "      <td>2011-2</td>\n",
       "      <td>0.763526</td>\n",
       "      <td>6384</td>\n",
       "      <td>2791</td>\n",
       "    </tr>\n",
       "    <tr>\n",
       "      <th>2</th>\n",
       "      <td>2011-3</td>\n",
       "      <td>0.736521</td>\n",
       "      <td>18786</td>\n",
       "      <td>11796</td>\n",
       "    </tr>\n",
       "    <tr>\n",
       "      <th>3</th>\n",
       "      <td>2011-4</td>\n",
       "      <td>0.643349</td>\n",
       "      <td>36717</td>\n",
       "      <td>3631</td>\n",
       "    </tr>\n",
       "    <tr>\n",
       "      <th>4</th>\n",
       "      <td>2011-5</td>\n",
       "      <td>1.000000</td>\n",
       "      <td>40685</td>\n",
       "      <td>30</td>\n",
       "    </tr>\n",
       "    <tr>\n",
       "      <th>5</th>\n",
       "      <td>2011-6</td>\n",
       "      <td>0.958763</td>\n",
       "      <td>41019</td>\n",
       "      <td>97</td>\n",
       "    </tr>\n",
       "    <tr>\n",
       "      <th>6</th>\n",
       "      <td>2011-7</td>\n",
       "      <td>0.707211</td>\n",
       "      <td>41364</td>\n",
       "      <td>6643</td>\n",
       "    </tr>\n",
       "    <tr>\n",
       "      <th>7</th>\n",
       "      <td>2011-8</td>\n",
       "      <td>0.714555</td>\n",
       "      <td>48291</td>\n",
       "      <td>3188</td>\n",
       "    </tr>\n",
       "    <tr>\n",
       "      <th>8</th>\n",
       "      <td>2011-9</td>\n",
       "      <td>0.717647</td>\n",
       "      <td>51653</td>\n",
       "      <td>85</td>\n",
       "    </tr>\n",
       "    <tr>\n",
       "      <th>9</th>\n",
       "      <td>2011-10</td>\n",
       "      <td>0.817204</td>\n",
       "      <td>51979</td>\n",
       "      <td>93</td>\n",
       "    </tr>\n",
       "    <tr>\n",
       "      <th>10</th>\n",
       "      <td>2011-11</td>\n",
       "      <td>0.946903</td>\n",
       "      <td>57444</td>\n",
       "      <td>113</td>\n",
       "    </tr>\n",
       "    <tr>\n",
       "      <th>11</th>\n",
       "      <td>2011-12</td>\n",
       "      <td>0.953704</td>\n",
       "      <td>58793</td>\n",
       "      <td>108</td>\n",
       "    </tr>\n",
       "  </tbody>\n",
       "</table>\n",
       "</div>"
      ],
      "text/plain": [
       "   month_predicted  accuracy  train_data  test_data\n",
       "0           2011-1  0.929293          31         99\n",
       "1           2011-2  0.763526        6384       2791\n",
       "2           2011-3  0.736521       18786      11796\n",
       "3           2011-4  0.643349       36717       3631\n",
       "4           2011-5  1.000000       40685         30\n",
       "5           2011-6  0.958763       41019         97\n",
       "6           2011-7  0.707211       41364       6643\n",
       "7           2011-8  0.714555       48291       3188\n",
       "8           2011-9  0.717647       51653         85\n",
       "9          2011-10  0.817204       51979         93\n",
       "10         2011-11  0.946903       57444        113\n",
       "11         2011-12  0.953704       58793        108"
      ]
     },
     "execution_count": 13,
     "metadata": {},
     "output_type": "execute_result"
    }
   ],
   "source": [
    "month_score_df = pd.DataFrame(month_score)\n",
    "month_score_df"
   ]
  },
  {
   "cell_type": "code",
   "execution_count": 14,
   "metadata": {
    "scrolled": false
   },
   "outputs": [
    {
     "data": {
      "image/png": "[encoded data removed]",
      "text/plain": [
       "<Figure size 1152x720 with 2 Axes>"
      ]
     },
     "metadata": {
      "needs_background": "light"
     },
     "output_type": "display_data"
    }
   ],
   "source": [
    "fig, (ax1, ax2) = plt.subplots(2, sharex=True, figsize=(16, 10))\n",
    "fig.suptitle('Accuracy of Model by Month and Compared to Amount of Training and Testing Data')\n",
    "sns.lineplot(data=month_score_df, x='month_predicted', y='accuracy', ax=ax1)\n",
    "sns.barplot(data=pd.melt(month_score_df.drop(columns='accuracy'), id_vars='month_predicted'), x='month_predicted', \n",
    "            y='value', ax=ax2, hue='variable')\n",
    "ax2.set_ylabel('Amount of Data')\n",
    "ax2.set_yscale('log')\n",
    "plt.xticks(rotation=90)\n",
    "ax2.legend()\n",
    "plt.show()"
   ]
  },
  {
   "cell_type": "markdown",
   "metadata": {},
   "source": [
    "There appears to be some noise when zooming into each month. This is likely a combination of seasonal patterns on function of wellpoints, amount of inspections, ease of maintenance and available remaining budget. Let's zoom a little farther out to every 3 months and see if a pattern is more discernable. "
   ]
  },
  {
   "cell_type": "code",
   "execution_count": 15,
   "metadata": {
    "scrolled": true
   },
   "outputs": [
    {
     "name": "stdout",
     "output_type": "stream",
     "text": [
      "[ColumnTransformer] ........ (1 of 3) Processing scaler, total=   0.0s\n",
      "[ColumnTransformer] ........... (2 of 3) Processing ohe, total=   0.2s\n",
      "[ColumnTransformer] ..... (3 of 3) Processing remainder, total=   0.0s\n"
     ]
    },
    {
     "name": "stderr",
     "output_type": "stream",
     "text": [
      "C:\\Users\\bwils\\OneDrive\\Documents\\GitHub\\Pump-it-up\\model_prep\\gfn.py:36: UserWarning: Transformer scaler (type StandardScaler) does not provide get_feature_names. Will return input column names if available\n",
      "  warnings.warn(\"Transformer %s (type %s) does not \"\n",
      "[Parallel(n_jobs=-1)]: Using backend DaskDistributedBackend with 6 concurrent workers.\n",
      "[Parallel(n_jobs=-1)]: Done  38 tasks      | elapsed:    4.4s\n",
      "[Parallel(n_jobs=-1)]: Done 188 tasks      | elapsed:    9.3s\n",
      "[Parallel(n_jobs=-1)]: Done 250 out of 250 | elapsed:   10.9s finished\n",
      "[Parallel(n_jobs=1)]: Using backend SequentialBackend with 1 concurrent workers.\n",
      "[Parallel(n_jobs=1)]: Done 250 out of 250 | elapsed:    1.4s finished\n"
     ]
    },
    {
     "name": "stdout",
     "output_type": "stream",
     "text": [
      "[ColumnTransformer] ........ (1 of 3) Processing scaler, total=   0.0s\n",
      "[ColumnTransformer] ........... (2 of 3) Processing ohe, total=   0.3s\n",
      "[ColumnTransformer] ..... (3 of 3) Processing remainder, total=   0.0s\n"
     ]
    },
    {
     "name": "stderr",
     "output_type": "stream",
     "text": [
      "C:\\Users\\bwils\\OneDrive\\Documents\\GitHub\\Pump-it-up\\model_prep\\gfn.py:36: UserWarning: Transformer scaler (type StandardScaler) does not provide get_feature_names. Will return input column names if available\n",
      "  warnings.warn(\"Transformer %s (type %s) does not \"\n",
      "[Parallel(n_jobs=-1)]: Using backend DaskDistributedBackend with 6 concurrent workers.\n",
      "[Parallel(n_jobs=-1)]: Done  38 tasks      | elapsed:    8.8s\n",
      "[Parallel(n_jobs=-1)]: Done 188 tasks      | elapsed:   20.4s\n",
      "[Parallel(n_jobs=-1)]: Done 250 out of 250 | elapsed:   24.8s finished\n",
      "[Parallel(n_jobs=1)]: Using backend SequentialBackend with 1 concurrent workers.\n",
      "[Parallel(n_jobs=1)]: Done 250 out of 250 | elapsed:    0.0s finished\n"
     ]
    },
    {
     "name": "stdout",
     "output_type": "stream",
     "text": [
      "[ColumnTransformer] ........ (1 of 3) Processing scaler, total=   0.0s\n",
      "[ColumnTransformer] ........... (2 of 3) Processing ohe, total=   0.5s\n",
      "[ColumnTransformer] ..... (3 of 3) Processing remainder, total=   0.0s\n"
     ]
    },
    {
     "name": "stderr",
     "output_type": "stream",
     "text": [
      "C:\\Users\\bwils\\OneDrive\\Documents\\GitHub\\Pump-it-up\\model_prep\\gfn.py:36: UserWarning: Transformer scaler (type StandardScaler) does not provide get_feature_names. Will return input column names if available\n",
      "  warnings.warn(\"Transformer %s (type %s) does not \"\n",
      "[Parallel(n_jobs=-1)]: Using backend DaskDistributedBackend with 6 concurrent workers.\n",
      "[Parallel(n_jobs=-1)]: Done  38 tasks      | elapsed:   12.0s\n",
      "[Parallel(n_jobs=-1)]: Done 188 tasks      | elapsed:   26.9s\n",
      "[Parallel(n_jobs=-1)]: Done 250 out of 250 | elapsed:   32.2s finished\n",
      "[Parallel(n_jobs=1)]: Using backend SequentialBackend with 1 concurrent workers.\n",
      "[Parallel(n_jobs=1)]: Done 250 out of 250 | elapsed:    0.0s finished\n"
     ]
    },
    {
     "name": "stdout",
     "output_type": "stream",
     "text": [
      "[ColumnTransformer] ........ (1 of 3) Processing scaler, total=   0.0s\n",
      "[ColumnTransformer] ........... (2 of 3) Processing ohe, total=   0.5s\n",
      "[ColumnTransformer] ..... (3 of 3) Processing remainder, total=   0.0s\n"
     ]
    },
    {
     "name": "stderr",
     "output_type": "stream",
     "text": [
      "C:\\Users\\bwils\\OneDrive\\Documents\\GitHub\\Pump-it-up\\model_prep\\gfn.py:36: UserWarning: Transformer scaler (type StandardScaler) does not provide get_feature_names. Will return input column names if available\n",
      "  warnings.warn(\"Transformer %s (type %s) does not \"\n",
      "[Parallel(n_jobs=-1)]: Using backend DaskDistributedBackend with 6 concurrent workers.\n",
      "[Parallel(n_jobs=-1)]: Done  38 tasks      | elapsed:   11.6s\n",
      "[Parallel(n_jobs=-1)]: Done 188 tasks      | elapsed:   29.0s\n",
      "[Parallel(n_jobs=-1)]: Done 250 out of 250 | elapsed:   36.4s finished\n",
      "[Parallel(n_jobs=1)]: Using backend SequentialBackend with 1 concurrent workers.\n",
      "[Parallel(n_jobs=1)]: Done 250 out of 250 | elapsed:    0.0s finished\n"
     ]
    },
    {
     "name": "stdout",
     "output_type": "stream",
     "text": [
      "[ColumnTransformer] ........ (1 of 3) Processing scaler, total=   0.0s\n",
      "[ColumnTransformer] ........... (2 of 3) Processing ohe, total=   0.5s\n",
      "[ColumnTransformer] ..... (3 of 3) Processing remainder, total=   0.0s\n"
     ]
    },
    {
     "name": "stderr",
     "output_type": "stream",
     "text": [
      "C:\\Users\\bwils\\OneDrive\\Documents\\GitHub\\Pump-it-up\\model_prep\\gfn.py:36: UserWarning: Transformer scaler (type StandardScaler) does not provide get_feature_names. Will return input column names if available\n",
      "  warnings.warn(\"Transformer %s (type %s) does not \"\n",
      "[Parallel(n_jobs=-1)]: Using backend DaskDistributedBackend with 6 concurrent workers.\n",
      "[Parallel(n_jobs=-1)]: Done  38 tasks      | elapsed:   13.0s\n",
      "[Parallel(n_jobs=-1)]: Done 188 tasks      | elapsed:   30.8s\n",
      "[Parallel(n_jobs=-1)]: Done 250 out of 250 | elapsed:   38.4s finished\n",
      "[Parallel(n_jobs=1)]: Using backend SequentialBackend with 1 concurrent workers.\n",
      "[Parallel(n_jobs=1)]: Done 250 out of 250 | elapsed:    0.0s finished\n"
     ]
    },
    {
     "name": "stdout",
     "output_type": "stream",
     "text": [
      "[ColumnTransformer] ........ (1 of 3) Processing scaler, total=   0.0s\n",
      "[ColumnTransformer] ........... (2 of 3) Processing ohe, total=   0.6s\n",
      "[ColumnTransformer] ..... (3 of 3) Processing remainder, total=   0.0s\n"
     ]
    },
    {
     "name": "stderr",
     "output_type": "stream",
     "text": [
      "C:\\Users\\bwils\\OneDrive\\Documents\\GitHub\\Pump-it-up\\model_prep\\gfn.py:36: UserWarning: Transformer scaler (type StandardScaler) does not provide get_feature_names. Will return input column names if available\n",
      "  warnings.warn(\"Transformer %s (type %s) does not \"\n",
      "[Parallel(n_jobs=-1)]: Using backend DaskDistributedBackend with 6 concurrent workers.\n",
      "[Parallel(n_jobs=-1)]: Done  38 tasks      | elapsed:   10.5s\n",
      "[Parallel(n_jobs=-1)]: Done 188 tasks      | elapsed:   23.3s\n",
      "[Parallel(n_jobs=-1)]: Done 250 out of 250 | elapsed:   28.3s finished\n",
      "[Parallel(n_jobs=1)]: Using backend SequentialBackend with 1 concurrent workers.\n",
      "[Parallel(n_jobs=1)]: Done 250 out of 250 | elapsed:    0.8s finished\n"
     ]
    },
    {
     "name": "stdout",
     "output_type": "stream",
     "text": [
      "[ColumnTransformer] ........ (1 of 3) Processing scaler, total=   0.0s\n",
      "[ColumnTransformer] ........... (2 of 3) Processing ohe, total=   0.5s\n",
      "[ColumnTransformer] ..... (3 of 3) Processing remainder, total=   0.0s\n"
     ]
    },
    {
     "name": "stderr",
     "output_type": "stream",
     "text": [
      "C:\\Users\\bwils\\OneDrive\\Documents\\GitHub\\Pump-it-up\\model_prep\\gfn.py:36: UserWarning: Transformer scaler (type StandardScaler) does not provide get_feature_names. Will return input column names if available\n",
      "  warnings.warn(\"Transformer %s (type %s) does not \"\n",
      "[Parallel(n_jobs=-1)]: Using backend DaskDistributedBackend with 6 concurrent workers.\n",
      "[Parallel(n_jobs=-1)]: Done  38 tasks      | elapsed:   12.2s\n",
      "[Parallel(n_jobs=-1)]: Done 188 tasks      | elapsed:   26.9s\n",
      "[Parallel(n_jobs=-1)]: Done 250 out of 250 | elapsed:   32.9s finished\n",
      "[Parallel(n_jobs=1)]: Using backend SequentialBackend with 1 concurrent workers.\n",
      "[Parallel(n_jobs=1)]: Done 250 out of 250 | elapsed:    0.0s finished\n"
     ]
    },
    {
     "name": "stdout",
     "output_type": "stream",
     "text": [
      "[ColumnTransformer] ........ (1 of 3) Processing scaler, total=   0.0s\n",
      "[ColumnTransformer] ........... (2 of 3) Processing ohe, total=   0.4s\n",
      "[ColumnTransformer] ..... (3 of 3) Processing remainder, total=   0.0s\n"
     ]
    },
    {
     "name": "stderr",
     "output_type": "stream",
     "text": [
      "C:\\Users\\bwils\\OneDrive\\Documents\\GitHub\\Pump-it-up\\model_prep\\gfn.py:36: UserWarning: Transformer scaler (type StandardScaler) does not provide get_feature_names. Will return input column names if available\n",
      "  warnings.warn(\"Transformer %s (type %s) does not \"\n",
      "[Parallel(n_jobs=-1)]: Using backend DaskDistributedBackend with 6 concurrent workers.\n",
      "[Parallel(n_jobs=-1)]: Done  38 tasks      | elapsed:   12.1s\n",
      "[Parallel(n_jobs=-1)]: Done 188 tasks      | elapsed:   27.0s\n",
      "[Parallel(n_jobs=-1)]: Done 250 out of 250 | elapsed:   33.2s finished\n",
      "[Parallel(n_jobs=1)]: Using backend SequentialBackend with 1 concurrent workers.\n",
      "[Parallel(n_jobs=1)]: Done 250 out of 250 | elapsed:    0.0s finished\n"
     ]
    },
    {
     "name": "stdout",
     "output_type": "stream",
     "text": [
      "[ColumnTransformer] ........ (1 of 3) Processing scaler, total=   0.0s\n",
      "[ColumnTransformer] ........... (2 of 3) Processing ohe, total=   0.4s\n",
      "[ColumnTransformer] ..... (3 of 3) Processing remainder, total=   0.0s\n"
     ]
    },
    {
     "name": "stderr",
     "output_type": "stream",
     "text": [
      "C:\\Users\\bwils\\OneDrive\\Documents\\GitHub\\Pump-it-up\\model_prep\\gfn.py:36: UserWarning: Transformer scaler (type StandardScaler) does not provide get_feature_names. Will return input column names if available\n",
      "  warnings.warn(\"Transformer %s (type %s) does not \"\n",
      "[Parallel(n_jobs=-1)]: Using backend DaskDistributedBackend with 6 concurrent workers.\n",
      "[Parallel(n_jobs=-1)]: Done  38 tasks      | elapsed:   12.5s\n",
      "[Parallel(n_jobs=-1)]: Done 188 tasks      | elapsed:   27.9s\n",
      "[Parallel(n_jobs=-1)]: Done 250 out of 250 | elapsed:   34.3s finished\n",
      "[Parallel(n_jobs=1)]: Using backend SequentialBackend with 1 concurrent workers.\n",
      "[Parallel(n_jobs=1)]: Done 250 out of 250 | elapsed:    0.0s finished\n"
     ]
    },
    {
     "data": {
      "text/plain": [
       "{'month_predicted': ['2011-3',\n",
       "  '2011-6',\n",
       "  '2011-9',\n",
       "  '2011-12',\n",
       "  '2012-12',\n",
       "  '2013-3',\n",
       "  '2013-6',\n",
       "  '2013-9',\n",
       "  '2013-12'],\n",
       " 'accuracy': [0.7390640895218719,\n",
       "  0.9587628865979382,\n",
       "  0.6588235294117647,\n",
       "  0.9444444444444444,\n",
       "  0.7733333333333333,\n",
       "  0.7553382233088834,\n",
       "  0.7620967741935484,\n",
       "  0.9336099585062241,\n",
       "  0.8576642335766423],\n",
       " 'train_data': [18786, 41019, 51653, 58793, 58901, 50992, 57768, 58474, 59126],\n",
       " 'test_data': [11796, 97, 85, 108, 225, 6135, 248, 241, 274]}"
      ]
     },
     "execution_count": 15,
     "metadata": {},
     "output_type": "execute_result"
    }
   ],
   "source": [
    "rf = RandomForestClassifier(n_estimators=250, criterion='gini', class_weight='balanced_subsample', verbose=True)        \n",
    "years = [2011, 2012, 2013]\n",
    "months = range(0,13, 3)\n",
    "month3_score = {'month_predicted':[], 'accuracy':[], 'train_data':[], 'test_data':[]}\n",
    "for year in years:\n",
    "    for month in months:\n",
    "        if month in model_data.loc[model_data['year']==year, 'month'].unique():\n",
    "            X, y, tX, ty = prep_train_month(model_data, 'class', year, month)\n",
    "            with joblib.parallel_backend('dask'):\n",
    "                rf.fit(X, np.ravel(y))\n",
    "            month3_score['month_predicted'].append('{year}-{month}'.format(year=year, month=month))\n",
    "            month3_score['accuracy'].append(rf.score(tX, ty))\n",
    "            month3_score['train_data'].append(len(y))\n",
    "            month3_score['test_data'].append(len(ty))\n",
    "month3_score"
   ]
  },
  {
   "cell_type": "code",
   "execution_count": 16,
   "metadata": {
    "scrolled": true
   },
   "outputs": [
    {
     "data": {
      "text/html": [
       "<div>\n",
       "<style scoped>\n",
       "    .dataframe tbody tr th:only-of-type {\n",
       "        vertical-align: middle;\n",
       "    }\n",
       "\n",
       "    .dataframe tbody tr th {\n",
       "        vertical-align: top;\n",
       "    }\n",
       "\n",
       "    .dataframe thead th {\n",
       "        text-align: right;\n",
       "    }\n",
       "</style>\n",
       "<table border=\"1\" class=\"dataframe\">\n",
       "  <thead>\n",
       "    <tr style=\"text-align: right;\">\n",
       "      <th></th>\n",
       "      <th>month_predicted</th>\n",
       "      <th>accuracy</th>\n",
       "      <th>train_data</th>\n",
       "      <th>test_data</th>\n",
       "    </tr>\n",
       "  </thead>\n",
       "  <tbody>\n",
       "    <tr>\n",
       "      <th>0</th>\n",
       "      <td>2011-3</td>\n",
       "      <td>0.739064</td>\n",
       "      <td>18786</td>\n",
       "      <td>11796</td>\n",
       "    </tr>\n",
       "    <tr>\n",
       "      <th>1</th>\n",
       "      <td>2011-6</td>\n",
       "      <td>0.958763</td>\n",
       "      <td>41019</td>\n",
       "      <td>97</td>\n",
       "    </tr>\n",
       "    <tr>\n",
       "      <th>2</th>\n",
       "      <td>2011-9</td>\n",
       "      <td>0.658824</td>\n",
       "      <td>51653</td>\n",
       "      <td>85</td>\n",
       "    </tr>\n",
       "    <tr>\n",
       "      <th>3</th>\n",
       "      <td>2011-12</td>\n",
       "      <td>0.944444</td>\n",
       "      <td>58793</td>\n",
       "      <td>108</td>\n",
       "    </tr>\n",
       "    <tr>\n",
       "      <th>4</th>\n",
       "      <td>2012-12</td>\n",
       "      <td>0.773333</td>\n",
       "      <td>58901</td>\n",
       "      <td>225</td>\n",
       "    </tr>\n",
       "    <tr>\n",
       "      <th>5</th>\n",
       "      <td>2013-3</td>\n",
       "      <td>0.755338</td>\n",
       "      <td>50992</td>\n",
       "      <td>6135</td>\n",
       "    </tr>\n",
       "    <tr>\n",
       "      <th>6</th>\n",
       "      <td>2013-6</td>\n",
       "      <td>0.762097</td>\n",
       "      <td>57768</td>\n",
       "      <td>248</td>\n",
       "    </tr>\n",
       "    <tr>\n",
       "      <th>7</th>\n",
       "      <td>2013-9</td>\n",
       "      <td>0.933610</td>\n",
       "      <td>58474</td>\n",
       "      <td>241</td>\n",
       "    </tr>\n",
       "    <tr>\n",
       "      <th>8</th>\n",
       "      <td>2013-12</td>\n",
       "      <td>0.857664</td>\n",
       "      <td>59126</td>\n",
       "      <td>274</td>\n",
       "    </tr>\n",
       "  </tbody>\n",
       "</table>\n",
       "</div>"
      ],
      "text/plain": [
       "  month_predicted  accuracy  train_data  test_data\n",
       "0          2011-3  0.739064       18786      11796\n",
       "1          2011-6  0.958763       41019         97\n",
       "2          2011-9  0.658824       51653         85\n",
       "3         2011-12  0.944444       58793        108\n",
       "4         2012-12  0.773333       58901        225\n",
       "5          2013-3  0.755338       50992       6135\n",
       "6          2013-6  0.762097       57768        248\n",
       "7          2013-9  0.933610       58474        241\n",
       "8         2013-12  0.857664       59126        274"
      ]
     },
     "execution_count": 16,
     "metadata": {},
     "output_type": "execute_result"
    }
   ],
   "source": [
    "month3_score_df = pd.DataFrame(month3_score)\n",
    "month3_score_df"
   ]
  },
  {
   "cell_type": "code",
   "execution_count": 17,
   "metadata": {
    "scrolled": false
   },
   "outputs": [
    {
     "data": {
      "image/png": "[encoded data removed]",
      "text/plain": [
       "<Figure size 1152x720 with 2 Axes>"
      ]
     },
     "metadata": {
      "needs_background": "light"
     },
     "output_type": "display_data"
    }
   ],
   "source": [
    "fig, (ax1, ax2) = plt.subplots(2, sharex=True, figsize=(16, 10))\n",
    "fig.suptitle('Accuracy of Model by Month and Compared to Amount of Training and Testing Data')\n",
    "sns.lineplot(data=month3_score_df, x='month_predicted', y='accuracy', ax=ax1)\n",
    "sns.barplot(data=month3_score_df, x='month_predicted', y='train_data', ax=ax2, color='orange', label='train_data')\n",
    "sns.barplot(data=month3_score_df, x='month_predicted', y='test_data', ax=ax2, color='blue', label='test_data')\n",
    "ax2.set_ylabel('Amount of Data')\n",
    "ax2.set_yscale('log')\n",
    "plt.xticks(rotation=90)\n",
    "ax2.legend()\n",
    "plt.show()"
   ]
  },
  {
   "cell_type": "markdown",
   "metadata": {},
   "source": [
    "The visual above shows a good representation of the increase in the model accuracy over time. Though large dumps of inspections can cause problems for the model as the historical training data constinues to increase the difference between the train set and the testing set will be more consistently large. We can see that when we have a large difference between these two values we have a progression upwards for the accuracy of the model."
   ]
  }
 ],
 "metadata": {
  "kernelspec": {
   "display_name": "pumpitup",
   "language": "python",
   "name": "pumpitup"
  },
  "language_info": {
   "codemirror_mode": {
    "name": "ipython",
    "version": 3
   },
   "file_extension": ".py",
   "mimetype": "text/x-python",
   "name": "python",
   "nbconvert_exporter": "python",
   "pygments_lexer": "ipython3",
   "version": "3.9.2"
  }
 },
 "nbformat": 4,
 "nbformat_minor": 5
}
