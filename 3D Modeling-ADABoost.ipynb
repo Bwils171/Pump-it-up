{
 "cells": [
  {
   "cell_type": "code",
   "execution_count": 1,
   "metadata": {},
   "outputs": [],
   "source": [
    "#Read in standard packages\n",
    "import os\n",
    "import pandas as pd\n",
    "import numpy as np\n",
    "import matplotlib.pyplot as plt\n",
    "import seaborn as sns\n",
    "#import geopandas as gpd"
   ]
  },
  {
   "cell_type": "code",
   "execution_count": 14,
   "metadata": {},
   "outputs": [],
   "source": [
    "#read in ML packages/modules\n",
    "from sklearn.metrics import confusion_matrix, ConfusionMatrixDisplay\n",
    "from sklearn.model_selection import cross_val_score\n",
    "from sklearn.ensemble import AdaBoostClassifier, RandomForestClassifier\n",
    "from sklearn.metrics import classification_report\n",
    "from sklearn.linear_model import LogisticRegression\n",
    "from xgboost import XGBClassifier\n",
    "from sklearn.neighbors import KNeighborsClassifier"
   ]
  },
  {
   "cell_type": "code",
   "execution_count": 3,
   "metadata": {},
   "outputs": [
    {
     "data": {
      "text/plain": [
       "(<Scheduler: \"tcp://127.0.0.1:61674\" processes: 3 cores: 6>,\n",
       " {0: <Nanny: tcp://127.0.0.1:61692, threads: 2>,\n",
       "  1: <Nanny: tcp://127.0.0.1:61691, threads: 2>,\n",
       "  2: <Nanny: tcp://127.0.0.1:61697, threads: 2>})"
      ]
     },
     "execution_count": 3,
     "metadata": {},
     "output_type": "execute_result"
    }
   ],
   "source": [
    "#Read in dask package and set up to allow for faster compute times. Distributes computing among all availabel preocessors\n",
    "from dask import dataframe as dd\n",
    "import joblib\n",
    "from dask.distributed import Client, LocalCluster\n",
    "cluster = LocalCluster()\n",
    "client = Client(cluster)\n",
    "cluster.scheduler, cluster.workers"
   ]
  },
  {
   "cell_type": "markdown",
   "metadata": {},
   "source": [
    "### Read in training/testing data"
   ]
  },
  {
   "cell_type": "code",
   "execution_count": 4,
   "metadata": {},
   "outputs": [],
   "source": [
    "#Read in train/test data\n",
    "train_X = pd.read_pickle('Data/train_test/train_X.pkl')\n",
    "test_X = pd.read_pickle('Data/train_test/test_X.pkl')\n",
    "train_y = pd.read_pickle('Data/train_test/train_y.pkl')\n",
    "test_y = pd.read_pickle('Data/train_test/test_y.pkl')"
   ]
  },
  {
   "cell_type": "code",
   "execution_count": 5,
   "metadata": {},
   "outputs": [],
   "source": [
    "train_y = train_y.map({'functional':2, 'non functional':0, 'functional needs repair':1})\n",
    "test_y = test_y.map({'functional':2, 'non functional':0, 'functional needs repair':1})"
   ]
  },
  {
   "cell_type": "markdown",
   "metadata": {},
   "source": [
    "# ADABoost Classifier\n",
    "\n",
    "ADABoost is meant to use other classisfers as a base and weight incorrect responses higher as it moves through it's iterations. We will use two different types of models, Random Forest, Logistic Regression, as bases and see if we can inch up the accuracy a little bit higher."
   ]
  },
  {
   "cell_type": "code",
   "execution_count": 6,
   "metadata": {},
   "outputs": [
    {
     "data": {
      "text/plain": [
       "0.725993265993266"
      ]
     },
     "execution_count": 6,
     "metadata": {},
     "output_type": "execute_result"
    }
   ],
   "source": [
    "#this out of the box version uses simple decision trees\n",
    "ada = AdaBoostClassifier()\n",
    "with joblib.parallel_backend('dask'):\n",
    "    ada.fit(train_X, train_y)\n",
    "ada.score(test_X, test_y)"
   ]
  },
  {
   "cell_type": "code",
   "execution_count": 7,
   "metadata": {
    "scrolled": true
   },
   "outputs": [
    {
     "data": {
      "text/html": [
       "<div>\n",
       "<style scoped>\n",
       "    .dataframe tbody tr th:only-of-type {\n",
       "        vertical-align: middle;\n",
       "    }\n",
       "\n",
       "    .dataframe tbody tr th {\n",
       "        vertical-align: top;\n",
       "    }\n",
       "\n",
       "    .dataframe thead th {\n",
       "        text-align: right;\n",
       "    }\n",
       "</style>\n",
       "<table border=\"1\" class=\"dataframe\">\n",
       "  <thead>\n",
       "    <tr style=\"text-align: right;\">\n",
       "      <th></th>\n",
       "      <th>Accuracy</th>\n",
       "      <th>algorithm</th>\n",
       "      <th>base_estimator</th>\n",
       "      <th>learning_rate</th>\n",
       "      <th>n_estimators</th>\n",
       "      <th>random_state</th>\n",
       "    </tr>\n",
       "  </thead>\n",
       "  <tbody>\n",
       "    <tr>\n",
       "      <th>ADA_OBO</th>\n",
       "      <td>0.725993</td>\n",
       "      <td>SAMME.R</td>\n",
       "      <td>None</td>\n",
       "      <td>1.0</td>\n",
       "      <td>50</td>\n",
       "      <td>None</td>\n",
       "    </tr>\n",
       "  </tbody>\n",
       "</table>\n",
       "</div>"
      ],
      "text/plain": [
       "         Accuracy algorithm base_estimator  learning_rate  n_estimators  \\\n",
       "ADA_OBO  0.725993   SAMME.R           None            1.0            50   \n",
       "\n",
       "        random_state  \n",
       "ADA_OBO         None  "
      ]
     },
     "execution_count": 7,
     "metadata": {},
     "output_type": "execute_result"
    }
   ],
   "source": [
    "#Create dataframe to store metrics and parameters\n",
    "ada_deets = pd.DataFrame(ada.get_params(), index=['ADA_OBO'])\n",
    "ada_deets.insert(0, value=ada.score(test_X, test_y), column='Accuracy')\n",
    "ada_deets"
   ]
  },
  {
   "cell_type": "markdown",
   "metadata": {},
   "source": [
    "This performs pretty well. WWe can further tune some hyperparamters to possibly get higher accuracy. Let's start with class weights. But we need to first save the parameters and score for later review."
   ]
  },
  {
   "cell_type": "code",
   "execution_count": 8,
   "metadata": {},
   "outputs": [
    {
     "data": {
      "text/plain": [
       "0.8004713804713804"
      ]
     },
     "execution_count": 8,
     "metadata": {},
     "output_type": "execute_result"
    }
   ],
   "source": [
    "#Run ADABoost with Random Forest base\n",
    "rf = RandomForestClassifier(n_estimators=50, criterion='gini', class_weight='balanced_subsample')\n",
    "ada_rf50 = AdaBoostClassifier(base_estimator=rf)\n",
    "with joblib.parallel_backend('dask'):\n",
    "    ada_rf50.fit(train_X, train_y)\n",
    "ada_rf50.score(test_X, test_y)"
   ]
  },
  {
   "cell_type": "code",
   "execution_count": 9,
   "metadata": {
    "scrolled": false
   },
   "outputs": [
    {
     "data": {
      "text/html": [
       "<div>\n",
       "<style scoped>\n",
       "    .dataframe tbody tr th:only-of-type {\n",
       "        vertical-align: middle;\n",
       "    }\n",
       "\n",
       "    .dataframe tbody tr th {\n",
       "        vertical-align: top;\n",
       "    }\n",
       "\n",
       "    .dataframe thead th {\n",
       "        text-align: right;\n",
       "    }\n",
       "</style>\n",
       "<table border=\"1\" class=\"dataframe\">\n",
       "  <thead>\n",
       "    <tr style=\"text-align: right;\">\n",
       "      <th></th>\n",
       "      <th>Accuracy</th>\n",
       "      <th>algorithm</th>\n",
       "      <th>base_estimator</th>\n",
       "      <th>learning_rate</th>\n",
       "      <th>n_estimators</th>\n",
       "      <th>random_state</th>\n",
       "      <th>base_estimator__bootstrap</th>\n",
       "      <th>base_estimator__ccp_alpha</th>\n",
       "      <th>base_estimator__class_weight</th>\n",
       "      <th>base_estimator__criterion</th>\n",
       "      <th>...</th>\n",
       "      <th>base_estimator__min_impurity_split</th>\n",
       "      <th>base_estimator__min_samples_leaf</th>\n",
       "      <th>base_estimator__min_samples_split</th>\n",
       "      <th>base_estimator__min_weight_fraction_leaf</th>\n",
       "      <th>base_estimator__n_estimators</th>\n",
       "      <th>base_estimator__n_jobs</th>\n",
       "      <th>base_estimator__oob_score</th>\n",
       "      <th>base_estimator__random_state</th>\n",
       "      <th>base_estimator__verbose</th>\n",
       "      <th>base_estimator__warm_start</th>\n",
       "    </tr>\n",
       "  </thead>\n",
       "  <tbody>\n",
       "    <tr>\n",
       "      <th>ADA_OBO</th>\n",
       "      <td>0.725993</td>\n",
       "      <td>SAMME.R</td>\n",
       "      <td>None</td>\n",
       "      <td>1.0</td>\n",
       "      <td>50</td>\n",
       "      <td>None</td>\n",
       "      <td>NaN</td>\n",
       "      <td>NaN</td>\n",
       "      <td>NaN</td>\n",
       "      <td>NaN</td>\n",
       "      <td>...</td>\n",
       "      <td>NaN</td>\n",
       "      <td>NaN</td>\n",
       "      <td>NaN</td>\n",
       "      <td>NaN</td>\n",
       "      <td>NaN</td>\n",
       "      <td>NaN</td>\n",
       "      <td>NaN</td>\n",
       "      <td>NaN</td>\n",
       "      <td>NaN</td>\n",
       "      <td>NaN</td>\n",
       "    </tr>\n",
       "    <tr>\n",
       "      <th>ADA_RF50</th>\n",
       "      <td>0.800471</td>\n",
       "      <td>SAMME.R</td>\n",
       "      <td>RandomForestClassifier(class_weight='balanced_...</td>\n",
       "      <td>1.0</td>\n",
       "      <td>50</td>\n",
       "      <td>None</td>\n",
       "      <td>True</td>\n",
       "      <td>0.0</td>\n",
       "      <td>balanced_subsample</td>\n",
       "      <td>gini</td>\n",
       "      <td>...</td>\n",
       "      <td>None</td>\n",
       "      <td>1.0</td>\n",
       "      <td>2.0</td>\n",
       "      <td>0.0</td>\n",
       "      <td>50.0</td>\n",
       "      <td>None</td>\n",
       "      <td>False</td>\n",
       "      <td>None</td>\n",
       "      <td>0.0</td>\n",
       "      <td>False</td>\n",
       "    </tr>\n",
       "  </tbody>\n",
       "</table>\n",
       "<p>2 rows × 25 columns</p>\n",
       "</div>"
      ],
      "text/plain": [
       "          Accuracy algorithm  \\\n",
       "ADA_OBO   0.725993   SAMME.R   \n",
       "ADA_RF50  0.800471   SAMME.R   \n",
       "\n",
       "                                             base_estimator  learning_rate  \\\n",
       "ADA_OBO                                                None            1.0   \n",
       "ADA_RF50  RandomForestClassifier(class_weight='balanced_...            1.0   \n",
       "\n",
       "          n_estimators random_state base_estimator__bootstrap  \\\n",
       "ADA_OBO             50         None                       NaN   \n",
       "ADA_RF50            50         None                      True   \n",
       "\n",
       "          base_estimator__ccp_alpha base_estimator__class_weight  \\\n",
       "ADA_OBO                         NaN                          NaN   \n",
       "ADA_RF50                        0.0           balanced_subsample   \n",
       "\n",
       "         base_estimator__criterion  ... base_estimator__min_impurity_split  \\\n",
       "ADA_OBO                        NaN  ...                                NaN   \n",
       "ADA_RF50                      gini  ...                               None   \n",
       "\n",
       "         base_estimator__min_samples_leaf base_estimator__min_samples_split  \\\n",
       "ADA_OBO                               NaN                               NaN   \n",
       "ADA_RF50                              1.0                               2.0   \n",
       "\n",
       "         base_estimator__min_weight_fraction_leaf  \\\n",
       "ADA_OBO                                       NaN   \n",
       "ADA_RF50                                      0.0   \n",
       "\n",
       "          base_estimator__n_estimators base_estimator__n_jobs  \\\n",
       "ADA_OBO                            NaN                    NaN   \n",
       "ADA_RF50                          50.0                   None   \n",
       "\n",
       "          base_estimator__oob_score  base_estimator__random_state  \\\n",
       "ADA_OBO                         NaN                           NaN   \n",
       "ADA_RF50                      False                          None   \n",
       "\n",
       "          base_estimator__verbose  base_estimator__warm_start  \n",
       "ADA_OBO                       NaN                         NaN  \n",
       "ADA_RF50                      0.0                       False  \n",
       "\n",
       "[2 rows x 25 columns]"
      ]
     },
     "execution_count": 9,
     "metadata": {},
     "output_type": "execute_result"
    }
   ],
   "source": [
    "#Store metrics and parameters\n",
    "a = ada_rf50.get_params()\n",
    "a['Accuracy'] = ada_rf50.score(test_X, test_y)\n",
    "ada_deets = pd.concat([ada_deets, pd.DataFrame(a, index=['ADA_RF50'])], axis=0, join='outer')\n",
    "ada_deets"
   ]
  },
  {
   "cell_type": "markdown",
   "metadata": {},
   "source": [
    "This does about as well as our typical Random Forest. "
   ]
  },
  {
   "cell_type": "code",
   "execution_count": 10,
   "metadata": {},
   "outputs": [
    {
     "name": "stdout",
     "output_type": "stream",
     "text": [
      "[LibLinear][LibLinear][LibLinear][LibLinear][LibLinear][LibLinear][LibLinear][LibLinear][LibLinear][LibLinear][LibLinear][LibLinear][LibLinear][LibLinear][LibLinear][LibLinear][LibLinear][LibLinear][LibLinear][LibLinear][LibLinear][LibLinear][LibLinear][LibLinear][LibLinear][LibLinear][LibLinear][LibLinear][LibLinear][LibLinear][LibLinear][LibLinear][LibLinear][LibLinear][LibLinear][LibLinear][LibLinear][LibLinear][LibLinear][LibLinear][LibLinear][LibLinear][LibLinear][LibLinear][LibLinear][LibLinear][LibLinear][LibLinear][LibLinear][LibLinear]"
     ]
    },
    {
     "data": {
      "text/plain": [
       "0.7453872053872054"
      ]
     },
     "execution_count": 10,
     "metadata": {},
     "output_type": "execute_result"
    }
   ],
   "source": [
    "#RUn ADABoost using Logistic Regression as base \n",
    "logi_f = LogisticRegression(penalty='l2', C=10, verbose=True, solver='liblinear')\n",
    "ada_lr = AdaBoostClassifier(base_estimator=logi_f)\n",
    "ada_lr.fit(train_X, train_y)\n",
    "ada_lr.score(test_X, test_y)"
   ]
  },
  {
   "cell_type": "code",
   "execution_count": 11,
   "metadata": {},
   "outputs": [
    {
     "data": {
      "text/html": [
       "<div>\n",
       "<style scoped>\n",
       "    .dataframe tbody tr th:only-of-type {\n",
       "        vertical-align: middle;\n",
       "    }\n",
       "\n",
       "    .dataframe tbody tr th {\n",
       "        vertical-align: top;\n",
       "    }\n",
       "\n",
       "    .dataframe thead th {\n",
       "        text-align: right;\n",
       "    }\n",
       "</style>\n",
       "<table border=\"1\" class=\"dataframe\">\n",
       "  <thead>\n",
       "    <tr style=\"text-align: right;\">\n",
       "      <th></th>\n",
       "      <th>Accuracy</th>\n",
       "      <th>algorithm</th>\n",
       "      <th>base_estimator</th>\n",
       "      <th>learning_rate</th>\n",
       "      <th>n_estimators</th>\n",
       "      <th>random_state</th>\n",
       "      <th>base_estimator__bootstrap</th>\n",
       "      <th>base_estimator__ccp_alpha</th>\n",
       "      <th>base_estimator__class_weight</th>\n",
       "      <th>base_estimator__criterion</th>\n",
       "      <th>...</th>\n",
       "      <th>base_estimator__C</th>\n",
       "      <th>base_estimator__dual</th>\n",
       "      <th>base_estimator__fit_intercept</th>\n",
       "      <th>base_estimator__intercept_scaling</th>\n",
       "      <th>base_estimator__l1_ratio</th>\n",
       "      <th>base_estimator__max_iter</th>\n",
       "      <th>base_estimator__multi_class</th>\n",
       "      <th>base_estimator__penalty</th>\n",
       "      <th>base_estimator__solver</th>\n",
       "      <th>base_estimator__tol</th>\n",
       "    </tr>\n",
       "  </thead>\n",
       "  <tbody>\n",
       "    <tr>\n",
       "      <th>ADA_OBO</th>\n",
       "      <td>0.725993</td>\n",
       "      <td>SAMME.R</td>\n",
       "      <td>None</td>\n",
       "      <td>1.0</td>\n",
       "      <td>50</td>\n",
       "      <td>None</td>\n",
       "      <td>NaN</td>\n",
       "      <td>NaN</td>\n",
       "      <td>NaN</td>\n",
       "      <td>NaN</td>\n",
       "      <td>...</td>\n",
       "      <td>NaN</td>\n",
       "      <td>NaN</td>\n",
       "      <td>NaN</td>\n",
       "      <td>NaN</td>\n",
       "      <td>NaN</td>\n",
       "      <td>NaN</td>\n",
       "      <td>NaN</td>\n",
       "      <td>NaN</td>\n",
       "      <td>NaN</td>\n",
       "      <td>NaN</td>\n",
       "    </tr>\n",
       "    <tr>\n",
       "      <th>ADA_RF50</th>\n",
       "      <td>0.800471</td>\n",
       "      <td>SAMME.R</td>\n",
       "      <td>RandomForestClassifier(class_weight='balanced_...</td>\n",
       "      <td>1.0</td>\n",
       "      <td>50</td>\n",
       "      <td>None</td>\n",
       "      <td>True</td>\n",
       "      <td>0.0</td>\n",
       "      <td>balanced_subsample</td>\n",
       "      <td>gini</td>\n",
       "      <td>...</td>\n",
       "      <td>NaN</td>\n",
       "      <td>NaN</td>\n",
       "      <td>NaN</td>\n",
       "      <td>NaN</td>\n",
       "      <td>NaN</td>\n",
       "      <td>NaN</td>\n",
       "      <td>NaN</td>\n",
       "      <td>NaN</td>\n",
       "      <td>NaN</td>\n",
       "      <td>NaN</td>\n",
       "    </tr>\n",
       "    <tr>\n",
       "      <th>ADA_LR</th>\n",
       "      <td>0.745387</td>\n",
       "      <td>SAMME.R</td>\n",
       "      <td>LogisticRegression(C=10, solver='liblinear', v...</td>\n",
       "      <td>1.0</td>\n",
       "      <td>50</td>\n",
       "      <td>None</td>\n",
       "      <td>NaN</td>\n",
       "      <td>NaN</td>\n",
       "      <td>None</td>\n",
       "      <td>NaN</td>\n",
       "      <td>...</td>\n",
       "      <td>10.0</td>\n",
       "      <td>False</td>\n",
       "      <td>True</td>\n",
       "      <td>1.0</td>\n",
       "      <td>None</td>\n",
       "      <td>100.0</td>\n",
       "      <td>auto</td>\n",
       "      <td>l2</td>\n",
       "      <td>liblinear</td>\n",
       "      <td>0.0001</td>\n",
       "    </tr>\n",
       "  </tbody>\n",
       "</table>\n",
       "<p>3 rows × 35 columns</p>\n",
       "</div>"
      ],
      "text/plain": [
       "          Accuracy algorithm  \\\n",
       "ADA_OBO   0.725993   SAMME.R   \n",
       "ADA_RF50  0.800471   SAMME.R   \n",
       "ADA_LR    0.745387   SAMME.R   \n",
       "\n",
       "                                             base_estimator  learning_rate  \\\n",
       "ADA_OBO                                                None            1.0   \n",
       "ADA_RF50  RandomForestClassifier(class_weight='balanced_...            1.0   \n",
       "ADA_LR    LogisticRegression(C=10, solver='liblinear', v...            1.0   \n",
       "\n",
       "          n_estimators random_state base_estimator__bootstrap  \\\n",
       "ADA_OBO             50         None                       NaN   \n",
       "ADA_RF50            50         None                      True   \n",
       "ADA_LR              50         None                       NaN   \n",
       "\n",
       "          base_estimator__ccp_alpha base_estimator__class_weight  \\\n",
       "ADA_OBO                         NaN                          NaN   \n",
       "ADA_RF50                        0.0           balanced_subsample   \n",
       "ADA_LR                          NaN                         None   \n",
       "\n",
       "         base_estimator__criterion  ... base_estimator__C  \\\n",
       "ADA_OBO                        NaN  ...               NaN   \n",
       "ADA_RF50                      gini  ...               NaN   \n",
       "ADA_LR                         NaN  ...              10.0   \n",
       "\n",
       "         base_estimator__dual base_estimator__fit_intercept  \\\n",
       "ADA_OBO                   NaN                           NaN   \n",
       "ADA_RF50                  NaN                           NaN   \n",
       "ADA_LR                  False                          True   \n",
       "\n",
       "         base_estimator__intercept_scaling  base_estimator__l1_ratio  \\\n",
       "ADA_OBO                                NaN                       NaN   \n",
       "ADA_RF50                               NaN                       NaN   \n",
       "ADA_LR                                 1.0                      None   \n",
       "\n",
       "         base_estimator__max_iter  base_estimator__multi_class  \\\n",
       "ADA_OBO                       NaN                          NaN   \n",
       "ADA_RF50                      NaN                          NaN   \n",
       "ADA_LR                      100.0                         auto   \n",
       "\n",
       "          base_estimator__penalty  base_estimator__solver  base_estimator__tol  \n",
       "ADA_OBO                       NaN                     NaN                  NaN  \n",
       "ADA_RF50                      NaN                     NaN                  NaN  \n",
       "ADA_LR                         l2               liblinear               0.0001  \n",
       "\n",
       "[3 rows x 35 columns]"
      ]
     },
     "execution_count": 11,
     "metadata": {},
     "output_type": "execute_result"
    }
   ],
   "source": [
    "#Store metrics and parameters\n",
    "a = ada_lr.get_params()\n",
    "a['Accuracy'] = ada_lr.score(test_X, test_y)\n",
    "ada_deets = pd.concat([ada_deets, pd.DataFrame(a, index=['ADA_LR'])], axis=0, join='outer')\n",
    "ada_deets"
   ]
  },
  {
   "cell_type": "markdown",
   "metadata": {},
   "source": [
    "We are actually seeing a reduction in accuracy. It may be that more hyperparameter tuning is necessary to truly see a benefit with the linear model boosting."
   ]
  },
  {
   "cell_type": "code",
   "execution_count": 21,
   "metadata": {},
   "outputs": [
    {
     "data": {
      "text/plain": [
       "<Figure size 2880x576 with 0 Axes>"
      ]
     },
     "metadata": {},
     "output_type": "display_data"
    },
    {
     "data": {
      "image/png": "[encoded data removed]",
      "text/plain": [
       "<Figure size 432x288 with 2 Axes>"
      ]
     },
     "metadata": {
      "needs_background": "light"
     },
     "output_type": "display_data"
    },
    {
     "name": "stdout",
     "output_type": "stream",
     "text": [
      "              precision    recall  f1-score   support\n",
      "\n",
      "           0       0.82      0.78      0.80      5678\n",
      "           1       0.52      0.38      0.44      1074\n",
      "           2       0.81      0.87      0.84      8098\n",
      "\n",
      "    accuracy                           0.80     14850\n",
      "   macro avg       0.72      0.68      0.69     14850\n",
      "weighted avg       0.80      0.80      0.80     14850\n",
      "\n"
     ]
    }
   ],
   "source": [
    "#Create visualization of class metrics using best model (Random Forest base) via confusion matrix and classification report\n",
    "y_pred = ada_rf50.predict(test_X)\n",
    "cm=confusion_matrix(test_y, y_pred, labels=ada_rf50.classes_)\n",
    "disp = ConfusionMatrixDisplay(cm, display_labels=ada_rf50.classes_)\n",
    "plt.figure(figsize=(40,8))\n",
    "disp.plot()\n",
    "plt.tight_layout()\n",
    "plt.xticks(rotation=90)\n",
    "plt.show()\n",
    "print(classification_report(test_y, y_pred, labels=ada_rf50.classes_))"
   ]
  },
  {
   "cell_type": "code",
   "execution_count": 22,
   "metadata": {},
   "outputs": [],
   "source": [
    "#Do to long computation times we won't run cross validation at this time.\n",
    "#print(cross_val_score(ada_f, train_X, train_y, cv=5))"
   ]
  },
  {
   "cell_type": "code",
   "execution_count": 23,
   "metadata": {},
   "outputs": [],
   "source": [
    "#Output for comparision\n",
    "ada_deets.to_pickle('Data/scores/ADA.pkl')"
   ]
  }
 ],
 "metadata": {
  "kernelspec": {
   "display_name": "pumpitup",
   "language": "python",
   "name": "pumpitup"
  },
  "language_info": {
   "codemirror_mode": {
    "name": "ipython",
    "version": 3
   },
   "file_extension": ".py",
   "mimetype": "text/x-python",
   "name": "python",
   "nbconvert_exporter": "python",
   "pygments_lexer": "ipython3",
   "version": "3.9.2"
  }
 },
 "nbformat": 4,
 "nbformat_minor": 5
}
