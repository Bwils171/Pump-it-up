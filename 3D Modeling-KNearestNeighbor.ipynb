{
 "cells": [
  {
   "cell_type": "code",
   "execution_count": 1,
   "metadata": {},
   "outputs": [],
   "source": [
    "#Read in standard packages\n",
    "import os\n",
    "import pandas as pd\n",
    "import numpy as np\n",
    "import matplotlib.pyplot as plt\n",
    "import seaborn as sns\n",
    "#import geopandas as gpd"
   ]
  },
  {
   "cell_type": "code",
   "execution_count": 2,
   "metadata": {},
   "outputs": [],
   "source": [
    "#read in ML packages/modules\n",
    "from sklearn.neighbors import KNeighborsClassifier\n",
    "from sklearn.metrics import confusion_matrix, ConfusionMatrixDisplay\n",
    "from sklearn.model_selection import cross_val_score\n",
    "from sklearn.metrics import classification_report"
   ]
  },
  {
   "cell_type": "code",
   "execution_count": 3,
   "metadata": {},
   "outputs": [
    {
     "data": {
      "text/plain": [
       "(<Scheduler: \"tcp://127.0.0.1:52934\" processes: 3 cores: 6>,\n",
       " {0: <Nanny: tcp://127.0.0.1:52957, threads: 2>,\n",
       "  1: <Nanny: tcp://127.0.0.1:52954, threads: 2>,\n",
       "  2: <Nanny: tcp://127.0.0.1:52951, threads: 2>})"
      ]
     },
     "execution_count": 3,
     "metadata": {},
     "output_type": "execute_result"
    }
   ],
   "source": [
    "#Read in dask package and set up to allow for faster compute times. Distributes computing among all availabel preocessors\n",
    "from dask import dataframe as dd\n",
    "import joblib\n",
    "from dask.distributed import Client, LocalCluster\n",
    "cluster = LocalCluster()\n",
    "client = Client(cluster)\n",
    "cluster.scheduler, cluster.workers"
   ]
  },
  {
   "cell_type": "markdown",
   "metadata": {},
   "source": [
    "### Read in training/testing data"
   ]
  },
  {
   "cell_type": "code",
   "execution_count": 4,
   "metadata": {},
   "outputs": [],
   "source": [
    "#Read in train/test data\n",
    "train_X = pd.read_pickle('Data/train_test/train_X.pkl')\n",
    "test_X = pd.read_pickle('Data/train_test/test_X.pkl')\n",
    "train_y = pd.read_pickle('Data/train_test/train_y.pkl')\n",
    "test_y = pd.read_pickle('Data/train_test/test_y.pkl')"
   ]
  },
  {
   "cell_type": "markdown",
   "metadata": {},
   "source": [
    "### K Nearest Neighbor"
   ]
  },
  {
   "cell_type": "code",
   "execution_count": 5,
   "metadata": {},
   "outputs": [
    {
     "data": {
      "text/plain": [
       "0.7758249158249159"
      ]
     },
     "execution_count": 5,
     "metadata": {},
     "output_type": "execute_result"
    }
   ],
   "source": [
    "#Let's try an out of the box KNN\n",
    "knn = KNeighborsClassifier()\n",
    "with joblib.parallel_backend('dask'):\n",
    "    knn.fit(train_X, np.ravel(train_y))\n",
    "knn.score(test_X, test_y)"
   ]
  },
  {
   "cell_type": "markdown",
   "metadata": {},
   "source": [
    "Not terrible. We can make some adjustments to the hyperparameters to see if they increases our accuracy. We'll save the score and parameters for review."
   ]
  },
  {
   "cell_type": "code",
   "execution_count": 6,
   "metadata": {},
   "outputs": [
    {
     "data": {
      "text/html": [
       "<div>\n",
       "<style scoped>\n",
       "    .dataframe tbody tr th:only-of-type {\n",
       "        vertical-align: middle;\n",
       "    }\n",
       "\n",
       "    .dataframe tbody tr th {\n",
       "        vertical-align: top;\n",
       "    }\n",
       "\n",
       "    .dataframe thead th {\n",
       "        text-align: right;\n",
       "    }\n",
       "</style>\n",
       "<table border=\"1\" class=\"dataframe\">\n",
       "  <thead>\n",
       "    <tr style=\"text-align: right;\">\n",
       "      <th></th>\n",
       "      <th>Accuracy</th>\n",
       "      <th>algorithm</th>\n",
       "      <th>leaf_size</th>\n",
       "      <th>metric</th>\n",
       "      <th>metric_params</th>\n",
       "      <th>n_jobs</th>\n",
       "      <th>n_neighbors</th>\n",
       "      <th>p</th>\n",
       "      <th>weights</th>\n",
       "    </tr>\n",
       "  </thead>\n",
       "  <tbody>\n",
       "    <tr>\n",
       "      <th>KNN_OBO</th>\n",
       "      <td>0.775825</td>\n",
       "      <td>auto</td>\n",
       "      <td>30</td>\n",
       "      <td>minkowski</td>\n",
       "      <td>None</td>\n",
       "      <td>None</td>\n",
       "      <td>5</td>\n",
       "      <td>2</td>\n",
       "      <td>uniform</td>\n",
       "    </tr>\n",
       "  </tbody>\n",
       "</table>\n",
       "</div>"
      ],
      "text/plain": [
       "         Accuracy algorithm  leaf_size     metric metric_params n_jobs  \\\n",
       "KNN_OBO  0.775825      auto         30  minkowski          None   None   \n",
       "\n",
       "         n_neighbors  p  weights  \n",
       "KNN_OBO            5  2  uniform  "
      ]
     },
     "execution_count": 6,
     "metadata": {},
     "output_type": "execute_result"
    }
   ],
   "source": [
    "#Create dataframe to store scores\n",
    "knn_deets = pd.DataFrame(knn.get_params(), index=['KNN_OBO'])\n",
    "knn_deets.insert(0, value=knn.score(test_X, test_y), column='Accuracy')\n",
    "knn_deets"
   ]
  },
  {
   "cell_type": "code",
   "execution_count": 7,
   "metadata": {},
   "outputs": [
    {
     "data": {
      "text/plain": [
       "0.7765656565656566"
      ]
     },
     "execution_count": 7,
     "metadata": {},
     "output_type": "execute_result"
    }
   ],
   "source": [
    "#Let's try using a distance weight version\n",
    "knn_dist = KNeighborsClassifier(weights='distance')\n",
    "with joblib.parallel_backend('dask'):\n",
    "    knn_dist.fit(train_X, np.ravel(train_y))\n",
    "knn_dist.score(test_X, test_y)"
   ]
  },
  {
   "cell_type": "code",
   "execution_count": 8,
   "metadata": {},
   "outputs": [
    {
     "data": {
      "text/html": [
       "<div>\n",
       "<style scoped>\n",
       "    .dataframe tbody tr th:only-of-type {\n",
       "        vertical-align: middle;\n",
       "    }\n",
       "\n",
       "    .dataframe tbody tr th {\n",
       "        vertical-align: top;\n",
       "    }\n",
       "\n",
       "    .dataframe thead th {\n",
       "        text-align: right;\n",
       "    }\n",
       "</style>\n",
       "<table border=\"1\" class=\"dataframe\">\n",
       "  <thead>\n",
       "    <tr style=\"text-align: right;\">\n",
       "      <th></th>\n",
       "      <th>Accuracy</th>\n",
       "      <th>algorithm</th>\n",
       "      <th>leaf_size</th>\n",
       "      <th>metric</th>\n",
       "      <th>metric_params</th>\n",
       "      <th>n_jobs</th>\n",
       "      <th>n_neighbors</th>\n",
       "      <th>p</th>\n",
       "      <th>weights</th>\n",
       "    </tr>\n",
       "  </thead>\n",
       "  <tbody>\n",
       "    <tr>\n",
       "      <th>KNN_OBO</th>\n",
       "      <td>0.775825</td>\n",
       "      <td>auto</td>\n",
       "      <td>30</td>\n",
       "      <td>minkowski</td>\n",
       "      <td>None</td>\n",
       "      <td>None</td>\n",
       "      <td>5</td>\n",
       "      <td>2</td>\n",
       "      <td>uniform</td>\n",
       "    </tr>\n",
       "    <tr>\n",
       "      <th>KNN_Dist</th>\n",
       "      <td>0.776566</td>\n",
       "      <td>auto</td>\n",
       "      <td>30</td>\n",
       "      <td>minkowski</td>\n",
       "      <td>None</td>\n",
       "      <td>None</td>\n",
       "      <td>5</td>\n",
       "      <td>2</td>\n",
       "      <td>distance</td>\n",
       "    </tr>\n",
       "  </tbody>\n",
       "</table>\n",
       "</div>"
      ],
      "text/plain": [
       "          Accuracy algorithm  leaf_size     metric metric_params n_jobs  \\\n",
       "KNN_OBO   0.775825      auto         30  minkowski          None   None   \n",
       "KNN_Dist  0.776566      auto         30  minkowski          None   None   \n",
       "\n",
       "          n_neighbors  p   weights  \n",
       "KNN_OBO             5  2   uniform  \n",
       "KNN_Dist            5  2  distance  "
      ]
     },
     "execution_count": 8,
     "metadata": {},
     "output_type": "execute_result"
    }
   ],
   "source": [
    "#Store score and metrics\n",
    "a = knn_dist.get_params()\n",
    "a['Accuracy'] = knn_dist.score(test_X, test_y)\n",
    "knn_deets = pd.concat([knn_deets, pd.DataFrame(a, index=['KNN_Dist'])], axis=0, join='outer')\n",
    "knn_deets"
   ]
  },
  {
   "cell_type": "markdown",
   "metadata": {},
   "source": [
    "Using class weights does not improve the accuracy, in fact it decreases it. Let's try each of the penalty options for improvement and some different values for C for each. We will need to use the liblinear solver to access the L1 penalty option."
   ]
  },
  {
   "cell_type": "code",
   "execution_count": 9,
   "metadata": {},
   "outputs": [],
   "source": [
    "#Run through a loop for hyper parameter tuning \n",
    "n_neighbors = [1, 2, 3, 4, 5, 6, 7, 8, 9, 10]\n",
    "for n in n_neighbors:\n",
    "    knn = KNeighborsClassifier(n_neighbors=n, weights='distance')\n",
    "    with joblib.parallel_backend('dask'):\n",
    "        knn.fit(train_X, np.ravel(train_y))\n",
    "    deets = knn.get_params()\n",
    "    deets['Accuracy']=knn.score(test_X, test_y)\n",
    "    knn_deets = pd.concat([knn_deets, pd.DataFrame(deets, index=['KNN_{n}'.format(n=n)])], axis=0, join='outer')"
   ]
  },
  {
   "cell_type": "code",
   "execution_count": 10,
   "metadata": {},
   "outputs": [
    {
     "data": {
      "text/html": [
       "<div>\n",
       "<style scoped>\n",
       "    .dataframe tbody tr th:only-of-type {\n",
       "        vertical-align: middle;\n",
       "    }\n",
       "\n",
       "    .dataframe tbody tr th {\n",
       "        vertical-align: top;\n",
       "    }\n",
       "\n",
       "    .dataframe thead th {\n",
       "        text-align: right;\n",
       "    }\n",
       "</style>\n",
       "<table border=\"1\" class=\"dataframe\">\n",
       "  <thead>\n",
       "    <tr style=\"text-align: right;\">\n",
       "      <th></th>\n",
       "      <th>Accuracy</th>\n",
       "      <th>algorithm</th>\n",
       "      <th>leaf_size</th>\n",
       "      <th>metric</th>\n",
       "      <th>metric_params</th>\n",
       "      <th>n_jobs</th>\n",
       "      <th>n_neighbors</th>\n",
       "      <th>p</th>\n",
       "      <th>weights</th>\n",
       "    </tr>\n",
       "  </thead>\n",
       "  <tbody>\n",
       "    <tr>\n",
       "      <th>KNN_OBO</th>\n",
       "      <td>0.775825</td>\n",
       "      <td>auto</td>\n",
       "      <td>30</td>\n",
       "      <td>minkowski</td>\n",
       "      <td>None</td>\n",
       "      <td>None</td>\n",
       "      <td>5</td>\n",
       "      <td>2</td>\n",
       "      <td>uniform</td>\n",
       "    </tr>\n",
       "    <tr>\n",
       "      <th>KNN_Dist</th>\n",
       "      <td>0.776566</td>\n",
       "      <td>auto</td>\n",
       "      <td>30</td>\n",
       "      <td>minkowski</td>\n",
       "      <td>None</td>\n",
       "      <td>None</td>\n",
       "      <td>5</td>\n",
       "      <td>2</td>\n",
       "      <td>distance</td>\n",
       "    </tr>\n",
       "    <tr>\n",
       "      <th>KNN_1</th>\n",
       "      <td>0.755960</td>\n",
       "      <td>auto</td>\n",
       "      <td>30</td>\n",
       "      <td>minkowski</td>\n",
       "      <td>None</td>\n",
       "      <td>None</td>\n",
       "      <td>1</td>\n",
       "      <td>2</td>\n",
       "      <td>distance</td>\n",
       "    </tr>\n",
       "    <tr>\n",
       "      <th>KNN_2</th>\n",
       "      <td>0.756498</td>\n",
       "      <td>auto</td>\n",
       "      <td>30</td>\n",
       "      <td>minkowski</td>\n",
       "      <td>None</td>\n",
       "      <td>None</td>\n",
       "      <td>2</td>\n",
       "      <td>2</td>\n",
       "      <td>distance</td>\n",
       "    </tr>\n",
       "    <tr>\n",
       "      <th>KNN_3</th>\n",
       "      <td>0.770438</td>\n",
       "      <td>auto</td>\n",
       "      <td>30</td>\n",
       "      <td>minkowski</td>\n",
       "      <td>None</td>\n",
       "      <td>None</td>\n",
       "      <td>3</td>\n",
       "      <td>2</td>\n",
       "      <td>distance</td>\n",
       "    </tr>\n",
       "    <tr>\n",
       "      <th>KNN_4</th>\n",
       "      <td>0.773468</td>\n",
       "      <td>auto</td>\n",
       "      <td>30</td>\n",
       "      <td>minkowski</td>\n",
       "      <td>None</td>\n",
       "      <td>None</td>\n",
       "      <td>4</td>\n",
       "      <td>2</td>\n",
       "      <td>distance</td>\n",
       "    </tr>\n",
       "    <tr>\n",
       "      <th>KNN_5</th>\n",
       "      <td>0.776566</td>\n",
       "      <td>auto</td>\n",
       "      <td>30</td>\n",
       "      <td>minkowski</td>\n",
       "      <td>None</td>\n",
       "      <td>None</td>\n",
       "      <td>5</td>\n",
       "      <td>2</td>\n",
       "      <td>distance</td>\n",
       "    </tr>\n",
       "    <tr>\n",
       "      <th>KNN_6</th>\n",
       "      <td>0.778182</td>\n",
       "      <td>auto</td>\n",
       "      <td>30</td>\n",
       "      <td>minkowski</td>\n",
       "      <td>None</td>\n",
       "      <td>None</td>\n",
       "      <td>6</td>\n",
       "      <td>2</td>\n",
       "      <td>distance</td>\n",
       "    </tr>\n",
       "    <tr>\n",
       "      <th>KNN_7</th>\n",
       "      <td>0.779192</td>\n",
       "      <td>auto</td>\n",
       "      <td>30</td>\n",
       "      <td>minkowski</td>\n",
       "      <td>None</td>\n",
       "      <td>None</td>\n",
       "      <td>7</td>\n",
       "      <td>2</td>\n",
       "      <td>distance</td>\n",
       "    </tr>\n",
       "    <tr>\n",
       "      <th>KNN_8</th>\n",
       "      <td>0.780471</td>\n",
       "      <td>auto</td>\n",
       "      <td>30</td>\n",
       "      <td>minkowski</td>\n",
       "      <td>None</td>\n",
       "      <td>None</td>\n",
       "      <td>8</td>\n",
       "      <td>2</td>\n",
       "      <td>distance</td>\n",
       "    </tr>\n",
       "    <tr>\n",
       "      <th>KNN_9</th>\n",
       "      <td>0.780337</td>\n",
       "      <td>auto</td>\n",
       "      <td>30</td>\n",
       "      <td>minkowski</td>\n",
       "      <td>None</td>\n",
       "      <td>None</td>\n",
       "      <td>9</td>\n",
       "      <td>2</td>\n",
       "      <td>distance</td>\n",
       "    </tr>\n",
       "    <tr>\n",
       "      <th>KNN_10</th>\n",
       "      <td>0.781616</td>\n",
       "      <td>auto</td>\n",
       "      <td>30</td>\n",
       "      <td>minkowski</td>\n",
       "      <td>None</td>\n",
       "      <td>None</td>\n",
       "      <td>10</td>\n",
       "      <td>2</td>\n",
       "      <td>distance</td>\n",
       "    </tr>\n",
       "  </tbody>\n",
       "</table>\n",
       "</div>"
      ],
      "text/plain": [
       "          Accuracy algorithm  leaf_size     metric metric_params n_jobs  \\\n",
       "KNN_OBO   0.775825      auto         30  minkowski          None   None   \n",
       "KNN_Dist  0.776566      auto         30  minkowski          None   None   \n",
       "KNN_1     0.755960      auto         30  minkowski          None   None   \n",
       "KNN_2     0.756498      auto         30  minkowski          None   None   \n",
       "KNN_3     0.770438      auto         30  minkowski          None   None   \n",
       "KNN_4     0.773468      auto         30  minkowski          None   None   \n",
       "KNN_5     0.776566      auto         30  minkowski          None   None   \n",
       "KNN_6     0.778182      auto         30  minkowski          None   None   \n",
       "KNN_7     0.779192      auto         30  minkowski          None   None   \n",
       "KNN_8     0.780471      auto         30  minkowski          None   None   \n",
       "KNN_9     0.780337      auto         30  minkowski          None   None   \n",
       "KNN_10    0.781616      auto         30  minkowski          None   None   \n",
       "\n",
       "          n_neighbors  p   weights  \n",
       "KNN_OBO             5  2   uniform  \n",
       "KNN_Dist            5  2  distance  \n",
       "KNN_1               1  2  distance  \n",
       "KNN_2               2  2  distance  \n",
       "KNN_3               3  2  distance  \n",
       "KNN_4               4  2  distance  \n",
       "KNN_5               5  2  distance  \n",
       "KNN_6               6  2  distance  \n",
       "KNN_7               7  2  distance  \n",
       "KNN_8               8  2  distance  \n",
       "KNN_9               9  2  distance  \n",
       "KNN_10             10  2  distance  "
      ]
     },
     "execution_count": 10,
     "metadata": {},
     "output_type": "execute_result"
    }
   ],
   "source": [
    "knn_deets"
   ]
  },
  {
   "cell_type": "markdown",
   "metadata": {},
   "source": [
    "The adjustments to the penalty and regularization strength show that, though slight, a higher regularization strength increases the accuracy and that the L2 penalty also perfomrs better than L1.\n",
    "\n",
    "As a final check we will increase the number of iterations the model is allowed to runn through for minimzation and Run through a cross validation check to make sure we are still abel to generalize well. "
   ]
  },
  {
   "cell_type": "code",
   "execution_count": 11,
   "metadata": {},
   "outputs": [
    {
     "data": {
      "text/plain": [
       "0.7816161616161617"
      ]
     },
     "execution_count": 11,
     "metadata": {},
     "output_type": "execute_result"
    }
   ],
   "source": [
    "#Re-run best model\n",
    "knn_f = KNeighborsClassifier(n_neighbors=10, weights='distance')\n",
    "knn_f.fit(train_X, np.ravel(train_y))\n",
    "knn_f.score(test_X, test_y)"
   ]
  },
  {
   "cell_type": "code",
   "execution_count": 12,
   "metadata": {},
   "outputs": [
    {
     "name": "stdout",
     "output_type": "stream",
     "text": [
      "[0.78731762 0.77418631 0.77867565 0.77598204 0.7708193 ]\n"
     ]
    }
   ],
   "source": [
    "#Confirm generalizability using 5-fold cross validation\n",
    "print(cross_val_score(knn_f, train_X, train_y, cv=5))"
   ]
  },
  {
   "cell_type": "markdown",
   "metadata": {},
   "source": [
    "Cross Validation shows a pretty consistent result. We can be confident that this model will generally relativeley well. Let's take a look at a Confusion matrix to see which classes our best Logistic Regression model is doing best with."
   ]
  },
  {
   "cell_type": "code",
   "execution_count": 13,
   "metadata": {},
   "outputs": [
    {
     "data": {
      "text/plain": [
       "<Figure size 2880x576 with 0 Axes>"
      ]
     },
     "metadata": {},
     "output_type": "display_data"
    },
    {
     "data": {
      "image/png": "[encoded data removed]",
      "text/plain": [
       "<Figure size 432x288 with 2 Axes>"
      ]
     },
     "metadata": {
      "needs_background": "light"
     },
     "output_type": "display_data"
    },
    {
     "name": "stdout",
     "output_type": "stream",
     "text": [
      "                         precision    recall  f1-score   support\n",
      "\n",
      "             functional       0.79      0.86      0.82      8098\n",
      "functional needs repair       0.49      0.35      0.41      1074\n",
      "         non functional       0.80      0.75      0.78      5678\n",
      "\n",
      "               accuracy                           0.78     14850\n",
      "              macro avg       0.70      0.65      0.67     14850\n",
      "           weighted avg       0.78      0.78      0.78     14850\n",
      "\n"
     ]
    }
   ],
   "source": [
    "#Visualize metric by class using confusion matrix and classifiaction report\n",
    "y_pred = knn_f.predict(test_X)\n",
    "cm=confusion_matrix(test_y, y_pred, labels=knn_f.classes_)\n",
    "disp = ConfusionMatrixDisplay(cm, display_labels=knn_f.classes_)\n",
    "plt.figure(figsize=(40,8))\n",
    "disp.plot()\n",
    "plt.tight_layout()\n",
    "plt.xticks(rotation=90)\n",
    "plt.show()\n",
    "print(classification_report(test_y, y_pred, labels=knn_f.classes_))"
   ]
  },
  {
   "cell_type": "markdown",
   "metadata": {},
   "source": [
    "We can see that the model performed best on the functional label with non functional just behind it and functional needs repair well below the other two. This makes sense as there are many less cases of functional needs repair so the model doesn't have as much data to learn from."
   ]
  },
  {
   "cell_type": "code",
   "execution_count": 14,
   "metadata": {},
   "outputs": [],
   "source": [
    "#Output metrics and parameters for comparison\n",
    "knn_deets.to_pickle('Data/scores/KNN.pkl')"
   ]
  }
 ],
 "metadata": {
  "kernelspec": {
   "display_name": "pumpitup",
   "language": "python",
   "name": "pumpitup"
  },
  "language_info": {
   "codemirror_mode": {
    "name": "ipython",
    "version": 3
   },
   "file_extension": ".py",
   "mimetype": "text/x-python",
   "name": "python",
   "nbconvert_exporter": "python",
   "pygments_lexer": "ipython3",
   "version": "3.9.2"
  }
 },
 "nbformat": 4,
 "nbformat_minor": 5
}
