{
 "cells": [
  {
   "cell_type": "code",
   "execution_count": 16,
   "metadata": {},
   "outputs": [],
   "source": [
    "import os\n",
    "import pandas as pd\n",
    "import numpy as np\n",
    "import matplotlib.pyplot as plt\n",
    "import seaborn as sns\n",
    "#import geopandas as gpd\n"
   ]
  },
  {
   "cell_type": "code",
   "execution_count": 4,
   "metadata": {},
   "outputs": [],
   "source": [
    "import sys"
   ]
  },
  {
   "cell_type": "code",
   "execution_count": 5,
   "metadata": {},
   "outputs": [
    {
     "data": {
      "text/plain": [
       "['C:\\\\Users\\\\bwils\\\\OneDrive\\\\Documents\\\\GitHub\\\\Pump-it-up',\n",
       " 'C:\\\\Users\\\\bwils\\\\anaconda3\\\\envs\\\\pumpitup\\\\python39.zip',\n",
       " 'C:\\\\Users\\\\bwils\\\\anaconda3\\\\envs\\\\pumpitup\\\\DLLs',\n",
       " 'C:\\\\Users\\\\bwils\\\\anaconda3\\\\envs\\\\pumpitup\\\\lib',\n",
       " 'C:\\\\Users\\\\bwils\\\\anaconda3\\\\envs\\\\pumpitup',\n",
       " '',\n",
       " 'C:\\\\Users\\\\bwils\\\\anaconda3\\\\envs\\\\pumpitup\\\\lib\\\\site-packages',\n",
       " 'C:\\\\Users\\\\bwils\\\\anaconda3\\\\envs\\\\pumpitup\\\\lib\\\\site-packages\\\\win32',\n",
       " 'C:\\\\Users\\\\bwils\\\\anaconda3\\\\envs\\\\pumpitup\\\\lib\\\\site-packages\\\\win32\\\\lib',\n",
       " 'C:\\\\Users\\\\bwils\\\\anaconda3\\\\envs\\\\pumpitup\\\\lib\\\\site-packages\\\\Pythonwin',\n",
       " 'C:\\\\Users\\\\bwils\\\\anaconda3\\\\envs\\\\pumpitup\\\\lib\\\\site-packages\\\\IPython\\\\extensions',\n",
       " 'C:\\\\Users\\\\bwils\\\\.ipython',\n",
       " 'C:\\\\Users\\\\bwils\\\\OneDrive\\\\Documents\\\\GitHub\\\\Pump-it-up\\\\Functions']"
      ]
     },
     "execution_count": 5,
     "metadata": {},
     "output_type": "execute_result"
    }
   ],
   "source": [
    "sys.path.append('C:\\\\Users\\\\bwils\\\\OneDrive\\\\Documents\\\\GitHub\\\\Pump-it-up\\\\Functions')\n",
    "sys.path"
   ]
  },
  {
   "cell_type": "code",
   "execution_count": 14,
   "metadata": {},
   "outputs": [
    {
     "data": {
      "text/plain": [
       "'C:\\\\Users\\\\bwils\\\\OneDrive\\\\Documents\\\\GitHub\\\\Pump-it-up\\\\Functions'"
      ]
     },
     "execution_count": 14,
     "metadata": {},
     "output_type": "execute_result"
    }
   ],
   "source": [
    "new_path = %pwd\n",
    "new_path = new_path + '\\\\Functions'\n",
    "new_path"
   ]
  },
  {
   "cell_type": "code",
   "execution_count": 13,
   "metadata": {},
   "outputs": [
    {
     "data": {
      "text/plain": [
       "'C:\\\\Users\\\\bwils\\\\OneDrive\\\\Documents\\\\GitHub\\\\Pump-it-upm'"
      ]
     },
     "execution_count": 13,
     "metadata": {},
     "output_type": "execute_result"
    }
   ],
   "source": [
    "new_path + 'm'"
   ]
  },
  {
   "cell_type": "code",
   "execution_count": 32,
   "metadata": {},
   "outputs": [],
   "source": [
    "import get_feature_name as get\n",
    "import model_transformer as tran"
   ]
  },
  {
   "cell_type": "code",
   "execution_count": 21,
   "metadata": {},
   "outputs": [],
   "source": [
    "from sklearn.ensemble import RandomForestClassifier\n",
    "from sklearn.model_selection import RandomizedSearchCV\n",
    "from sklearn.model_selection import train_test_split\n",
    "from sklearn.preprocessing import StandardScaler\n",
    "from sklearn.compose import ColumnTransformer\n",
    "from sklearn.preprocessing import OneHotEncoder\n",
    "from sklearn.pipeline import Pipeline\n",
    "from sklearn.impute import SimpleImputer\n",
    "from sklearn.linear_model import LogisticRegression\n",
    "from sklearn.linear_model import LinearRegression\n",
    "from sklearn.svm import LinearSVC\n",
    "from sklearn.preprocessing import FunctionTransformer\n",
    "#from xgboost import XGBClassifier\n",
    "from sklearn.decomposition import PCA"
   ]
  },
  {
   "cell_type": "code",
   "execution_count": 22,
   "metadata": {},
   "outputs": [],
   "source": [
    "model_data = pd.read_pickle('Data/model_data.pkl')"
   ]
  },
  {
   "cell_type": "code",
   "execution_count": 23,
   "metadata": {},
   "outputs": [
    {
     "data": {
      "text/plain": [
       "Index(['id', 'class', 'amount_tsh', 'funder', 'gps_height', 'installer',\n",
       "       'longitude', 'latitude', 'basin', 'subvillage', 'region_code',\n",
       "       'district_code', 'ward', 'population', 'public_meeting',\n",
       "       'scheme_management', 'scheme_name', 'permit', 'extraction_type',\n",
       "       'management', 'management_group', 'payment_type', 'water_quality',\n",
       "       'quantity', 'source', 'waterpoint_type', 'lga_Njombe', 'year', 'month',\n",
       "       'years_old', 'popbins'],\n",
       "      dtype='object')"
      ]
     },
     "execution_count": 23,
     "metadata": {},
     "output_type": "execute_result"
    }
   ],
   "source": [
    "model_data.columns"
   ]
  },
  {
   "cell_type": "code",
   "execution_count": 24,
   "metadata": {},
   "outputs": [],
   "source": [
    "model_data.drop(columns=['id'], inplace=True)"
   ]
  },
  {
   "cell_type": "code",
   "execution_count": 25,
   "metadata": {},
   "outputs": [],
   "source": [
    "num_cols = ['gps_height', 'population']\n",
    "cat_cols = ['basin', 'region_code', 'district_code', 'extraction_type', 'payment_type', 'water_quality', 'quantity', \n",
    "            'source', 'management', 'management_group', 'waterpoint_type',  'funder', 'installer', 'subvillage', \n",
    "            'ward', 'scheme_management', 'scheme_name', 'amount_tsh', 'popbins']"
   ]
  },
  {
   "cell_type": "code",
   "execution_count": 26,
   "metadata": {},
   "outputs": [],
   "source": [
    "scaler = StandardScaler()\n",
    "ohe = OneHotEncoder(handle_unknown='ignore')\n",
    "CT = ColumnTransformer(remainder='passthrough', transformers=[('scaler', scaler, num_cols),\n",
    "                                              ('ohe', ohe, cat_cols)], verbose=True)"
   ]
  },
  {
   "cell_type": "code",
   "execution_count": 38,
   "metadata": {},
   "outputs": [],
   "source": [
    "def prep_train(unprepped_values, class_col):\n",
    "    train_X, test_X, train_y, test_y = train_test_split(unprepped_values.drop(columns=[class_col]), \n",
    "                                                        unprepped_values[class_col], test_size=0.25, random_state=42)\n",
    "    train_Xct = CT.fit_transform(train_X)\n",
    "    \n",
    "    test_Xct = CT.transform(test_X)\n",
    "\n",
    "    cols = get_feature_names(CT)\n",
    "    train_Xf = pd.DataFrame(train_Xct.todense(), columns=cols)\n",
    "    cols = get_feature_names(CT)\n",
    "    test_Xf = pd.DataFrame(test_Xct.todense(), columns=cols)\n",
    "    \n",
    "    return train_Xf, train_y, test_Xf, test_y   "
   ]
  },
  {
   "cell_type": "code",
   "execution_count": 28,
   "metadata": {},
   "outputs": [],
   "source": [
    "def prep_submit(unprepped_values):\n",
    "    submit_X= unprepped_values\n",
    "        \n",
    "    submit_Xt = model_transformer(submit_X)\n",
    "    submit_Xct = CT.transform(submit_Xt)\n",
    "\n",
    "    cols = get_feature_names(CT)\n",
    "    submit_Xf = pd.DataFrame(submit_Xct.todense(), columns=cols)\n",
    "    \n",
    "    return submit_Xf"
   ]
  },
  {
   "cell_type": "code",
   "execution_count": 35,
   "metadata": {},
   "outputs": [],
   "source": [
    "def model_transformer(model_data):\n",
    "    #Applies transformations from EDA notebook to training and testing sets to ensure same changes are made\n",
    "    #Correct names in extraction_type\n",
    "    data = model_data\n",
    "    \n",
    "    data['extraction_type'].replace({'other - swn 81':'other-handpump',\n",
    "                                 'other - play pump':'other-handpump', \n",
    "                                 'walimi':'other-handpump', \n",
    "                                 'other - mkulima/shinyanga':'other-handpump',\n",
    "                                'swn 80':'swn_80',\n",
    "                                 'nira/tanira':'nira-tanira',\n",
    "                                'india mark ii':'india_mark_ii',\n",
    "                                'india mark iii':'india_mark_iii',\n",
    "                                'other - rope pump':'other-rope_pump',}, inplace=True)\n",
    "    #correct names in source\n",
    "    data['source'].replace({'shallow well':'shallow_well',\n",
    "                       'machine dbh':'machine_dbh',\n",
    "                       'rainwater harvesting':'rainwater_harvesting',\n",
    "                       'hand dtw':'hand_dtw'}, inplace=True)\n",
    "\n",
    "    #Group low count subvillages in other\n",
    "    counts = data['subvillage'].value_counts()\n",
    "    counts = counts.loc[counts >=200]\n",
    "    counts = list(counts.index)\n",
    "    data.loc[~data['subvillage'].isin(counts), 'subvillage'] = 'other'\n",
    "\n",
    "    data.fillna(inplace=True, value={'installer':'unknown','permit':False, 'funder':'unknown', 'public_meeting':False, \n",
    "                                 'scheme_management':'unknown', 'scheme_name':'unknown'})\n",
    "\n",
    "    #create and boolean lga_Njombe column\n",
    "    data['lga_Njombe'] = data['lga'].replace({'Njombe':1})\n",
    "    data.loc[data['lga_Njombe']!=1, 'lga_Njombe'] = 0\n",
    "    data['lga_Njombe'] = data['lga_Njombe'].astype('int')\n",
    "\n",
    "    #remove slashes from basin names\n",
    "    data['basin'].replace({'Ruvuma / Southern Coast':'Ruvuma-Southern_Coast',\n",
    "                     'Wami / Ruvu':'Wami-Ruvu'}, inplace=True)\n",
    "\n",
    "    #convert date_recorded column to datetime object and edxtract month and year\n",
    "    data['date_recorded']= pd.to_datetime(data['date_recorded'])\n",
    "    data['date_recorded'].describe(datetime_is_numeric=True)\n",
    "    data['year']=data['date_recorded'].dt.year\n",
    "    data['month']=data['date_recorded'].dt.month\n",
    "\n",
    "    ##Convert public_meeting column to 1 or 0\n",
    "    data['public_meeting'] = data['public_meeting'].map({True:1, False:0})\n",
    "\n",
    "    #Convert permit column to 1 or 0\n",
    "    data['permit'] = data['permit'].map({True:1, False:0})\n",
    "\n",
    "    #Correct construction_year with 1999, create years_old column\n",
    "    data['construction_year'].replace({0:1999}, inplace=True)\n",
    "    data['construction_year'] = pd.to_datetime(data['construction_year'], format='%Y')\n",
    "    data['years_old'] = data['date_recorded'].dt.year - data['construction_year'].dt.year\n",
    "\n",
    "    #Group low count scheme_names under other\n",
    "    counts2 = data['scheme_name'].value_counts()\n",
    "    counts2 = counts2.loc[counts2 >=200]\n",
    "    counts2 = list(counts2.index)\n",
    "    data.loc[~data['scheme_name'].isin(counts2), 'scheme_name'] = 'other'\n",
    "    \n",
    "    #group low count funders under other\n",
    "    counts3 = data['funder'].value_counts()\n",
    "    counts3 = counts3.loc[counts3 >=500]\n",
    "    counts3 = list(counts3.index)\n",
    "    data.loc[~data['funder'].isin(counts3), 'funder'] = 'other'\n",
    "    data.loc[data['funder']=='Government Of Tanzania', 'funder'] = 'gov_tanz'\n",
    "\n",
    "    #Group low count installers under other\n",
    "    counts4 = data['installer'].value_counts()\n",
    "    counts4 = counts4.loc[counts4 >=500]\n",
    "    counts4 = list(counts4.index)\n",
    "    data.loc[~data['installer'].isin(counts4), 'installer'] = 'other'\n",
    "    \n",
    "    #Create column for population bins\n",
    "    data['popbins'] = pd.cut(data['population'], [-1,2,250,500,1000,2500,10000,40000], labels=list(range(1,8)))\n",
    "    \n",
    "    #Amount_TSH - Change to bins\n",
    "    data.loc[data['amount_tsh']>5000, 'amount_tsh'] = 5000\n",
    "    data.loc[data['amount_tsh']>0, 'amount_tsh'] = pd.qcut(data.loc[data['amount_tsh']>0, 'amount_tsh'], \n",
    "                                                           q=5, duplicates='drop',labels=False)           \n",
    "    \n",
    "    #Ward Feature - Change to Bins\n",
    "    counts5 = data['ward'].value_counts()\n",
    "    verybig = counts5.loc[counts5.between(200,400)].index\n",
    "    big = counts5.loc[counts5.between(100,200)].index\n",
    "    medium = counts5.loc[counts5.between(50,100)].index\n",
    "    small = counts5.loc[counts5.between(25,50)].index\n",
    "    verysmall = counts5.loc[counts5 <=25].index\n",
    "    data.loc[data['ward'].isin(verybig), 'ward'] = 'verybig'\n",
    "    data.loc[data['ward'].isin(big), 'ward'] = 'big'\n",
    "    data.loc[data['ward'].isin(medium), 'ward'] = 'medium'\n",
    "    data.loc[data['ward'].isin(small), 'ward'] = 'small'\n",
    "    data.loc[data['ward'].isin(verysmall), 'ward'] = 'verysmall'\n",
    "    \n",
    "    #Latitude-Longitiude - Correct near zero values\n",
    "    data.loc[data['longitude'] == 0, 'longitude'] = np.random.choice(range(31,33))\n",
    "    data.loc[data['latitude']>-0.01, 'latitude'] = -1*np.random.choice(range(1,2))\n",
    "    \n",
    "    gps_trainX = data.loc[data['gps_height']>0, ['latitude', 'longitude']]\n",
    "    gps_trainy = data.loc[data['gps_height']>0, ['gps_height']]\n",
    "    knn_gps = KNeighborsRegressor(n_neighbors=5, weights='distance', metric='euclidean')\n",
    "    knn_gps.fit(gps_trainX, gps_trainy)\n",
    "    data.loc[data['gps_height']<=0, ['gps_height']] = knn_gps.predict(data.loc[data['gps_height']<=0, \n",
    "                                                                           ['latitude', 'longitude']])\n",
    "    \n",
    "    tsh_trainX = data[['latitude', 'longitude']]\n",
    "    scaler = StandardScaler()\n",
    "    gps_train = scaler.fit_transform(data['gps_height'].values.reshape(-1,1))\n",
    "    tsh_trainX.insert(1, value=gps_train, column='gps_height')\n",
    "    tsh_trainX.insert(0, column = 'tsh', value=data['amount_tsh'])\n",
    "    tsh_trainX = tsh_trainX.loc[tsh_trainX['tsh'].between(1,4999)]\n",
    "    tsh_trainX.drop(columns=['tsh'], inplace=True)\n",
    "    tsh_trainy = data.loc[data['amount_tsh'].between(1,4999), ['amount_tsh']]\n",
    "    knn_tsh = KNeighborsRegressor(n_neighbors=5, weights='distance', metric='euclidean')\n",
    "    knn_tsh.fit(tsh_trainX, tsh_trainy)\n",
    "    tsh_fillX = data[['latitude', 'longitude']]\n",
    "    gps_fill = scaler.transform(data['gps_height'].values.reshape(-1,1))\n",
    "    tsh_fillX.insert(1, value=gps_fill, column='gps_height')\n",
    "    tsh_fillX.insert(0, column = 'tsh', value=data['amount_tsh'])\n",
    "    tsh_fillX = tsh_fillX.loc[~tsh_fillX['tsh'].between(1,4999)]\n",
    "    tsh_fillX.drop(columns=['tsh'], inplace=True)\n",
    "    data.loc[~data['amount_tsh'].between(1,4999), ['amount_tsh']] = knn_tsh.predict(tsh_fillX)\n",
    "    \n",
    "    data.drop(columns=['source_type', 'source_class', 'extraction_type_group', 'extraction_type_class', \n",
    "                       'region', 'wpt_name', 'num_private', 'recorded_by', 'quality_group', 'quantity_group',\n",
    "                       'waterpoint_type_group', 'payment', 'construction_year', 'date_recorded', 'lga'], inplace=True)\n",
    "    return data"
   ]
  },
  {
   "cell_type": "code",
   "execution_count": 36,
   "metadata": {},
   "outputs": [],
   "source": [
    "import warnings\n",
    "import sklearn\n",
    "\n",
    "def get_feature_names(column_transformer):\n",
    "    \"\"\"Get feature names from all transformers.\n",
    "    Returns\n",
    "    -------\n",
    "    feature_names : list of strings\n",
    "        Names of the features produced by transform.\n",
    "    \"\"\"\n",
    "    # Remove the internal helper function\n",
    "    #check_is_fitted(column_transformer)\n",
    "    \n",
    "    # Turn loopkup into function for better handling with pipeline later\n",
    "    def get_names(trans):\n",
    "        # >> Original get_feature_names() method\n",
    "        if trans == 'drop' or (\n",
    "                hasattr(column, '__len__') and not len(column)):\n",
    "            return []\n",
    "        if trans == 'passthrough':\n",
    "            if hasattr(column_transformer, '_df_columns'):\n",
    "                if ((not isinstance(column, slice))\n",
    "                        and all(isinstance(col, str) for col in column)):\n",
    "                    return column\n",
    "                else:\n",
    "                    return column_transformer._df_columns[column]\n",
    "            else:\n",
    "                indices = np.arange(column_transformer._n_features)\n",
    "                return ['x%d' % i for i in indices[column]]\n",
    "        if not hasattr(trans, 'get_feature_names'):\n",
    "        # >>> Change: Return input column names if no method avaiable\n",
    "            # Turn error into a warning\n",
    "            warnings.warn(\"Transformer %s (type %s) does not \"\n",
    "                                 \"provide get_feature_names. \"\n",
    "                                 \"Will return input column names if available\"\n",
    "                                 % (str(name), type(trans).__name__))\n",
    "            # For transformers without a get_features_names method, use the input\n",
    "            # names to the column transformer\n",
    "            if column is None:\n",
    "                return []\n",
    "            else:\n",
    "                return [name + \"__\" + f for f in column]\n",
    "\n",
    "        return [name + \"__\" + f for f in trans.get_feature_names()]\n",
    "    \n",
    "    ### Start of processing\n",
    "    feature_names = []\n",
    "    \n",
    "    # Allow transformers to be pipelines. Pipeline steps are named differently, so preprocessing is needed\n",
    "    if type(column_transformer) == sklearn.pipeline.Pipeline:\n",
    "        l_transformers = [(name, trans, None, None) for step, name, trans in column_transformer._iter()]\n",
    "    else:\n",
    "        # For column transformers, follow the original method\n",
    "        l_transformers = list(column_transformer._iter(fitted=True))\n",
    "    \n",
    "    \n",
    "    for name, trans, column, _ in l_transformers: \n",
    "        if type(trans) == sklearn.pipeline.Pipeline:\n",
    "            # Recursive call on pipeline\n",
    "            _names = get_feature_names(trans)\n",
    "            # if pipeline has no transformer that returns names\n",
    "            if len(_names)==0:\n",
    "                _names = [name + \"__\" + f for f in column]\n",
    "            feature_names.extend(_names)\n",
    "        else:\n",
    "            feature_names.extend(get_names(trans))\n",
    "    \n",
    "    return feature_names\n"
   ]
  },
  {
   "cell_type": "code",
   "execution_count": null,
   "metadata": {
    "scrolled": true
   },
   "outputs": [],
   "source": [
    "train_Xf, train_y, test_Xf, test_y = prep_train(model_data, 'class')"
   ]
  },
  {
   "cell_type": "code",
   "execution_count": null,
   "metadata": {},
   "outputs": [],
   "source": [
    "pca = PCA()\n",
    "pca.fit(train_Xf.drop(columns=['scaler__gps_height']))\n",
    "pca.explained_variance_ratio_[:10]"
   ]
  },
  {
   "cell_type": "code",
   "execution_count": 77,
   "metadata": {},
   "outputs": [
    {
     "data": {
      "image/png": "[encoded data removed]",
      "text/plain": [
       "<Figure size 432x288 with 1 Axes>"
      ]
     },
     "metadata": {
      "needs_background": "light"
     },
     "output_type": "display_data"
    }
   ],
   "source": [
    "ex_var = pd.DataFrame(pca.explained_variance_ratio_.reshape(1,-1), columns=train_Xf.drop(columns=['scaler__gps_height']).columns).T.sort_values(by=0, ascending=False)\n",
    "ex_var.head(20).plot(kind='bar')\n",
    "plt.show()"
   ]
  },
  {
   "cell_type": "code",
   "execution_count": 78,
   "metadata": {},
   "outputs": [
    {
     "data": {
      "text/plain": [
       "array([0.72578769, 0.10142577, 0.04368408, 0.03434548, 0.00912386,\n",
       "       0.00737392, 0.00619062, 0.00408544, 0.00369079, 0.00328998])"
      ]
     },
     "execution_count": 78,
     "metadata": {},
     "output_type": "execute_result"
    }
   ],
   "source": [
    "pca = PCA()\n",
    "pca.fit(train_Xf)#.drop(columns=['scaler__gps_height']))\n",
    "pca.explained_variance_ratio_[:10]"
   ]
  },
  {
   "cell_type": "code",
   "execution_count": null,
   "metadata": {},
   "outputs": [],
   "source": [
    "ex_var = pd.DataFrame(pca.singular_values_.reshape(1,-1), columns=train_Xf.columns).T.sort_values(by=0, ascending=False)\n",
    "ex_var.head(20).plot(kind='bar')\n",
    "plt.show()"
   ]
  },
  {
   "cell_type": "code",
   "execution_count": 80,
   "metadata": {},
   "outputs": [
    {
     "data": {
      "text/plain": [
       "0.7953535353535354"
      ]
     },
     "execution_count": 80,
     "metadata": {},
     "output_type": "execute_result"
    }
   ],
   "source": [
    "rf = RandomForestClassifier(n_estimators = 150, criterion='entropy', max_depth=16, \n",
    "                            class_weight={'functional':1,'non functional':1.25,'funtional needs repair':10})\n",
    "rf.fit(train_Xf, train_y)\n",
    "rf.score(test_Xf, test_y)"
   ]
  },
  {
   "cell_type": "code",
   "execution_count": 120,
   "metadata": {},
   "outputs": [
    {
     "ename": "SyntaxError",
     "evalue": "expression cannot contain assignment, perhaps you meant \"==\"? (<ipython-input-120-382e4bceff6a>, line 3)",
     "output_type": "error",
     "traceback": [
      "\u001b[1;36m  File \u001b[1;32m\"<ipython-input-120-382e4bceff6a>\"\u001b[1;36m, line \u001b[1;32m3\u001b[0m\n\u001b[1;33m    rsearchpca = RandomizedSearchCV(xgbpca, param_distribution={'n_estimators'=[50, 100, 150, 200, 250],\u001b[0m\n\u001b[1;37m                                            ^\u001b[0m\n\u001b[1;31mSyntaxError\u001b[0m\u001b[1;31m:\u001b[0m expression cannot contain assignment, perhaps you meant \"==\"?\n"
     ]
    }
   ],
   "source": [
    "feed = pca.transform(train_Xf)\n",
    "xgbpca = XGBClassifier()\n",
    "rsearchpca = RandomizedSearchCV(xgbpca, param_distribution={'n_estimators'=[50, 100, 150, 200, 250], \n",
    "                                                             'max_depth'=[1, 2, 5, 10, 16, 25], \n",
    "                                                            'learning_rate'=[.5, 1, 1.5, 2, 2.5]})"
   ]
  },
  {
   "cell_type": "code",
   "execution_count": 102,
   "metadata": {},
   "outputs": [],
   "source": [
    "def model_transformer(model_data):\n",
    "    #Applies transformations from EDA notebook to training and testing sets to ensure same changes are made\n",
    "    #Correct names in extraction_type\n",
    "    data = model_data\n",
    "    \n",
    "    data['extraction_type'].replace({'other - swn 81':'other-handpump',\n",
    "                                 'other - play pump':'other-handpump', \n",
    "                                 'walimi':'other-handpump', \n",
    "                                 'other - mkulima/shinyanga':'other-handpump',\n",
    "                                'swn 80':'swn_80',\n",
    "                                 'nira/tanira':'nira-tanira',\n",
    "                                'india mark ii':'india_mark_ii',\n",
    "                                'india mark iii':'india_mark_iii',\n",
    "                                'other - rope pump':'other-rope_pump',}, inplace=True)\n",
    "    #correct names in source\n",
    "    data['source'].replace({'shallow well':'shallow_well',\n",
    "                       'machine dbh':'machine_dbh',\n",
    "                       'rainwater harvesting':'rainwater_harvesting',\n",
    "                       'hand dtw':'hand_dtw'}, inplace=True)\n",
    "\n",
    "    #Group low count subvillages in other\n",
    "    counts = data['subvillage'].value_counts()\n",
    "    counts = counts.loc[counts >=200]\n",
    "    counts = list(counts.index)\n",
    "    data.loc[~data['subvillage'].isin(counts), 'subvillage'] = 'other'\n",
    "\n",
    "    data.fillna(inplace=True, value={'installer':'unknown','permit':False, 'funder':'unknown', 'public_meeting':False, \n",
    "                                 'scheme_management':'unknown', 'scheme_name':'unknown'})\n",
    "\n",
    "    #create and boolean lga_Njombe column\n",
    "    data['lga_Njombe'] = data['lga'].replace({'Njombe':1})\n",
    "    data.loc[data['lga_Njombe']!=1, 'lga_Njombe'] = 0\n",
    "    data['lga_Njombe'] = data['lga_Njombe'].astype('int')\n",
    "\n",
    "    #remove slashes from basin names\n",
    "    data['basin'].replace({'Ruvuma / Southern Coast':'Ruvuma-Southern_Coast',\n",
    "                     'Wami / Ruvu':'Wami-Ruvu'}, inplace=True)\n",
    "\n",
    "    #convert date_recorded column to datetime object and edxtract month and year\n",
    "    data['date_recorded']= pd.to_datetime(data['date_recorded'])\n",
    "    data['date_recorded'].describe(datetime_is_numeric=True)\n",
    "    data['year']=data['date_recorded'].dt.year\n",
    "    data['month']=data['date_recorded'].dt.month\n",
    "\n",
    "    ##Convert public_meeting column to 1 or 0\n",
    "    data['public_meeting'] = data['public_meeting'].map({True:1, False:0})\n",
    "\n",
    "    #Convert permit column to 1 or 0\n",
    "    data['permit'] = data['permit'].map({True:1, False:0})\n",
    "\n",
    "    #Correct construction_year with 1999, create years_old column\n",
    "    data['construction_year'].replace({0:1999}, inplace=True)\n",
    "    data['construction_year'] = pd.to_datetime(data['construction_year'], format='%Y')\n",
    "    data['years_old'] = data['date_recorded'].dt.year - data['construction_year'].dt.year\n",
    "\n",
    "    #Group low count scheme_names under other\n",
    "    counts2 = data['scheme_name'].value_counts()\n",
    "    counts2 = counts2.loc[counts2 >=200]\n",
    "    counts2 = list(counts2.index)\n",
    "    data.loc[~data['scheme_name'].isin(counts2), 'scheme_name'] = 'other'\n",
    "    \n",
    "    #group low count funders under other\n",
    "    counts3 = data['funder'].value_counts()\n",
    "    counts3 = counts3.loc[counts3 >=500]\n",
    "    counts3 = list(counts3.index)\n",
    "    data.loc[~data['funder'].isin(counts3), 'funder'] = 'other'\n",
    "    data.loc[data['funder']=='Government Of Tanzania', 'funder'] = 'gov_tanz'\n",
    "\n",
    "    #Group low count installers under other\n",
    "    counts4 = data['installer'].value_counts()\n",
    "    counts4 = counts4.loc[counts4 >=500]\n",
    "    counts4 = list(counts4.index)\n",
    "    data.loc[~data['installer'].isin(counts4), 'installer'] = 'other'\n",
    "    \n",
    "    #Create column for population bins\n",
    "    data['popbins'] = pd.cut(data['population'], [-1,2,250,500,1000,2500,10000,40000], labels=list(range(1,8)))\n",
    "    \n",
    "    #Amount_TSH - Change to bins\n",
    "    data.loc[data['amount_tsh']>5000, 'amount_tsh'] = 5000\n",
    "    data.loc[data['amount_tsh']>0, 'amount_tsh'] = pd.qcut(data.loc[data['amount_tsh']>0, 'amount_tsh'], \n",
    "                                                           q=5, duplicates='drop',labels=False)           \n",
    "    \n",
    "    #Ward Feature - Change to Bins\n",
    "    counts5 = data['ward'].value_counts()\n",
    "    verybig = counts5.loc[counts5.between(200,400)].index\n",
    "    big = counts5.loc[counts5.between(100,200)].index\n",
    "    medium = counts5.loc[counts5.between(50,100)].index\n",
    "    small = counts5.loc[counts5.between(25,50)].index\n",
    "    verysmall = counts5.loc[counts5 <=25].index\n",
    "    data.loc[data['ward'].isin(verybig), 'ward'] = 'verybig'\n",
    "    data.loc[data['ward'].isin(big), 'ward'] = 'big'\n",
    "    data.loc[data['ward'].isin(medium), 'ward'] = 'medium'\n",
    "    data.loc[data['ward'].isin(small), 'ward'] = 'small'\n",
    "    data.loc[data['ward'].isin(verysmall), 'ward'] = 'verysmall'\n",
    "    \n",
    "    #Latitude-Longitiude - Correct near zero values\n",
    "    data.loc[data['longitude'] == 0, 'longitude'] = np.random.choice(range(31,33))\n",
    "    data.loc[data['latitude']>-0.01, 'latitude'] = -1*np.random.choice(range(1,2))\n",
    "    \n",
    "    lin_gps_trainX = data.loc[data['gps_height']>0, ['latitude', 'longitude']]\n",
    "    lin_gps_trainy = data.loc[data['gps_height']>0, ['gps_height']]\n",
    "    lin = LinearRegression()\n",
    "    lin.fit(lin_gps_trainX, lin_gps_trainy)\n",
    "    data.loc[data['gps_height']<=0, ['gps_height']] = lin.predict(data.loc[data['gps_height']<=0, ['latitude', 'longitude']])\n",
    "    \n",
    "    data.drop(columns=['source_type', 'source_class', 'extraction_type_group', 'extraction_type_class', \n",
    "                       'region', 'wpt_name', 'num_private', 'recorded_by', 'quality_group', 'quantity_group',\n",
    "                       'waterpoint_type_group', 'payment', 'construction_year', 'date_recorded', 'lga', 'id'], inplace=True)\n",
    "    return data"
   ]
  },
  {
   "cell_type": "code",
   "execution_count": 109,
   "metadata": {},
   "outputs": [],
   "source": [
    "submit_values= pd.read_csv('Source_data/testset_values.csv')"
   ]
  },
  {
   "cell_type": "code",
   "execution_count": 105,
   "metadata": {
    "scrolled": true
   },
   "outputs": [
    {
     "name": "stderr",
     "output_type": "stream",
     "text": [
      "<ipython-input-51-2f824cd414e6>:35: UserWarning: Transformer scaler (type StandardScaler) does not provide get_feature_names. Will return input column names if available\n",
      "  warnings.warn(\"Transformer %s (type %s) does not \"\n"
     ]
    }
   ],
   "source": [
    "submit_Xf = prep_submit(submit_values)"
   ]
  },
  {
   "cell_type": "code",
   "execution_count": 116,
   "metadata": {},
   "outputs": [],
   "source": [
    "y_pred = rf.predict(submit_Xf)"
   ]
  },
  {
   "cell_type": "code",
   "execution_count": 117,
   "metadata": {},
   "outputs": [],
   "source": [
    "submission2 = pd.DataFrame(y_pred, columns=['status_group'])\n",
    "submission2['id'] = submit_values['id']"
   ]
  },
  {
   "cell_type": "code",
   "execution_count": 118,
   "metadata": {},
   "outputs": [],
   "source": [
    "submission2.to_csv('submission3_BW.csv')"
   ]
  },
  {
   "cell_type": "code",
   "execution_count": 100,
   "metadata": {},
   "outputs": [
    {
     "name": "stderr",
     "output_type": "stream",
     "text": [
      "C:\\Users\\bwils\\anaconda3\\envs\\pumpitup\\lib\\site-packages\\xgboost\\sklearn.py:1146: UserWarning: The use of label encoder in XGBClassifier is deprecated and will be removed in a future release. To remove this warning, do the following: 1) Pass option use_label_encoder=False when constructing XGBClassifier object; and 2) Encode your labels (y) as integers starting with 0, i.e. 0, 1, 2, ..., [num_class - 1].\n",
      "  warnings.warn(label_encoder_deprecation_msg, UserWarning)\n"
     ]
    },
    {
     "name": "stdout",
     "output_type": "stream",
     "text": [
      "[20:45:31] WARNING: ..\\src\\learner.cc:1095: Starting in XGBoost 1.3.0, the default evaluation metric used with the objective 'multi:softprob' was changed from 'merror' to 'mlogloss'. Explicitly set eval_metric if you'd like to restore the old behavior.\n"
     ]
    },
    {
     "data": {
      "text/plain": [
       "0.7886868686868687"
      ]
     },
     "execution_count": 100,
     "metadata": {},
     "output_type": "execute_result"
    }
   ],
   "source": [
    "xgb = XGBClassifier()\n",
    "xgb.fit(train_Xf, train_y)\n",
    "xgb.score(test_Xf, test_y)"
   ]
  },
  {
   "cell_type": "code",
   "execution_count": 115,
   "metadata": {},
   "outputs": [
    {
     "name": "stderr",
     "output_type": "stream",
     "text": [
      "C:\\Users\\bwils\\anaconda3\\envs\\pumpitup\\lib\\site-packages\\xgboost\\sklearn.py:1146: UserWarning: The use of label encoder in XGBClassifier is deprecated and will be removed in a future release. To remove this warning, do the following: 1) Pass option use_label_encoder=False when constructing XGBClassifier object; and 2) Encode your labels (y) as integers starting with 0, i.e. 0, 1, 2, ..., [num_class - 1].\n",
      "  warnings.warn(label_encoder_deprecation_msg, UserWarning)\n"
     ]
    },
    {
     "name": "stdout",
     "output_type": "stream",
     "text": [
      "[17:11:48] WARNING: ..\\src\\learner.cc:1095: Starting in XGBoost 1.3.0, the default evaluation metric used with the objective 'multi:softprob' was changed from 'merror' to 'mlogloss'. Explicitly set eval_metric if you'd like to restore the old behavior.\n"
     ]
    },
    {
     "data": {
      "text/plain": [
       "0.8118"
      ]
     },
     "execution_count": 115,
     "metadata": {},
     "output_type": "execute_result"
    }
   ],
   "source": [
    "xgbsam = XGBClassifier()\n",
    "xgbsam.fit(train_Xfsampled, train_ysampled)\n",
    "xgbsam.score(test_Xfsampled, test_ysampled)"
   ]
  },
  {
   "cell_type": "code",
   "execution_count": 71,
   "metadata": {},
   "outputs": [
    {
     "data": {
      "text/plain": [
       "24947    non functional\n",
       "22630        functional\n",
       "13789        functional\n",
       "15697        functional\n",
       "22613    non functional\n",
       "              ...      \n",
       "54343        functional\n",
       "38158        functional\n",
       "860      non functional\n",
       "15795        functional\n",
       "56422    non functional\n",
       "Name: label, Length: 44550, dtype: object"
      ]
     },
     "execution_count": 71,
     "metadata": {},
     "output_type": "execute_result"
    }
   ],
   "source": [
    "train_y"
   ]
  },
  {
   "cell_type": "code",
   "execution_count": 84,
   "metadata": {},
   "outputs": [],
   "source": [
    "class1 = model_data.loc[model_data['class']=='functional'].sample(100000, replace=True)\n",
    "class2 = model_data.loc[model_data['class']=='non functional'].sample(100000, replace=True)\n",
    "class3 = model_data.loc[model_data['class']=='functional needs repair'].sample(100000, replace=True)\n",
    "sampled_values = pd.concat([class1, class2, class3])"
   ]
  },
  {
   "cell_type": "code",
   "execution_count": 86,
   "metadata": {},
   "outputs": [
    {
     "data": {
      "text/plain": [
       "functional needs repair    100000\n",
       "functional                 100000\n",
       "non functional             100000\n",
       "Name: class, dtype: int64"
      ]
     },
     "execution_count": 86,
     "metadata": {},
     "output_type": "execute_result"
    }
   ],
   "source": [
    "sampled_values['class'].value_counts()"
   ]
  },
  {
   "cell_type": "code",
   "execution_count": 160,
   "metadata": {},
   "outputs": [
    {
     "data": {
      "text/plain": [
       "array(['functional', 'non functional', 'functional needs repair'],\n",
       "      dtype=object)"
      ]
     },
     "execution_count": 160,
     "metadata": {},
     "output_type": "execute_result"
    }
   ],
   "source": [
    "sampled_values.iloc[:,1].unique()"
   ]
  },
  {
   "cell_type": "code",
   "execution_count": 87,
   "metadata": {},
   "outputs": [],
   "source": [
    "sampled_values['class'] = sampled_values['class'].map({'functional':1, 'non functional':2, 'functional needs repair':3})"
   ]
  },
  {
   "cell_type": "code",
   "execution_count": 88,
   "metadata": {},
   "outputs": [
    {
     "data": {
      "text/plain": [
       "array([1, 2, 3], dtype=int64)"
      ]
     },
     "execution_count": 88,
     "metadata": {},
     "output_type": "execute_result"
    }
   ],
   "source": [
    "sampled_values['class'].unique()"
   ]
  },
  {
   "cell_type": "code",
   "execution_count": 89,
   "metadata": {},
   "outputs": [
    {
     "data": {
      "text/plain": [
       "(21,)"
      ]
     },
     "execution_count": 89,
     "metadata": {},
     "output_type": "execute_result"
    }
   ],
   "source": [
    "sampled_values['funder'].unique().shape"
   ]
  },
  {
   "cell_type": "code",
   "execution_count": 91,
   "metadata": {
    "scrolled": true
   },
   "outputs": [
    {
     "name": "stdout",
     "output_type": "stream",
     "text": [
      "[ColumnTransformer] ........ (1 of 3) Processing scaler, total=   0.0s\n",
      "[ColumnTransformer] ........... (2 of 3) Processing ohe, total=   1.3s\n",
      "[ColumnTransformer] ..... (3 of 3) Processing remainder, total=   0.0s\n"
     ]
    },
    {
     "name": "stderr",
     "output_type": "stream",
     "text": [
      "<ipython-input-51-2f824cd414e6>:35: UserWarning: Transformer scaler (type StandardScaler) does not provide get_feature_names. Will return input column names if available\n",
      "  warnings.warn(\"Transformer %s (type %s) does not \"\n"
     ]
    }
   ],
   "source": [
    "train_Xfsampled, train_ysampled, test_Xfsampled, test_ysampled = prep_train(sampled_values, 'class')"
   ]
  },
  {
   "cell_type": "code",
   "execution_count": 92,
   "metadata": {},
   "outputs": [
    {
     "data": {
      "text/plain": [
       "0.8728133333333333"
      ]
     },
     "execution_count": 92,
     "metadata": {},
     "output_type": "execute_result"
    }
   ],
   "source": [
    "rfsampled = RandomForestClassifier(n_estimators = 150, criterion='entropy', max_depth=16)\n",
    "rfsampled.fit(train_Xfsampled, train_ysampled)\n",
    "rfsampled.score(test_Xfsampled, test_ysampled)"
   ]
  },
  {
   "cell_type": "code",
   "execution_count": 112,
   "metadata": {},
   "outputs": [],
   "source": [
    "imp = pd.DataFrame(rfsampled.feature_importances_, index=train_Xfsampled.columns).sort_values(by=0, ascending=False)"
   ]
  },
  {
   "cell_type": "code",
   "execution_count": 113,
   "metadata": {},
   "outputs": [
    {
     "data": {
      "image/png": "[encoded data removed]",
      "text/plain": [
       "<Figure size 432x288 with 1 Axes>"
      ]
     },
     "metadata": {
      "needs_background": "light"
     },
     "output_type": "display_data"
    }
   ],
   "source": [
    "imp.head(20).plot(kind='bar')\n",
    "plt.xticks(rotation=90)\n",
    "plt.show()"
   ]
  },
  {
   "cell_type": "code",
   "execution_count": null,
   "metadata": {},
   "outputs": [],
   "source": [
    "from numpy import loadtxt\n",
    "from keras.models import Sequential\n",
    "from keras.layers import Dense\n",
    "\n",
    "# define the keras model\n",
    "model = Sequential()\n",
    "model.add(Dense(12, input_dim=8, activation='relu'))\n",
    "model.add(Dense(8, activation='relu'))\n",
    "model.add(Dense(1, activation='sigmoid'))\n",
    "# compile the keras model\n",
    "model.compile(loss='binary_crossentropy', optimizer='adam', metrics=['accuracy'])\n",
    "# fit the keras model on the dataset\n",
    "model.fit(trainXf, train_y, epochs=150, batch_size=10)\n",
    "# evaluate the keras model\n",
    "_, accuracy = model.evaluate(test_Xf, test_y)\n",
    "print('Accuracy: %.2f' % (accuracy*100))"
   ]
  },
  {
   "cell_type": "code",
   "execution_count": 149,
   "metadata": {},
   "outputs": [
    {
     "data": {
      "text/plain": [
       "Index(['scaler__gps_height', 'scaler__population', 'ohe__x0_Internal',\n",
       "       'ohe__x0_Lake Nyasa', 'ohe__x0_Lake Rukwa', 'ohe__x0_Lake Tanganyika',\n",
       "       'ohe__x0_Lake Victoria', 'ohe__x0_Pangani', 'ohe__x0_Rufiji',\n",
       "       'ohe__x0_Ruvuma-Southern_Coast',\n",
       "       ...\n",
       "       'ohe__x18_6', 'ohe__x18_7', 'longitude', 'latitude', 'public_meeting',\n",
       "       'permit', 'lga_Njombe', 'year', 'month', 'years_old'],\n",
       "      dtype='object', length=290)"
      ]
     },
     "execution_count": 149,
     "metadata": {},
     "output_type": "execute_result"
    }
   ],
   "source": [
    "train_Xfsampled.columns"
   ]
  },
  {
   "cell_type": "code",
   "execution_count": 133,
   "metadata": {},
   "outputs": [
    {
     "name": "stderr",
     "output_type": "stream",
     "text": [
      "C:\\Users\\bwils\\anaconda3\\envs\\pumpitup\\lib\\site-packages\\xgboost\\sklearn.py:1146: UserWarning: The use of label encoder in XGBClassifier is deprecated and will be removed in a future release. To remove this warning, do the following: 1) Pass option use_label_encoder=False when constructing XGBClassifier object; and 2) Encode your labels (y) as integers starting with 0, i.e. 0, 1, 2, ..., [num_class - 1].\n",
      "  warnings.warn(label_encoder_deprecation_msg, UserWarning)\n"
     ]
    },
    {
     "name": "stdout",
     "output_type": "stream",
     "text": [
      "[21:13:53] WARNING: ..\\src\\learner.cc:1095: Starting in XGBoost 1.3.0, the default evaluation metric used with the objective 'multi:softprob' was changed from 'merror' to 'mlogloss'. Explicitly set eval_metric if you'd like to restore the old behavior.\n"
     ]
    },
    {
     "data": {
      "text/plain": [
       "0.7405866666666666"
      ]
     },
     "execution_count": 133,
     "metadata": {},
     "output_type": "execute_result"
    }
   ],
   "source": [
    "xgbsampled = XGBClassifier(use_label_encoder=False)\n",
    "xgbsampled.fit(train_Xfsampled, train_ysampled)\n",
    "xgbsampled.score(test_Xfsampled, test_ysampled)"
   ]
  },
  {
   "cell_type": "code",
   "execution_count": 94,
   "metadata": {},
   "outputs": [],
   "source": [
    "submit_values= pd.read_csv('Source_data/testset_values.csv')"
   ]
  },
  {
   "cell_type": "code",
   "execution_count": 95,
   "metadata": {
    "scrolled": true
   },
   "outputs": [
    {
     "name": "stderr",
     "output_type": "stream",
     "text": [
      "<ipython-input-59-2f47c8d752fa>:33: UserWarning: Transformer scaler (type StandardScaler) does not provide get_feature_names. Will return input column names if available\n",
      "  warnings.warn(\"Transformer %s (type %s) does not \"\n"
     ]
    }
   ],
   "source": [
    "submit_Xf = prep_submit(submit_values)"
   ]
  },
  {
   "cell_type": "code",
   "execution_count": 98,
   "metadata": {},
   "outputs": [],
   "source": [
    "y_pred = rf.predict(submit_Xf)"
   ]
  },
  {
   "cell_type": "code",
   "execution_count": 81,
   "metadata": {},
   "outputs": [
    {
     "name": "stderr",
     "output_type": "stream",
     "text": [
      "C:\\Users\\bwils\\anaconda3\\envs\\pumpitup\\lib\\site-packages\\xgboost\\sklearn.py:1146: UserWarning: The use of label encoder in XGBClassifier is deprecated and will be removed in a future release. To remove this warning, do the following: 1) Pass option use_label_encoder=False when constructing XGBClassifier object; and 2) Encode your labels (y) as integers starting with 0, i.e. 0, 1, 2, ..., [num_class - 1].\n",
      "  warnings.warn(label_encoder_deprecation_msg, UserWarning)\n"
     ]
    },
    {
     "name": "stdout",
     "output_type": "stream",
     "text": [
      "[16:56:16] WARNING: ..\\src\\learner.cc:1095: Starting in XGBoost 1.3.0, the default evaluation metric used with the objective 'multi:softprob' was changed from 'merror' to 'mlogloss'. Explicitly set eval_metric if you'd like to restore the old behavior.\n"
     ]
    },
    {
     "data": {
      "text/plain": [
       "0.7954208754208755"
      ]
     },
     "execution_count": 81,
     "metadata": {},
     "output_type": "execute_result"
    }
   ],
   "source": [
    "xgb = XGBClassifier()\n",
    "xgb.fit(train_Xf, train_y)\n",
    "xgb.score(test_Xf, test_y)"
   ]
  },
  {
   "cell_type": "code",
   "execution_count": null,
   "metadata": {},
   "outputs": [],
   "source": []
  },
  {
   "cell_type": "code",
   "execution_count": null,
   "metadata": {},
   "outputs": [],
   "source": []
  },
  {
   "cell_type": "code",
   "execution_count": null,
   "metadata": {},
   "outputs": [],
   "source": []
  },
  {
   "cell_type": "code",
   "execution_count": null,
   "metadata": {},
   "outputs": [],
   "source": [
    "#data_test.columns == data.drop(columns=['label']).columns"
   ]
  },
  {
   "cell_type": "code",
   "execution_count": 20,
   "metadata": {},
   "outputs": [
    {
     "name": "stdout",
     "output_type": "stream",
     "text": [
      "[Pipeline] ............... (step 1 of 3) Processing EDA, total=   0.3s\n",
      "[ColumnTransformer] ........ (1 of 3) Processing scaler, total=   0.0s\n",
      "[ColumnTransformer] ........... (2 of 3) Processing ohe, total=   0.3s\n",
      "[ColumnTransformer] ..... (3 of 3) Processing remainder, total=   0.0s\n",
      "[Pipeline] ................ (step 2 of 3) Processing CT, total=   0.4s\n",
      "[Pipeline] ............. (step 3 of 3) Processing model, total= 2.3min\n"
     ]
    },
    {
     "data": {
      "text/plain": [
       "Pipeline(steps=[('EDA',\n",
       "                 FunctionTransformer(func=<function test_transformer at 0x000001A04B91D430>)),\n",
       "                ('CT',\n",
       "                 ColumnTransformer(remainder='passthrough',\n",
       "                                   transformers=[('scaler', StandardScaler(),\n",
       "                                                  ['gps_height', 'population']),\n",
       "                                                 ('ohe', OneHotEncoder(),\n",
       "                                                  ['basin', 'region_code',\n",
       "                                                   'district_code',\n",
       "                                                   'extraction_type',\n",
       "                                                   'payment_type',\n",
       "                                                   'water_quality', 'quantity',\n",
       "                                                   'source', 'management',\n",
       "                                                   'management_group',\n",
       "                                                   'waterpoint_type', 'funder',\n",
       "                                                   'installer', 'subvillage',\n",
       "                                                   'ward', 'scheme_management',\n",
       "                                                   'scheme_name', 'amount_tsh',\n",
       "                                                   'popbins'])],\n",
       "                                   verbose=True)),\n",
       "                ('model', RandomForestClassifier())],\n",
       "         verbose=True)"
      ]
     },
     "execution_count": 20,
     "metadata": {},
     "output_type": "execute_result"
    }
   ],
   "source": [
    "values = pd.read_csv('Source_data/trainset_values.csv')\n",
    "labels = pd.read_csv('Source_data/trainset_labels.csv')\n",
    "values.insert(loc=1, column='label', value=labels['status_group'])\n",
    "train_X, test_X, train_y, test_y = train_test_split(values.drop(columns=['label']), values['label'], \n",
    "                                                    test_size=0.25, random_state=42)\n",
    "model1.fit(train_X, train_y)"
   ]
  },
  {
   "cell_type": "code",
   "execution_count": 21,
   "metadata": {},
   "outputs": [
    {
     "data": {
      "text/plain": [
       "0.7975084175084175"
      ]
     },
     "execution_count": 21,
     "metadata": {},
     "output_type": "execute_result"
    }
   ],
   "source": [
    "model1.score(test_X, test_y)"
   ]
  },
  {
   "cell_type": "code",
   "execution_count": 22,
   "metadata": {},
   "outputs": [
    {
     "ename": "AttributeError",
     "evalue": "'Pipeline' object has no attribute 'feature_importances_'",
     "output_type": "error",
     "traceback": [
      "\u001b[1;31m---------------------------------------------------------------------------\u001b[0m",
      "\u001b[1;31mAttributeError\u001b[0m                            Traceback (most recent call last)",
      "\u001b[1;32m<ipython-input-22-70b406756cf5>\u001b[0m in \u001b[0;36m<module>\u001b[1;34m\u001b[0m\n\u001b[1;32m----> 1\u001b[1;33m \u001b[0mmodel1\u001b[0m\u001b[1;33m.\u001b[0m\u001b[0mfeature_importances_\u001b[0m\u001b[1;33m\u001b[0m\u001b[1;33m\u001b[0m\u001b[0m\n\u001b[0m",
      "\u001b[1;31mAttributeError\u001b[0m: 'Pipeline' object has no attribute 'feature_importances_'"
     ]
    }
   ],
   "source": [
    "model1.feature_importances_"
   ]
  },
  {
   "cell_type": "code",
   "execution_count": null,
   "metadata": {},
   "outputs": [],
   "source": [
    "svc_predict = model.predict()"
   ]
  },
  {
   "cell_type": "code",
   "execution_count": null,
   "metadata": {},
   "outputs": [],
   "source": [
    "rs = RandomizedSearch()"
   ]
  },
  {
   "cell_type": "code",
   "execution_count": null,
   "metadata": {},
   "outputs": [],
   "source": []
  },
  {
   "cell_type": "code",
   "execution_count": null,
   "metadata": {},
   "outputs": [],
   "source": []
  },
  {
   "cell_type": "code",
   "execution_count": null,
   "metadata": {},
   "outputs": [],
   "source": [
    "data2.columns"
   ]
  },
  {
   "cell_type": "code",
   "execution_count": null,
   "metadata": {},
   "outputs": [],
   "source": [
    "scaler = StandardScaler()\n",
    "ohe = OneHotEncoder(drop='first')"
   ]
  },
  {
   "cell_type": "code",
   "execution_count": null,
   "metadata": {},
   "outputs": [],
   "source": [
    "train_num = data2.loc[:,]"
   ]
  },
  {
   "cell_type": "code",
   "execution_count": null,
   "metadata": {},
   "outputs": [],
   "source": [
    "for c in train_num.columns:\n",
    "    train_num[c] = scaler.fit_transform(train_num.loc[:,c].to_numpy().reshape(-1,1))#"
   ]
  },
  {
   "cell_type": "code",
   "execution_count": null,
   "metadata": {},
   "outputs": [],
   "source": [
    "train_num"
   ]
  },
  {
   "cell_type": "code",
   "execution_count": null,
   "metadata": {},
   "outputs": [],
   "source": [
    "colt = ColumnTransformer([('basin', ohe, ['basin']), \n",
    "                          ('r_code', ohe, ['region_code']), \n",
    "                          ('d_code', ohe, ['district_code']), \n",
    "                          ('ex', ohe, ['extraction_type']), \n",
    "                          ('pay', ohe, ['payment_type']), \n",
    "                          ('qual', ohe, ['water_quality']),\n",
    "                          ('quant', ohe, ['quantity']), \n",
    "                          ('s_type', ohe, ['source']),\n",
    "                          ('mang', ohe, ['management']),\n",
    "                          ('mang_g', ohe, ['management_group']),\n",
    "                          ('wp_type', ohe, ['waterpoint_type']),\n",
    "                         ('fund', ohe, ['funder']),\n",
    "                         ('inst', ohe, ['installer']),\n",
    "                         ('subv', ohe, ['subvillage']),\n",
    "                         ('ward', ohe, ['ward']),\n",
    "                         ('sch_man', ohe, ['scheme_management']),\n",
    "                         ('sch', ohe, ['scheme_name'])])"
   ]
  },
  {
   "cell_type": "code",
   "execution_count": null,
   "metadata": {},
   "outputs": [],
   "source": [
    "train_cat = data2.loc[:,]\n",
    "train_df = colt.fit_transform(train_cat).toarray()"
   ]
  },
  {
   "cell_type": "code",
   "execution_count": null,
   "metadata": {},
   "outputs": [],
   "source": [
    "train_cat = pd.DataFrame(train_df, columns=colt.get_feature_names())"
   ]
  },
  {
   "cell_type": "code",
   "execution_count": null,
   "metadata": {},
   "outputs": [],
   "source": [
    "train = train_num.merge(train_cat, left_index=True, right_index=True)"
   ]
  },
  {
   "cell_type": "code",
   "execution_count": null,
   "metadata": {},
   "outputs": [],
   "source": [
    "train"
   ]
  },
  {
   "cell_type": "code",
   "execution_count": null,
   "metadata": {},
   "outputs": [],
   "source": [
    "train.shape"
   ]
  },
  {
   "cell_type": "code",
   "execution_count": null,
   "metadata": {},
   "outputs": [],
   "source": [
    "train = train.merge(data2[['lga_Njombe', 'year', 'month', 'tsh_bin', 'years_old', 'popbins', 'longitude', 'latitude', \n",
    "                          'public_meeting', 'permit']], left_index=True, right_index=True)"
   ]
  },
  {
   "cell_type": "code",
   "execution_count": null,
   "metadata": {},
   "outputs": [],
   "source": [
    "train_X, test_X, train_y, test_y = train_test_split(train, data2['label'], test_size=0.25, random_state=42)"
   ]
  },
  {
   "cell_type": "code",
   "execution_count": null,
   "metadata": {},
   "outputs": [],
   "source": [
    "rf = RandomForestClassifier()\n",
    "params = {'n_estimators':[10, 100, 200, 500], 'criterion':['gini', 'entropy']}\n",
    "rs = RandomizedSearchCV(rf, params, n_iter=5)"
   ]
  },
  {
   "cell_type": "code",
   "execution_count": null,
   "metadata": {},
   "outputs": [],
   "source": [
    "rf.fit(train_X, train_y)\n",
    "rf.score(test_X, test_y)"
   ]
  },
  {
   "cell_type": "code",
   "execution_count": null,
   "metadata": {},
   "outputs": [],
   "source": [
    "rs.fit(train_X, train_y)\n",
    "rs.best_estimator_\n",
    "rs.cv_results_"
   ]
  },
  {
   "cell_type": "code",
   "execution_count": null,
   "metadata": {},
   "outputs": [],
   "source": [
    "rf.classes_"
   ]
  },
  {
   "cell_type": "code",
   "execution_count": null,
   "metadata": {},
   "outputs": [],
   "source": [
    "features = pd.Series(rf.feature_importances_, index=train.columns)"
   ]
  },
  {
   "cell_type": "code",
   "execution_count": null,
   "metadata": {},
   "outputs": [],
   "source": [
    "features.sort_values(ascending=False).head(20)"
   ]
  },
  {
   "cell_type": "code",
   "execution_count": null,
   "metadata": {},
   "outputs": [],
   "source": [
    "data2['label2'] = data2['label'].replace({'functional needs repair':'functional'})"
   ]
  },
  {
   "cell_type": "code",
   "execution_count": null,
   "metadata": {},
   "outputs": [],
   "source": [
    "train_X, test_X, train_y, test_y = train_test_split(train, data2['label'], test_size=0.25, random_state=42)"
   ]
  },
  {
   "cell_type": "code",
   "execution_count": null,
   "metadata": {},
   "outputs": [],
   "source": [
    "rf.fit(train_X, train_y)\n",
    "rf.score(test_X, test_y)"
   ]
  },
  {
   "cell_type": "code",
   "execution_count": null,
   "metadata": {},
   "outputs": [],
   "source": [
    "rs.score(test_X, test_y)"
   ]
  },
  {
   "cell_type": "code",
   "execution_count": null,
   "metadata": {},
   "outputs": [],
   "source": [
    "y_pred = rs.predict(test_X)"
   ]
  },
  {
   "cell_type": "code",
   "execution_count": null,
   "metadata": {},
   "outputs": [],
   "source": [
    "from sklearn.metrics import confusion_matrix, ConfusionMatrixDisplay"
   ]
  },
  {
   "cell_type": "code",
   "execution_count": null,
   "metadata": {},
   "outputs": [],
   "source": [
    "cm=confusion_matrix(test_y, y_pred, labels=rs.classes_)\n",
    "disp = ConfusionMatrixDisplay(cm, display_labels=rs.classes_)\n",
    "plt.figure(figsize=(40,8))\n",
    "disp.plot()"
   ]
  },
  {
   "cell_type": "code",
   "execution_count": null,
   "metadata": {},
   "outputs": [],
   "source": [
    "test_X.insert(2,value=y_pred, column='prediction')"
   ]
  },
  {
   "cell_type": "code",
   "execution_count": null,
   "metadata": {},
   "outputs": [],
   "source": [
    "test_X"
   ]
  },
  {
   "cell_type": "code",
   "execution_count": null,
   "metadata": {},
   "outputs": [],
   "source": [
    "y_pred = rs.predict(train)"
   ]
  },
  {
   "cell_type": "code",
   "execution_count": null,
   "metadata": {},
   "outputs": [],
   "source": [
    "rs.score(train, data2['label'])"
   ]
  },
  {
   "cell_type": "code",
   "execution_count": null,
   "metadata": {},
   "outputs": [],
   "source": [
    "data2.insert(2, value=y_pred, column='prediction')"
   ]
  },
  {
   "cell_type": "code",
   "execution_count": null,
   "metadata": {},
   "outputs": [],
   "source": [
    "data2.head()"
   ]
  },
  {
   "cell_type": "code",
   "execution_count": null,
   "metadata": {},
   "outputs": [],
   "source": [
    "errors = data2.loc[data2['label']!=data2['prediction']]\n",
    "errors"
   ]
  },
  {
   "cell_type": "code",
   "execution_count": null,
   "metadata": {},
   "outputs": [],
   "source": [
    "correct = data2.loc[data2['label']==data2['prediction']]\n",
    "correct"
   ]
  },
  {
   "cell_type": "code",
   "execution_count": null,
   "metadata": {},
   "outputs": [],
   "source": [
    "errors.describe()"
   ]
  },
  {
   "cell_type": "code",
   "execution_count": null,
   "metadata": {},
   "outputs": [],
   "source": [
    "sns.scatterplot(data=errors, x='longitude', y='latitude')\n",
    "plt.show()"
   ]
  },
  {
   "cell_type": "code",
   "execution_count": null,
   "metadata": {},
   "outputs": [],
   "source": [
    "errors['amount_tsh'].plot(c='red')\n",
    "data2['amount_tsh'].plot(c='blue')\n",
    "plt.show()"
   ]
  },
  {
   "cell_type": "code",
   "execution_count": null,
   "metadata": {},
   "outputs": [],
   "source": []
  },
  {
   "cell_type": "code",
   "execution_count": null,
   "metadata": {},
   "outputs": [],
   "source": []
  },
  {
   "cell_type": "code",
   "execution_count": null,
   "metadata": {},
   "outputs": [],
   "source": []
  },
  {
   "cell_type": "code",
   "execution_count": null,
   "metadata": {},
   "outputs": [],
   "source": []
  },
  {
   "cell_type": "code",
   "execution_count": null,
   "metadata": {},
   "outputs": [],
   "source": []
  },
  {
   "cell_type": "code",
   "execution_count": null,
   "metadata": {},
   "outputs": [],
   "source": [
    "submit_X = pd.read_csv('Source_data/testset_values.csv')"
   ]
  },
  {
   "cell_type": "code",
   "execution_count": null,
   "metadata": {},
   "outputs": [],
   "source": [
    "train_num = submit_X.loc[:,['amount_tsh', 'gps_height', 'population',]]"
   ]
  },
  {
   "cell_type": "code",
   "execution_count": null,
   "metadata": {},
   "outputs": [],
   "source": [
    "for c in train_num.columns:\n",
    "    train_num[c] = scaler.fit_transform(train_num.loc[:,c].to_numpy().reshape(-1,1))#"
   ]
  },
  {
   "cell_type": "code",
   "execution_count": null,
   "metadata": {},
   "outputs": [],
   "source": [
    "train_num"
   ]
  },
  {
   "cell_type": "code",
   "execution_count": null,
   "metadata": {},
   "outputs": [],
   "source": [
    "colt = ColumnTransformer([('basin', ohe, ['basin']), \n",
    "                          ('r_code', ohe, ['region_code']), \n",
    "                          ('d_code', ohe, ['district_code']), \n",
    "                          ('ex', ohe, ['extraction_type']), \n",
    "                          ('pay', ohe, ['payment_type']), \n",
    "                          ('qual', ohe, ['water_quality']),\n",
    "                          ('quant', ohe, ['quantity']), \n",
    "                          ('s_type', ohe, ['source']),\n",
    "                          ('mang', ohe, ['management']),\n",
    "                          ('mang_g', ohe, ['management_group']),\n",
    "                          ('wp_type', ohe, ['waterpoint_type']),\n",
    "                         ('fund', ohe, ['funder']),\n",
    "                         ('inst', ohe, ['installer']),\n",
    "                         ('subv', ohe, ['subvillage']),\n",
    "                         ('ward', ohe, ['ward']),\n",
    "                         ('sch_man', ohe, ['scheme_management']),\n",
    "                         ('sch', ohe, ['scheme_name'])])"
   ]
  },
  {
   "cell_type": "code",
   "execution_count": null,
   "metadata": {},
   "outputs": [],
   "source": [
    "train_cat = submit_X.loc[:,['basin', 'region_code', 'district_code', 'extraction_type', 'payment_type', 'water_quality', \n",
    "                           'quantity', 'source', 'management', 'management_group', 'waterpoint_type', \n",
    "                           'funder', 'installer', 'subvillage', 'ward', 'scheme_management', 'scheme_name']]\n",
    "train_df = colt.fit_transform(train_cat).toarray()"
   ]
  },
  {
   "cell_type": "code",
   "execution_count": null,
   "metadata": {},
   "outputs": [],
   "source": [
    "train_df"
   ]
  },
  {
   "cell_type": "code",
   "execution_count": null,
   "metadata": {},
   "outputs": [],
   "source": [
    "train_cat = pd.DataFrame(train_df, columns=colt.get_feature_names())"
   ]
  },
  {
   "cell_type": "code",
   "execution_count": null,
   "metadata": {},
   "outputs": [],
   "source": [
    "train_cat"
   ]
  },
  {
   "cell_type": "code",
   "execution_count": null,
   "metadata": {},
   "outputs": [],
   "source": [
    "train = train_num.merge(train_cat, left_index=True, right_index=True)"
   ]
  },
  {
   "cell_type": "code",
   "execution_count": null,
   "metadata": {},
   "outputs": [],
   "source": [
    "train.shape"
   ]
  },
  {
   "cell_type": "code",
   "execution_count": null,
   "metadata": {},
   "outputs": [],
   "source": [
    "train.shape"
   ]
  },
  {
   "cell_type": "code",
   "execution_count": null,
   "metadata": {},
   "outputs": [],
   "source": [
    "train = train.merge(data2[['lga_Njombe', 'year', 'month', 'tsh_bin', 'years_old', 'popbins', 'longitude', 'latitude', \n",
    "                          'public_meeting', 'permit']], left_index=True, right_index=True)"
   ]
  },
  {
   "cell_type": "code",
   "execution_count": null,
   "metadata": {},
   "outputs": [],
   "source": [
    "train_X, test_X, train_y, test_y = train_test_split(train, data2['label'], test_size=0.25, random_state=42)"
   ]
  },
  {
   "cell_type": "code",
   "execution_count": null,
   "metadata": {},
   "outputs": [],
   "source": [
    "rf = RandomForestClassifier()\n",
    "params = {'n_estimators':[10, 100, 200, 500], 'criterion':['gini', 'entropy']}\n",
    "rs = RandomizedSearchCV(rf, params, n_iter=5)"
   ]
  },
  {
   "cell_type": "code",
   "execution_count": null,
   "metadata": {},
   "outputs": [],
   "source": [
    "rf.fit(train_X, train_y)\n",
    "rf.score(test_X, test_y)"
   ]
  },
  {
   "cell_type": "code",
   "execution_count": null,
   "metadata": {},
   "outputs": [],
   "source": [
    "submition = rf.predict(sub_train)"
   ]
  },
  {
   "cell_type": "code",
   "execution_count": null,
   "metadata": {},
   "outputs": [],
   "source": [
    "submission1 = pd.DataFrame(submition, columns=['status_group'])\n",
    "submission1['id'] = submit_X['id']"
   ]
  },
  {
   "cell_type": "code",
   "execution_count": null,
   "metadata": {},
   "outputs": [],
   "source": [
    "submission1.to_csv('submission1_BW.csv')"
   ]
  },
  {
   "cell_type": "code",
   "execution_count": null,
   "metadata": {},
   "outputs": [],
   "source": []
  },
  {
   "cell_type": "code",
   "execution_count": null,
   "metadata": {},
   "outputs": [],
   "source": []
  },
  {
   "cell_type": "code",
   "execution_count": null,
   "metadata": {},
   "outputs": [],
   "source": [
    "def test_transformer(data):\n",
    "    data = data.drop(columns=['source_type', 'source_class'])\n",
    "\n",
    "    data = data.drop(columns=['extraction_type_group', 'extraction_type_class'])\n",
    "    data['extraction_type'].replace({'other - swn 81':'other-handpump',\n",
    "                                 'other - play pump':'other-handpump', \n",
    "                                 'walimi':'other-handpump', \n",
    "                                 'other - mkulima/shinyanga':'other-handpump',\n",
    "                                'swn 80':'swn_80',\n",
    "                                 'nira/tanira':'nira-tanira',\n",
    "                                'india mark ii':'india_mark_ii',\n",
    "                                'india mark iii':'india_mark_iii',\n",
    "                                'other - rope pump':'other-rope_pump',}, inplace=True)\n",
    "\n",
    "    data['source'].replace({'shallow well':'shallow_well',\n",
    "                       'machine dbh':'machine_dbh',\n",
    "                       'rainwater harvesting':'rainwater_harvesting',\n",
    "                       'hand dtw':'hand_dtw'}, inplace=True)\n",
    "\n",
    "    counts = data['subvillage'].value_counts()\n",
    "    counts = counts.loc[counts >=200]\n",
    "    counts = list(counts.index)\n",
    "    data.loc[~data['subvillage'].isin(counts), 'subvillage'] = 'other'\n",
    "\n",
    "    data.drop(columns=['region'], inplace=True)\n",
    "\n",
    "    data.fillna(inplace=True, value={'installer':'unknown','permit':False, 'funder':'unknown', 'public_meeting':False, \n",
    "                                 'scheme_management':'unknown', 'scheme_name':'unknown'})\n",
    "\n",
    "    data['lga_Njombe'] = data['lga'].replace({'Njombe':1})\n",
    "    data.loc[data['lga_Njombe']!=1, 'lga_Njombe'] = 0\n",
    "\n",
    "    data.drop(columns=['payment'], inplace=True)\n",
    "\n",
    "    data['basin'].replace({'Ruvuma / Southern Coast':'Ruvuma-Southern_Coast',\n",
    "                     'Wami / Ruvu':'Wami-Ruvu'}, inplace=True)\n",
    "\n",
    "    data['date_recorded']= pd.to_datetime(data['date_recorded'])\n",
    "    data['date_recorded'].describe(datetime_is_numeric=True)\n",
    "    data['year']=data['date_recorded'].dt.year\n",
    "    data['month']=data['date_recorded'].dt.month\n",
    "\n",
    "    data.drop(columns=['wpt_name', 'num_private', 'recorded_by'], inplace=True)\n",
    "\n",
    "    data['amount_tsh'] = data['amount_tsh'].astype('int')\n",
    "    data['tsh_bin'] = pd.cut(data['amount_tsh'], [-1, 1, 20.0, 30.0, 50.0, 100.0, 250, 500.0, 1000.0, 2200.0, 70000.0, 500000],\n",
    "                         labels=list(range(1,12)))\n",
    "\n",
    "    data['public_meeting'] = data['public_meeting'].map({True:1, False:0})\n",
    "\n",
    "    data['permit'] = data['permit'].map({True:1, False:0})\n",
    "\n",
    "    data['construction_year'].replace({0:1999}, inplace=True)\n",
    "    data['construction_year'] = pd.to_datetime(data['construction_year'], format='%Y')\n",
    "    data['years_old'] = data['date_recorded'].dt.year - data['construction_year'].dt.year\n",
    "\n",
    "    data.drop(columns=['quality_group', 'quantity_group'], inplace=True)\n",
    "\n",
    "    data.drop(columns=['waterpoint_type_group'],inplace=True)\n",
    "\n",
    "    counts2 = data['scheme_name'].value_counts()\n",
    "    counts2 = counts2.loc[counts2 >=200]\n",
    "    counts2 = list(counts2.index)\n",
    "    data.loc[~data['scheme_name'].isin(counts2), 'scheme_name'] = 'other'\n",
    "\n",
    "    counts3 = data['funder'].value_counts()\n",
    "    counts3 = counts3.loc[counts3 >=500]\n",
    "    counts3 = list(counts3.index)\n",
    "    data.loc[~data['funder'].isin(counts3), 'funder'] = 'other'\n",
    "\n",
    "    counts4 = data['installer'].value_counts()\n",
    "    counts4 = counts4.loc[counts4 >=500]\n",
    "    counts4 = list(counts4.index)\n",
    "    data.loc[~data['installer'].isin(counts4), 'installer'] = 'other'\n",
    "\n",
    "    data['popbins'] = pd.cut(data['population'], [-1,2,250,500,1000,2500,10000,40000], labels=list(range(1,8)))\n",
    "\n",
    "    counts5 = data['ward'].value_counts()\n",
    "    verybig = counts5.loc[counts5.between(200,400)].index\n",
    "    big = counts5.loc[counts5.between(100,200)].index\n",
    "    medium = counts5.loc[counts5.between(50,100)].index\n",
    "    small = counts5.loc[counts5.between(25,50)].index\n",
    "    verysmall = counts5.loc[counts5 <=25].index\n",
    "    data.loc[data['ward'].isin(verybig), 'ward'] = 'verybig'\n",
    "    data.loc[data['ward'].isin(big), 'ward'] = 'big'\n",
    "    data.loc[data['ward'].isin(medium), 'ward'] = 'medium'\n",
    "    data.loc[data['ward'].isin(small), 'ward'] = 'small'\n",
    "    data.loc[data['ward'].isin(verysmall), 'ward'] = 'verysmall'\n",
    "\n",
    "    data['longitude'] = data['longitude'].replace({0:np.random.choice(range(31,33))})"
   ]
  },
  {
   "cell_type": "code",
   "execution_count": null,
   "metadata": {},
   "outputs": [],
   "source": [
    "test_transformer(submit_X)"
   ]
  },
  {
   "cell_type": "code",
   "execution_count": null,
   "metadata": {},
   "outputs": [],
   "source": [
    "submit_X.shape, submit_X.columns"
   ]
  },
  {
   "cell_type": "code",
   "execution_count": null,
   "metadata": {},
   "outputs": [],
   "source": [
    "data2.shape, data2.columns"
   ]
  }
 ],
 "metadata": {
  "kernelspec": {
   "display_name": "pumpitup",
   "language": "python",
   "name": "pumpitup"
  },
  "language_info": {
   "codemirror_mode": {
    "name": "ipython",
    "version": 3
   },
   "file_extension": ".py",
   "mimetype": "text/x-python",
   "name": "python",
   "nbconvert_exporter": "python",
   "pygments_lexer": "ipython3",
   "version": "3.9.2"
  }
 },
 "nbformat": 4,
 "nbformat_minor": 5
}
