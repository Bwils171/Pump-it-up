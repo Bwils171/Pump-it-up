{
 "cells": [
  {
   "cell_type": "code",
   "execution_count": 152,
   "metadata": {},
   "outputs": [],
   "source": [
    "import os\n",
    "import pandas as pd\n",
    "import numpy as np\n",
    "import matplotlib.pyplot as plt\n",
    "import seaborn as sns\n",
    "#import geopandas as gpd\n"
   ]
  },
  {
   "cell_type": "code",
   "execution_count": 153,
   "metadata": {},
   "outputs": [],
   "source": [
    "from model_prep import get_feature_name, model_transformer_train"
   ]
  },
  {
   "cell_type": "code",
   "execution_count": 154,
   "metadata": {},
   "outputs": [],
   "source": [
    "from sklearn.ensemble import RandomForestClassifier\n",
    "from sklearn.model_selection import RandomizedSearchCV\n",
    "from sklearn.model_selection import train_test_split\n",
    "from sklearn.preprocessing import StandardScaler\n",
    "from sklearn.compose import ColumnTransformer\n",
    "from sklearn.preprocessing import OneHotEncoder\n",
    "from sklearn.pipeline import Pipeline\n",
    "from sklearn.impute import SimpleImputer\n",
    "from sklearn.linear_model import LogisticRegression\n",
    "from sklearn.linear_model import LinearRegression\n",
    "from sklearn.svm import LinearSVC\n",
    "from sklearn.preprocessing import FunctionTransformer\n",
    "from xgboost import XGBClassifier\n",
    "from sklearn.decomposition import PCA\n",
    "from sklearn.metrics import confusion_matrix, ConfusionMatrixDisplay"
   ]
  },
  {
   "cell_type": "code",
   "execution_count": 155,
   "metadata": {},
   "outputs": [
    {
     "name": "stderr",
     "output_type": "stream",
     "text": [
      "C:\\Users\\bwils\\anaconda3\\envs\\pumpitup\\lib\\site-packages\\distributed\\node.py:151: UserWarning: Port 8787 is already in use.\n",
      "Perhaps you already have a cluster running?\n",
      "Hosting the HTTP server on port 64289 instead\n",
      "  warnings.warn(\n"
     ]
    },
    {
     "data": {
      "text/plain": [
       "(<Scheduler: \"tcp://127.0.0.1:64292\" processes: 3 cores: 6>,\n",
       " {0: <Nanny: tcp://127.0.0.1:64310, threads: 2>,\n",
       "  1: <Nanny: tcp://127.0.0.1:64309, threads: 2>,\n",
       "  2: <Nanny: tcp://127.0.0.1:64315, threads: 2>})"
      ]
     },
     "execution_count": 155,
     "metadata": {},
     "output_type": "execute_result"
    }
   ],
   "source": [
    "from dask import dataframe as dd\n",
    "import joblib\n",
    "from dask.distributed import Client, LocalCluster\n",
    "cluster = LocalCluster()\n",
    "client = Client(cluster)\n",
    "cluster.scheduler, cluster.workers"
   ]
  },
  {
   "cell_type": "code",
   "execution_count": 156,
   "metadata": {},
   "outputs": [],
   "source": [
    "model_data = pd.read_pickle('Data/model_data.pkl')"
   ]
  },
  {
   "cell_type": "code",
   "execution_count": 157,
   "metadata": {},
   "outputs": [
    {
     "data": {
      "text/plain": [
       "Index(['id', 'class', 'amount_tsh', 'funder', 'gps_height', 'installer',\n",
       "       'longitude', 'latitude', 'basin', 'subvillage', 'region_code',\n",
       "       'district_code', 'ward', 'population', 'public_meeting',\n",
       "       'scheme_management', 'scheme_name', 'permit', 'extraction_type',\n",
       "       'management', 'management_group', 'payment_type', 'water_quality',\n",
       "       'quantity', 'source', 'waterpoint_type', 'lga_Njombe', 'year', 'month',\n",
       "       'years_old', 'popbins'],\n",
       "      dtype='object')"
      ]
     },
     "execution_count": 157,
     "metadata": {},
     "output_type": "execute_result"
    }
   ],
   "source": [
    "model_data.columns"
   ]
  },
  {
   "cell_type": "code",
   "execution_count": 158,
   "metadata": {},
   "outputs": [],
   "source": [
    "model_data.drop(columns=['id', 'region_code'], inplace=True)"
   ]
  },
  {
   "cell_type": "code",
   "execution_count": 40,
   "metadata": {},
   "outputs": [],
   "source": [
    "class2 = model_data.loc[model_data['class']=='functional'].sample(5000, replace=True)\n",
    "class0 = model_data.loc[model_data['class']=='non functional'].sample(5000, replace=True)\n",
    "class1 = model_data.loc[model_data['class']=='functional needs repair'].sample(5000, replace=True)\n",
    "split_data = pd.concat([class0, class1, class2])"
   ]
  },
  {
   "cell_type": "code",
   "execution_count": 41,
   "metadata": {},
   "outputs": [],
   "source": [
    "split_data['class'] = split_data['class'].map({'functional':2, 'non functional':0, 'functional needs repair':1})"
   ]
  },
  {
   "cell_type": "code",
   "execution_count": 177,
   "metadata": {},
   "outputs": [],
   "source": [
    "num_cols = ['gps_height', 'population']\n",
    "cat_cols = ['basin', #'region_code', 'district_code', \n",
    "            'extraction_type', 'payment_type', 'water_quality', 'quantity', \n",
    "            'source', 'management', 'management_group', 'waterpoint_type',  'funder', 'installer', 'subvillage', \n",
    "            'ward', 'scheme_management', 'scheme_name', 'popbins']"
   ]
  },
  {
   "cell_type": "code",
   "execution_count": 178,
   "metadata": {},
   "outputs": [],
   "source": [
    "scaler = StandardScaler()\n",
    "ohe = OneHotEncoder(handle_unknown='ignore')\n",
    "CT = ColumnTransformer(remainder='passthrough', transformers=[('scaler', scaler, num_cols),\n",
    "                                              ('ohe', ohe, cat_cols)], verbose=True, sparse_threshold=0)"
   ]
  },
  {
   "cell_type": "code",
   "execution_count": 161,
   "metadata": {},
   "outputs": [],
   "source": [
    "def prep_train(unprepped_values, class_col):\n",
    "    train_X, test_X, train_y, test_y = train_test_split(unprepped_values.drop(columns=[class_col]), \n",
    "                                                        unprepped_values[class_col], test_size=0.25, random_state=42)\n",
    "    train_Xct = CT.fit_transform(train_X)\n",
    "    \n",
    "    test_Xct = CT.transform(test_X)\n",
    "\n",
    "    cols = get_feature_name(CT)\n",
    "    train_Xf = pd.DataFrame(train_Xct, columns=cols)\n",
    "    cols = get_feature_name(CT)\n",
    "    test_Xf = pd.DataFrame(test_Xct, columns=cols)\n",
    "    \n",
    "    return train_Xf, train_y, test_Xf, test_y   "
   ]
  },
  {
   "cell_type": "code",
   "execution_count": 162,
   "metadata": {},
   "outputs": [],
   "source": [
    "def prep_submit(unprepped_values):\n",
    "    submit_X= unprepped_values\n",
    "        \n",
    "    submit_Xt = model_transformer_train(submit_X)\n",
    "    submit_Xct = CT.transform(submit_Xt)\n",
    "\n",
    "    cols = get_feature_name(CT)\n",
    "    submit_Xf = pd.DataFrame(submit_Xct.todense(), columns=cols)\n",
    "    \n",
    "    return submit_Xf"
   ]
  },
  {
   "cell_type": "code",
   "execution_count": 42,
   "metadata": {
    "scrolled": true
   },
   "outputs": [
    {
     "name": "stdout",
     "output_type": "stream",
     "text": [
      "[ColumnTransformer] ........ (1 of 3) Processing scaler, total=   0.0s\n",
      "[ColumnTransformer] ........... (2 of 3) Processing ohe, total=   0.1s\n",
      "[ColumnTransformer] ..... (3 of 3) Processing remainder, total=   0.0s\n"
     ]
    },
    {
     "name": "stderr",
     "output_type": "stream",
     "text": [
      "C:\\Users\\bwils\\OneDrive\\Documents\\GitHub\\Pump-it-up\\model_prep\\gfn.py:36: UserWarning: Transformer scaler (type StandardScaler) does not provide get_feature_names. Will return input column names if available\n",
      "  warnings.warn(\"Transformer %s (type %s) does not \"\n"
     ]
    }
   ],
   "source": [
    "train_Xf, train_y, test_Xf, test_y = prep_train(split_data, 'class')"
   ]
  },
  {
   "cell_type": "code",
   "execution_count": 43,
   "metadata": {},
   "outputs": [
    {
     "name": "stdout",
     "output_type": "stream",
     "text": [
      "Fitting 3 folds for each of 3 candidates, totalling 9 fits\n",
      "[16:00:46] WARNING: ..\\src\\learner.cc:1095: Starting in XGBoost 1.3.0, the default evaluation metric used with the objective 'multi:softprob' was changed from 'merror' to 'mlogloss'. Explicitly set eval_metric if you'd like to restore the old behavior.\n"
     ]
    },
    {
     "data": {
      "text/plain": [
       "{'mean_fit_time': array([364.84211047, 260.38066602, 503.835591  ]),\n",
       " 'std_fit_time': array([37.79653409,  7.9460368 , 15.29504353]),\n",
       " 'mean_score_time': array([0.02500534, 0.02366765, 0.04366668]),\n",
       " 'std_score_time': array([0.01485127, 0.00634162, 0.0301347 ]),\n",
       " 'param_reg_lambda': masked_array(data=[0.5, 1, 1],\n",
       "              mask=[False, False, False],\n",
       "        fill_value='?',\n",
       "             dtype=object),\n",
       " 'param_reg_alpha': masked_array(data=[10, 5, 0.5],\n",
       "              mask=[False, False, False],\n",
       "        fill_value='?',\n",
       "             dtype=object),\n",
       " 'param_min_split_loss': masked_array(data=[100, 100, 25],\n",
       "              mask=[False, False, False],\n",
       "        fill_value='?',\n",
       "             dtype=object),\n",
       " 'param_max_depth': masked_array(data=[25, 10, 16],\n",
       "              mask=[False, False, False],\n",
       "        fill_value='?',\n",
       "             dtype=object),\n",
       " 'param_learning_rate': masked_array(data=[0.5, 0.7, 0.8],\n",
       "              mask=[False, False, False],\n",
       "        fill_value='?',\n",
       "             dtype=object),\n",
       " 'params': [{'reg_lambda': 0.5,\n",
       "   'reg_alpha': 10,\n",
       "   'min_split_loss': 100,\n",
       "   'max_depth': 25,\n",
       "   'learning_rate': 0.5},\n",
       "  {'reg_lambda': 1,\n",
       "   'reg_alpha': 5,\n",
       "   'min_split_loss': 100,\n",
       "   'max_depth': 10,\n",
       "   'learning_rate': 0.7},\n",
       "  {'reg_lambda': 1,\n",
       "   'reg_alpha': 0.5,\n",
       "   'min_split_loss': 25,\n",
       "   'max_depth': 16,\n",
       "   'learning_rate': 0.8}],\n",
       " 'split0_test_score': array([0.46906667, 0.46906667, 0.6104    ]),\n",
       " 'split1_test_score': array([0.47146667, 0.4872    , 0.59493333]),\n",
       " 'split2_test_score': array([0.48213333, 0.48213333, 0.59253333]),\n",
       " 'mean_test_score': array([0.47422222, 0.47946667, 0.59928889]),\n",
       " 'std_test_score': array([0.00567916, 0.00763927, 0.0079176 ]),\n",
       " 'rank_test_score': array([3, 2, 1])}"
      ]
     },
     "execution_count": 43,
     "metadata": {},
     "output_type": "execute_result"
    }
   ],
   "source": [
    "xgb = XGBClassifier(use_label_encoder=False)\n",
    "params_xgb = {'max_depth':[1, 2, 5, 10, 16, 25], 'learning_rate':[.1, .2, .3, .4, .5, .6, .7, .8, .9],\n",
    "             'min_split_loss':[.1, .5, 1, 5, 10, 25, 100], 'reg_lambda':[.1, .5, 1, 5, 10, 25], \n",
    "              'reg_alpha':[.1, .5, 1, 5, 10, 25]}#'n_estimators':[100],\n",
    "rsearchxgb = RandomizedSearchCV(xgb, param_distributions=params_xgb, n_iter=3, cv=3, verbose=1)\n",
    "pca = PCA(n_components=100)\n",
    "train_Xf = pca.fit_transform(train_Xf)\n",
    "with joblib.parallel_backend('dask'):\n",
    "    rsearchxgb.fit(train_Xf, train_y)\n",
    "rsearchxgb.cv_results_"
   ]
  },
  {
   "cell_type": "code",
   "execution_count": 44,
   "metadata": {},
   "outputs": [
    {
     "data": {
      "text/plain": [
       "0.6368"
      ]
     },
     "execution_count": 44,
     "metadata": {},
     "output_type": "execute_result"
    }
   ],
   "source": [
    "test_Xf = pca.transform(test_Xf)\n",
    "rsearchxgb.score(test_Xf, test_y)"
   ]
  },
  {
   "cell_type": "code",
   "execution_count": null,
   "metadata": {},
   "outputs": [],
   "source": [
    "rf = RandomForestClassifier()\n",
    "params_rf = {'criterion':['gini', 'entropy'], 'max_depth':[1, 3, 5, 7], 'max_leaf_nodes':[2, 4, 6, 10], \n",
    "          'min_samples_split':[.1, .2, .3, .4, .5, .6, .7, .8, .9], 'min_samples_leaf':[.1, .2, .3, .4, .5]}\n",
    "rsearchrf = RandomizedSearchCV(rf, param_distributions=params_rf, n_inter=20, cv=5, verbose=1)\n",
    "rsearchrf.fit(train_Xf, train_y)\n",
    "rsearchrf.cv_results_"
   ]
  },
  {
   "cell_type": "code",
   "execution_count": null,
   "metadata": {},
   "outputs": [],
   "source": [
    "rsearchrf.score(test_Xf, test_y)"
   ]
  },
  {
   "cell_type": "code",
   "execution_count": 166,
   "metadata": {},
   "outputs": [
    {
     "name": "stdout",
     "output_type": "stream",
     "text": [
      "[ColumnTransformer] ........ (1 of 3) Processing scaler, total=   0.0s\n",
      "[ColumnTransformer] ........... (2 of 3) Processing ohe, total=   0.6s\n",
      "[ColumnTransformer] ..... (3 of 3) Processing remainder, total=   0.0s\n"
     ]
    },
    {
     "name": "stderr",
     "output_type": "stream",
     "text": [
      "C:\\Users\\bwils\\OneDrive\\Documents\\GitHub\\Pump-it-up\\model_prep\\gfn.py:36: UserWarning: Transformer scaler (type StandardScaler) does not provide get_feature_names. Will return input column names if available\n",
      "  warnings.warn(\"Transformer %s (type %s) does not \"\n"
     ]
    }
   ],
   "source": [
    "data = model_data.copy()\n",
    "data['class'] = data['class'].map({'functional':2, 'non functional':0, 'functional needs repair':1})\n",
    "train_Xf, train_y, test_Xf, test_y = prep_train(data, 'class')"
   ]
  },
  {
   "cell_type": "code",
   "execution_count": 167,
   "metadata": {},
   "outputs": [
    {
     "data": {
      "text/plain": [
       "0        2\n",
       "1        2\n",
       "2        2\n",
       "3        0\n",
       "4        2\n",
       "        ..\n",
       "59395    2\n",
       "59396    2\n",
       "59397    2\n",
       "59398    2\n",
       "59399    2\n",
       "Name: class, Length: 59400, dtype: int64"
      ]
     },
     "execution_count": 167,
     "metadata": {},
     "output_type": "execute_result"
    }
   ],
   "source": [
    "data['class']"
   ]
  },
  {
   "cell_type": "code",
   "execution_count": 95,
   "metadata": {
    "scrolled": true
   },
   "outputs": [
    {
     "name": "stderr",
     "output_type": "stream",
     "text": [
      "[Parallel(n_jobs=-1)]: Using backend DaskDistributedBackend with 6 concurrent workers.\n",
      "[Parallel(n_jobs=-1)]: Done  38 tasks      | elapsed:   10.4s\n",
      "[Parallel(n_jobs=-1)]: Done 188 tasks      | elapsed:   47.9s\n",
      "[Parallel(n_jobs=-1)]: Done 250 out of 250 | elapsed:  1.0min finished\n",
      "[Parallel(n_jobs=1)]: Using backend SequentialBackend with 1 concurrent workers.\n",
      "[Parallel(n_jobs=1)]: Done 250 out of 250 | elapsed:    2.3s finished\n"
     ]
    },
    {
     "data": {
      "text/plain": [
       "0.7929292929292929"
      ]
     },
     "execution_count": 95,
     "metadata": {},
     "output_type": "execute_result"
    }
   ],
   "source": [
    "rf = RandomForestClassifier(n_estimators=250, verbose=True)#criterion='gini', max_depth=3, max_leaf_nodes=4, min_samples_split=.2, min_samples_leaf=.05,\n",
    "pca = PCA(n_components=100)\n",
    "train_Xfpca = pca.fit_transform(train_Xf)\n",
    "with joblib.parallel_backend('dask'):\n",
    "    rf.fit(train_Xfpca, train_y)\n",
    "test_Xfpca = pca.transform(test_Xf)\n",
    "rf.score(test_Xfpca, test_y)"
   ]
  },
  {
   "cell_type": "code",
   "execution_count": 168,
   "metadata": {
    "scrolled": true
   },
   "outputs": [
    {
     "name": "stderr",
     "output_type": "stream",
     "text": [
      "[Parallel(n_jobs=-1)]: Using backend DaskDistributedBackend with 6 concurrent workers.\n",
      "[Parallel(n_jobs=-1)]: Done  38 tasks      | elapsed:   18.3s\n",
      "[Parallel(n_jobs=-1)]: Done 188 tasks      | elapsed:  1.2min\n",
      "[Parallel(n_jobs=-1)]: Done 438 tasks      | elapsed:  2.8min\n",
      "[Parallel(n_jobs=-1)]: Done 500 out of 500 | elapsed:  3.1min finished\n",
      "[Parallel(n_jobs=1)]: Using backend SequentialBackend with 1 concurrent workers.\n",
      "[Parallel(n_jobs=1)]: Done 500 out of 500 | elapsed:    6.0s finished\n"
     ]
    },
    {
     "data": {
      "text/plain": [
       "0.7952188552188553"
      ]
     },
     "execution_count": 168,
     "metadata": {},
     "output_type": "execute_result"
    }
   ],
   "source": [
    "rf = RandomForestClassifier(n_estimators=500, verbose=True)#criterion='gini', max_depth=3, max_leaf_nodes=4, min_samples_split=.2, min_samples_leaf=.05,\n",
    "pca = PCA(n_components=100)\n",
    "train_Xfpca = pca.fit_transform(train_Xf)\n",
    "with joblib.parallel_backend('dask'):\n",
    "    rf.fit(train_Xfpca, train_y)\n",
    "test_Xfpca = pca.transform(test_Xf)\n",
    "rf.score(test_Xfpca, test_y)"
   ]
  },
  {
   "cell_type": "code",
   "execution_count": 169,
   "metadata": {
    "scrolled": true
   },
   "outputs": [
    {
     "name": "stderr",
     "output_type": "stream",
     "text": [
      "[Parallel(n_jobs=1)]: Using backend SequentialBackend with 1 concurrent workers.\n",
      "[Parallel(n_jobs=1)]: Done 500 out of 500 | elapsed:    6.5s finished\n"
     ]
    },
    {
     "data": {
      "text/plain": [
       "<sklearn.metrics._plot.confusion_matrix.ConfusionMatrixDisplay at 0x22c9b3b6610>"
      ]
     },
     "execution_count": 169,
     "metadata": {},
     "output_type": "execute_result"
    },
    {
     "data": {
      "text/plain": [
       "<Figure size 2880x576 with 0 Axes>"
      ]
     },
     "metadata": {},
     "output_type": "display_data"
    },
    {
     "data": {
      "image/png": "[encoded data removed]",
      "text/plain": [
       "<Figure size 432x288 with 2 Axes>"
      ]
     },
     "metadata": {
      "needs_background": "light"
     },
     "output_type": "display_data"
    }
   ],
   "source": [
    "y_pred = rf.predict(test_Xfpca)\n",
    "with joblib.parallel_backend('dask'):\n",
    "    cm=confusion_matrix(test_y, y_pred, labels=rf.classes_)\n",
    "    disp = ConfusionMatrixDisplay(cm, display_labels=rf.classes_)\n",
    "plt.figure(figsize=(40,8))\n",
    "disp.plot()"
   ]
  },
  {
   "cell_type": "code",
   "execution_count": 179,
   "metadata": {},
   "outputs": [
    {
     "name": "stdout",
     "output_type": "stream",
     "text": [
      "[ColumnTransformer] ........ (1 of 3) Processing scaler, total=   0.0s\n",
      "[ColumnTransformer] ........... (2 of 3) Processing ohe, total=   0.5s\n",
      "[ColumnTransformer] ..... (3 of 3) Processing remainder, total=   0.0s\n"
     ]
    },
    {
     "name": "stderr",
     "output_type": "stream",
     "text": [
      "C:\\Users\\bwils\\OneDrive\\Documents\\GitHub\\Pump-it-up\\model_prep\\gfn.py:36: UserWarning: Transformer scaler (type StandardScaler) does not provide get_feature_names. Will return input column names if available\n",
      "  warnings.warn(\"Transformer %s (type %s) does not \"\n"
     ]
    }
   ],
   "source": [
    "data = model_data.copy()\n",
    "data['class'] = data['class'].map({'functional':2, 'non functional':0, 'functional needs repair':1})\n",
    "train_Xf, train_y, test_Xf, test_y = prep_train(data, 'class')"
   ]
  },
  {
   "cell_type": "code",
   "execution_count": 180,
   "metadata": {
    "scrolled": true
   },
   "outputs": [
    {
     "name": "stderr",
     "output_type": "stream",
     "text": [
      "[Parallel(n_jobs=-1)]: Using backend DaskDistributedBackend with 6 concurrent workers.\n",
      "[Parallel(n_jobs=-1)]: Done  38 tasks      | elapsed:   15.8s\n",
      "[Parallel(n_jobs=-1)]: Done 188 tasks      | elapsed:  1.0min\n",
      "[Parallel(n_jobs=-1)]: Done 300 out of 300 | elapsed:  1.6min finished\n",
      "[Parallel(n_jobs=1)]: Using backend SequentialBackend with 1 concurrent workers.\n",
      "[Parallel(n_jobs=1)]: Done 300 out of 300 | elapsed:    4.1s finished\n"
     ]
    },
    {
     "data": {
      "text/plain": [
       "0.7925925925925926"
      ]
     },
     "execution_count": 180,
     "metadata": {},
     "output_type": "execute_result"
    }
   ],
   "source": [
    "rf = RandomForestClassifier(n_estimators=300, verbose=True)#criterion='gini', max_depth=3, max_leaf_nodes=4, min_samples_split=.2, min_samples_leaf=.05,\n",
    "pca = PCA(n_components=100)\n",
    "train_Xfpca = pca.fit_transform(train_Xf)\n",
    "with joblib.parallel_backend('dask'):\n",
    "    rf.fit(train_Xfpca, train_y)\n",
    "test_Xfpca = pca.transform(test_Xf)\n",
    "rf.score(test_Xfpca, test_y)"
   ]
  },
  {
   "cell_type": "code",
   "execution_count": 181,
   "metadata": {
    "scrolled": true
   },
   "outputs": [
    {
     "name": "stderr",
     "output_type": "stream",
     "text": [
      "[Parallel(n_jobs=1)]: Using backend SequentialBackend with 1 concurrent workers.\n",
      "[Parallel(n_jobs=1)]: Done 300 out of 300 | elapsed:    3.8s finished\n"
     ]
    },
    {
     "data": {
      "text/plain": [
       "<sklearn.metrics._plot.confusion_matrix.ConfusionMatrixDisplay at 0x22c98163940>"
      ]
     },
     "execution_count": 181,
     "metadata": {},
     "output_type": "execute_result"
    },
    {
     "data": {
      "text/plain": [
       "<Figure size 2880x576 with 0 Axes>"
      ]
     },
     "metadata": {},
     "output_type": "display_data"
    },
    {
     "data": {
      "image/png": "[encoded data removed]",
      "text/plain": [
       "<Figure size 432x288 with 2 Axes>"
      ]
     },
     "metadata": {
      "needs_background": "light"
     },
     "output_type": "display_data"
    }
   ],
   "source": [
    "y_pred = rf.predict(test_Xfpca)\n",
    "with joblib.parallel_backend('dask'):\n",
    "    cm=confusion_matrix(test_y, y_pred, labels=rf.classes_)\n",
    "    disp = ConfusionMatrixDisplay(cm, display_labels=rf.classes_)\n",
    "plt.figure(figsize=(40,8))\n",
    "disp.plot()"
   ]
  },
  {
   "cell_type": "code",
   "execution_count": 182,
   "metadata": {},
   "outputs": [],
   "source": [
    "checker = test_Xf.copy()"
   ]
  },
  {
   "cell_type": "code",
   "execution_count": 183,
   "metadata": {},
   "outputs": [],
   "source": [
    "checker.insert(0, value=y_pred, column='prediction')"
   ]
  },
  {
   "cell_type": "code",
   "execution_count": 184,
   "metadata": {},
   "outputs": [],
   "source": [
    "t = test_y.copy().reset_index(drop=True)"
   ]
  },
  {
   "cell_type": "code",
   "execution_count": 185,
   "metadata": {},
   "outputs": [],
   "source": [
    "checker.insert(0, value=t, column='class')"
   ]
  },
  {
   "cell_type": "code",
   "execution_count": 186,
   "metadata": {},
   "outputs": [
    {
     "data": {
      "text/html": [
       "<div>\n",
       "<style scoped>\n",
       "    .dataframe tbody tr th:only-of-type {\n",
       "        vertical-align: middle;\n",
       "    }\n",
       "\n",
       "    .dataframe tbody tr th {\n",
       "        vertical-align: top;\n",
       "    }\n",
       "\n",
       "    .dataframe thead th {\n",
       "        text-align: right;\n",
       "    }\n",
       "</style>\n",
       "<table border=\"1\" class=\"dataframe\">\n",
       "  <thead>\n",
       "    <tr style=\"text-align: right;\">\n",
       "      <th></th>\n",
       "      <th>class</th>\n",
       "      <th>prediction</th>\n",
       "      <th>scaler__gps_height</th>\n",
       "      <th>scaler__population</th>\n",
       "      <th>ohe__x0_Internal</th>\n",
       "      <th>ohe__x0_Lake Nyasa</th>\n",
       "      <th>ohe__x0_Lake Rukwa</th>\n",
       "      <th>ohe__x0_Lake Tanganyika</th>\n",
       "      <th>ohe__x0_Lake Victoria</th>\n",
       "      <th>ohe__x0_Pangani</th>\n",
       "      <th>...</th>\n",
       "      <th>amount_tsh</th>\n",
       "      <th>longitude</th>\n",
       "      <th>latitude</th>\n",
       "      <th>district_code</th>\n",
       "      <th>public_meeting</th>\n",
       "      <th>permit</th>\n",
       "      <th>lga_Njombe</th>\n",
       "      <th>year</th>\n",
       "      <th>month</th>\n",
       "      <th>years_old</th>\n",
       "    </tr>\n",
       "  </thead>\n",
       "  <tbody>\n",
       "    <tr>\n",
       "      <th>0</th>\n",
       "      <td>0</td>\n",
       "      <td>0</td>\n",
       "      <td>0.109742</td>\n",
       "      <td>-0.379567</td>\n",
       "      <td>0.0</td>\n",
       "      <td>0.0</td>\n",
       "      <td>0.0</td>\n",
       "      <td>1.0</td>\n",
       "      <td>0.0</td>\n",
       "      <td>0.0</td>\n",
       "      <td>...</td>\n",
       "      <td>2.613176</td>\n",
       "      <td>31.985658</td>\n",
       "      <td>-3.596360</td>\n",
       "      <td>5.0</td>\n",
       "      <td>1.0</td>\n",
       "      <td>1.0</td>\n",
       "      <td>0.0</td>\n",
       "      <td>2012.0</td>\n",
       "      <td>10.0</td>\n",
       "      <td>13.0</td>\n",
       "    </tr>\n",
       "    <tr>\n",
       "      <th>1</th>\n",
       "      <td>2</td>\n",
       "      <td>2</td>\n",
       "      <td>-0.175639</td>\n",
       "      <td>-0.379567</td>\n",
       "      <td>0.0</td>\n",
       "      <td>0.0</td>\n",
       "      <td>0.0</td>\n",
       "      <td>1.0</td>\n",
       "      <td>0.0</td>\n",
       "      <td>0.0</td>\n",
       "      <td>...</td>\n",
       "      <td>1.787919</td>\n",
       "      <td>32.832815</td>\n",
       "      <td>-4.944937</td>\n",
       "      <td>6.0</td>\n",
       "      <td>1.0</td>\n",
       "      <td>1.0</td>\n",
       "      <td>0.0</td>\n",
       "      <td>2012.0</td>\n",
       "      <td>11.0</td>\n",
       "      <td>13.0</td>\n",
       "    </tr>\n",
       "    <tr>\n",
       "      <th>2</th>\n",
       "      <td>2</td>\n",
       "      <td>2</td>\n",
       "      <td>0.926472</td>\n",
       "      <td>-0.065372</td>\n",
       "      <td>1.0</td>\n",
       "      <td>0.0</td>\n",
       "      <td>0.0</td>\n",
       "      <td>0.0</td>\n",
       "      <td>0.0</td>\n",
       "      <td>0.0</td>\n",
       "      <td>...</td>\n",
       "      <td>2.661905</td>\n",
       "      <td>35.488289</td>\n",
       "      <td>-4.242048</td>\n",
       "      <td>1.0</td>\n",
       "      <td>1.0</td>\n",
       "      <td>1.0</td>\n",
       "      <td>0.0</td>\n",
       "      <td>2013.0</td>\n",
       "      <td>2.0</td>\n",
       "      <td>5.0</td>\n",
       "    </tr>\n",
       "    <tr>\n",
       "      <th>3</th>\n",
       "      <td>0</td>\n",
       "      <td>2</td>\n",
       "      <td>1.834414</td>\n",
       "      <td>-0.379567</td>\n",
       "      <td>0.0</td>\n",
       "      <td>0.0</td>\n",
       "      <td>1.0</td>\n",
       "      <td>0.0</td>\n",
       "      <td>0.0</td>\n",
       "      <td>0.0</td>\n",
       "      <td>...</td>\n",
       "      <td>3.000000</td>\n",
       "      <td>33.140828</td>\n",
       "      <td>-9.059386</td>\n",
       "      <td>6.0</td>\n",
       "      <td>0.0</td>\n",
       "      <td>0.0</td>\n",
       "      <td>0.0</td>\n",
       "      <td>2011.0</td>\n",
       "      <td>8.0</td>\n",
       "      <td>12.0</td>\n",
       "    </tr>\n",
       "    <tr>\n",
       "      <th>4</th>\n",
       "      <td>2</td>\n",
       "      <td>2</td>\n",
       "      <td>-0.045465</td>\n",
       "      <td>0.119323</td>\n",
       "      <td>1.0</td>\n",
       "      <td>0.0</td>\n",
       "      <td>0.0</td>\n",
       "      <td>0.0</td>\n",
       "      <td>0.0</td>\n",
       "      <td>0.0</td>\n",
       "      <td>...</td>\n",
       "      <td>1.000000</td>\n",
       "      <td>34.217077</td>\n",
       "      <td>-4.430529</td>\n",
       "      <td>1.0</td>\n",
       "      <td>1.0</td>\n",
       "      <td>1.0</td>\n",
       "      <td>0.0</td>\n",
       "      <td>2013.0</td>\n",
       "      <td>2.0</td>\n",
       "      <td>2.0</td>\n",
       "    </tr>\n",
       "    <tr>\n",
       "      <th>...</th>\n",
       "      <td>...</td>\n",
       "      <td>...</td>\n",
       "      <td>...</td>\n",
       "      <td>...</td>\n",
       "      <td>...</td>\n",
       "      <td>...</td>\n",
       "      <td>...</td>\n",
       "      <td>...</td>\n",
       "      <td>...</td>\n",
       "      <td>...</td>\n",
       "      <td>...</td>\n",
       "      <td>...</td>\n",
       "      <td>...</td>\n",
       "      <td>...</td>\n",
       "      <td>...</td>\n",
       "      <td>...</td>\n",
       "      <td>...</td>\n",
       "      <td>...</td>\n",
       "      <td>...</td>\n",
       "      <td>...</td>\n",
       "      <td>...</td>\n",
       "    </tr>\n",
       "    <tr>\n",
       "      <th>14845</th>\n",
       "      <td>2</td>\n",
       "      <td>2</td>\n",
       "      <td>0.183304</td>\n",
       "      <td>-0.379567</td>\n",
       "      <td>0.0</td>\n",
       "      <td>0.0</td>\n",
       "      <td>0.0</td>\n",
       "      <td>0.0</td>\n",
       "      <td>1.0</td>\n",
       "      <td>0.0</td>\n",
       "      <td>...</td>\n",
       "      <td>3.403579</td>\n",
       "      <td>32.786407</td>\n",
       "      <td>-3.286384</td>\n",
       "      <td>3.0</td>\n",
       "      <td>1.0</td>\n",
       "      <td>1.0</td>\n",
       "      <td>0.0</td>\n",
       "      <td>2012.0</td>\n",
       "      <td>10.0</td>\n",
       "      <td>13.0</td>\n",
       "    </tr>\n",
       "    <tr>\n",
       "      <th>14846</th>\n",
       "      <td>0</td>\n",
       "      <td>0</td>\n",
       "      <td>-0.404360</td>\n",
       "      <td>-0.356215</td>\n",
       "      <td>0.0</td>\n",
       "      <td>0.0</td>\n",
       "      <td>0.0</td>\n",
       "      <td>0.0</td>\n",
       "      <td>0.0</td>\n",
       "      <td>0.0</td>\n",
       "      <td>...</td>\n",
       "      <td>2.000000</td>\n",
       "      <td>36.679082</td>\n",
       "      <td>-8.965459</td>\n",
       "      <td>4.0</td>\n",
       "      <td>1.0</td>\n",
       "      <td>1.0</td>\n",
       "      <td>0.0</td>\n",
       "      <td>2011.0</td>\n",
       "      <td>3.0</td>\n",
       "      <td>31.0</td>\n",
       "    </tr>\n",
       "    <tr>\n",
       "      <th>14847</th>\n",
       "      <td>1</td>\n",
       "      <td>2</td>\n",
       "      <td>-0.064354</td>\n",
       "      <td>0.681901</td>\n",
       "      <td>0.0</td>\n",
       "      <td>0.0</td>\n",
       "      <td>1.0</td>\n",
       "      <td>0.0</td>\n",
       "      <td>0.0</td>\n",
       "      <td>0.0</td>\n",
       "      <td>...</td>\n",
       "      <td>3.855504</td>\n",
       "      <td>31.246094</td>\n",
       "      <td>-6.360838</td>\n",
       "      <td>1.0</td>\n",
       "      <td>0.0</td>\n",
       "      <td>1.0</td>\n",
       "      <td>0.0</td>\n",
       "      <td>2011.0</td>\n",
       "      <td>7.0</td>\n",
       "      <td>3.0</td>\n",
       "    </tr>\n",
       "    <tr>\n",
       "      <th>14848</th>\n",
       "      <td>0</td>\n",
       "      <td>2</td>\n",
       "      <td>0.305678</td>\n",
       "      <td>-0.379567</td>\n",
       "      <td>1.0</td>\n",
       "      <td>0.0</td>\n",
       "      <td>0.0</td>\n",
       "      <td>0.0</td>\n",
       "      <td>0.0</td>\n",
       "      <td>0.0</td>\n",
       "      <td>...</td>\n",
       "      <td>1.796645</td>\n",
       "      <td>34.097419</td>\n",
       "      <td>-3.155770</td>\n",
       "      <td>2.0</td>\n",
       "      <td>1.0</td>\n",
       "      <td>0.0</td>\n",
       "      <td>0.0</td>\n",
       "      <td>2012.0</td>\n",
       "      <td>10.0</td>\n",
       "      <td>13.0</td>\n",
       "    </tr>\n",
       "    <tr>\n",
       "      <th>14849</th>\n",
       "      <td>0</td>\n",
       "      <td>0</td>\n",
       "      <td>0.268783</td>\n",
       "      <td>0.151167</td>\n",
       "      <td>0.0</td>\n",
       "      <td>0.0</td>\n",
       "      <td>0.0</td>\n",
       "      <td>0.0</td>\n",
       "      <td>1.0</td>\n",
       "      <td>0.0</td>\n",
       "      <td>...</td>\n",
       "      <td>1.078934</td>\n",
       "      <td>33.827628</td>\n",
       "      <td>-1.965746</td>\n",
       "      <td>4.0</td>\n",
       "      <td>1.0</td>\n",
       "      <td>1.0</td>\n",
       "      <td>0.0</td>\n",
       "      <td>2012.0</td>\n",
       "      <td>11.0</td>\n",
       "      <td>40.0</td>\n",
       "    </tr>\n",
       "  </tbody>\n",
       "</table>\n",
       "<p>14850 rows × 179 columns</p>\n",
       "</div>"
      ],
      "text/plain": [
       "       class  prediction  scaler__gps_height  scaler__population  \\\n",
       "0          0           0            0.109742           -0.379567   \n",
       "1          2           2           -0.175639           -0.379567   \n",
       "2          2           2            0.926472           -0.065372   \n",
       "3          0           2            1.834414           -0.379567   \n",
       "4          2           2           -0.045465            0.119323   \n",
       "...      ...         ...                 ...                 ...   \n",
       "14845      2           2            0.183304           -0.379567   \n",
       "14846      0           0           -0.404360           -0.356215   \n",
       "14847      1           2           -0.064354            0.681901   \n",
       "14848      0           2            0.305678           -0.379567   \n",
       "14849      0           0            0.268783            0.151167   \n",
       "\n",
       "       ohe__x0_Internal  ohe__x0_Lake Nyasa  ohe__x0_Lake Rukwa  \\\n",
       "0                   0.0                 0.0                 0.0   \n",
       "1                   0.0                 0.0                 0.0   \n",
       "2                   1.0                 0.0                 0.0   \n",
       "3                   0.0                 0.0                 1.0   \n",
       "4                   1.0                 0.0                 0.0   \n",
       "...                 ...                 ...                 ...   \n",
       "14845               0.0                 0.0                 0.0   \n",
       "14846               0.0                 0.0                 0.0   \n",
       "14847               0.0                 0.0                 1.0   \n",
       "14848               1.0                 0.0                 0.0   \n",
       "14849               0.0                 0.0                 0.0   \n",
       "\n",
       "       ohe__x0_Lake Tanganyika  ohe__x0_Lake Victoria  ohe__x0_Pangani  ...  \\\n",
       "0                          1.0                    0.0              0.0  ...   \n",
       "1                          1.0                    0.0              0.0  ...   \n",
       "2                          0.0                    0.0              0.0  ...   \n",
       "3                          0.0                    0.0              0.0  ...   \n",
       "4                          0.0                    0.0              0.0  ...   \n",
       "...                        ...                    ...              ...  ...   \n",
       "14845                      0.0                    1.0              0.0  ...   \n",
       "14846                      0.0                    0.0              0.0  ...   \n",
       "14847                      0.0                    0.0              0.0  ...   \n",
       "14848                      0.0                    0.0              0.0  ...   \n",
       "14849                      0.0                    1.0              0.0  ...   \n",
       "\n",
       "       amount_tsh  longitude  latitude  district_code  public_meeting  permit  \\\n",
       "0        2.613176  31.985658 -3.596360            5.0             1.0     1.0   \n",
       "1        1.787919  32.832815 -4.944937            6.0             1.0     1.0   \n",
       "2        2.661905  35.488289 -4.242048            1.0             1.0     1.0   \n",
       "3        3.000000  33.140828 -9.059386            6.0             0.0     0.0   \n",
       "4        1.000000  34.217077 -4.430529            1.0             1.0     1.0   \n",
       "...           ...        ...       ...            ...             ...     ...   \n",
       "14845    3.403579  32.786407 -3.286384            3.0             1.0     1.0   \n",
       "14846    2.000000  36.679082 -8.965459            4.0             1.0     1.0   \n",
       "14847    3.855504  31.246094 -6.360838            1.0             0.0     1.0   \n",
       "14848    1.796645  34.097419 -3.155770            2.0             1.0     0.0   \n",
       "14849    1.078934  33.827628 -1.965746            4.0             1.0     1.0   \n",
       "\n",
       "       lga_Njombe    year  month  years_old  \n",
       "0             0.0  2012.0   10.0       13.0  \n",
       "1             0.0  2012.0   11.0       13.0  \n",
       "2             0.0  2013.0    2.0        5.0  \n",
       "3             0.0  2011.0    8.0       12.0  \n",
       "4             0.0  2013.0    2.0        2.0  \n",
       "...           ...     ...    ...        ...  \n",
       "14845         0.0  2012.0   10.0       13.0  \n",
       "14846         0.0  2011.0    3.0       31.0  \n",
       "14847         0.0  2011.0    7.0        3.0  \n",
       "14848         0.0  2012.0   10.0       13.0  \n",
       "14849         0.0  2012.0   11.0       40.0  \n",
       "\n",
       "[14850 rows x 179 columns]"
      ]
     },
     "execution_count": 186,
     "metadata": {},
     "output_type": "execute_result"
    }
   ],
   "source": [
    "checker"
   ]
  },
  {
   "cell_type": "code",
   "execution_count": 187,
   "metadata": {},
   "outputs": [
    {
     "data": {
      "text/plain": [
       "0         True\n",
       "1         True\n",
       "2         True\n",
       "3        False\n",
       "4         True\n",
       "         ...  \n",
       "14845     True\n",
       "14846     True\n",
       "14847    False\n",
       "14848    False\n",
       "14849     True\n",
       "Name: correct, Length: 14850, dtype: bool"
      ]
     },
     "execution_count": 187,
     "metadata": {},
     "output_type": "execute_result"
    }
   ],
   "source": [
    "checker['correct']=checker['prediction']==checker['class']\n",
    "checker['correct']"
   ]
  },
  {
   "cell_type": "code",
   "execution_count": 189,
   "metadata": {},
   "outputs": [
    {
     "data": {
      "text/html": [
       "<div>\n",
       "<style scoped>\n",
       "    .dataframe tbody tr th:only-of-type {\n",
       "        vertical-align: middle;\n",
       "    }\n",
       "\n",
       "    .dataframe tbody tr th {\n",
       "        vertical-align: top;\n",
       "    }\n",
       "\n",
       "    .dataframe thead th {\n",
       "        text-align: right;\n",
       "    }\n",
       "</style>\n",
       "<table border=\"1\" class=\"dataframe\">\n",
       "  <thead>\n",
       "    <tr style=\"text-align: right;\">\n",
       "      <th></th>\n",
       "      <th>Importances</th>\n",
       "    </tr>\n",
       "  </thead>\n",
       "  <tbody>\n",
       "    <tr>\n",
       "      <th>ohe__x1_8</th>\n",
       "      <td>0.035730</td>\n",
       "    </tr>\n",
       "    <tr>\n",
       "      <th>scaler__gps_height</th>\n",
       "      <td>0.030499</td>\n",
       "    </tr>\n",
       "    <tr>\n",
       "      <th>ohe__x1_2</th>\n",
       "      <td>0.025638</td>\n",
       "    </tr>\n",
       "    <tr>\n",
       "      <th>ohe__x0_Wami-Ruvu</th>\n",
       "      <td>0.022172</td>\n",
       "    </tr>\n",
       "    <tr>\n",
       "      <th>ohe__x1_14</th>\n",
       "      <td>0.020571</td>\n",
       "    </tr>\n",
       "    <tr>\n",
       "      <th>ohe__x0_Lake Tanganyika</th>\n",
       "      <td>0.019089</td>\n",
       "    </tr>\n",
       "    <tr>\n",
       "      <th>ohe__x1_21</th>\n",
       "      <td>0.018914</td>\n",
       "    </tr>\n",
       "    <tr>\n",
       "      <th>ohe__x1_12</th>\n",
       "      <td>0.013711</td>\n",
       "    </tr>\n",
       "    <tr>\n",
       "      <th>scaler__population</th>\n",
       "      <td>0.013097</td>\n",
       "    </tr>\n",
       "    <tr>\n",
       "      <th>ohe__x1_11</th>\n",
       "      <td>0.013053</td>\n",
       "    </tr>\n",
       "    <tr>\n",
       "      <th>ohe__x1_24</th>\n",
       "      <td>0.013033</td>\n",
       "    </tr>\n",
       "    <tr>\n",
       "      <th>ohe__x1_1</th>\n",
       "      <td>0.012800</td>\n",
       "    </tr>\n",
       "    <tr>\n",
       "      <th>ohe__x1_10</th>\n",
       "      <td>0.012748</td>\n",
       "    </tr>\n",
       "    <tr>\n",
       "      <th>ohe__x1_20</th>\n",
       "      <td>0.012556</td>\n",
       "    </tr>\n",
       "    <tr>\n",
       "      <th>ohe__x0_Lake Nyasa</th>\n",
       "      <td>0.012515</td>\n",
       "    </tr>\n",
       "    <tr>\n",
       "      <th>ohe__x1_90</th>\n",
       "      <td>0.011838</td>\n",
       "    </tr>\n",
       "    <tr>\n",
       "      <th>ohe__x0_Lake Rukwa</th>\n",
       "      <td>0.011637</td>\n",
       "    </tr>\n",
       "    <tr>\n",
       "      <th>ohe__x0_Lake Victoria</th>\n",
       "      <td>0.011034</td>\n",
       "    </tr>\n",
       "    <tr>\n",
       "      <th>ohe__x1_13</th>\n",
       "      <td>0.010981</td>\n",
       "    </tr>\n",
       "    <tr>\n",
       "      <th>ohe__x3_ksb</th>\n",
       "      <td>0.010766</td>\n",
       "    </tr>\n",
       "    <tr>\n",
       "      <th>ohe__x1_5</th>\n",
       "      <td>0.010701</td>\n",
       "    </tr>\n",
       "    <tr>\n",
       "      <th>ohe__x7_other</th>\n",
       "      <td>0.010639</td>\n",
       "    </tr>\n",
       "    <tr>\n",
       "      <th>ohe__x1_6</th>\n",
       "      <td>0.010582</td>\n",
       "    </tr>\n",
       "    <tr>\n",
       "      <th>ohe__x0_Ruvuma-Southern_Coast</th>\n",
       "      <td>0.010493</td>\n",
       "    </tr>\n",
       "    <tr>\n",
       "      <th>ohe__x1_9</th>\n",
       "      <td>0.010309</td>\n",
       "    </tr>\n",
       "  </tbody>\n",
       "</table>\n",
       "</div>"
      ],
      "text/plain": [
       "                               Importances\n",
       "ohe__x1_8                         0.035730\n",
       "scaler__gps_height                0.030499\n",
       "ohe__x1_2                         0.025638\n",
       "ohe__x0_Wami-Ruvu                 0.022172\n",
       "ohe__x1_14                        0.020571\n",
       "ohe__x0_Lake Tanganyika           0.019089\n",
       "ohe__x1_21                        0.018914\n",
       "ohe__x1_12                        0.013711\n",
       "scaler__population                0.013097\n",
       "ohe__x1_11                        0.013053\n",
       "ohe__x1_24                        0.013033\n",
       "ohe__x1_1                         0.012800\n",
       "ohe__x1_10                        0.012748\n",
       "ohe__x1_20                        0.012556\n",
       "ohe__x0_Lake Nyasa                0.012515\n",
       "ohe__x1_90                        0.011838\n",
       "ohe__x0_Lake Rukwa                0.011637\n",
       "ohe__x0_Lake Victoria             0.011034\n",
       "ohe__x1_13                        0.010981\n",
       "ohe__x3_ksb                       0.010766\n",
       "ohe__x1_5                         0.010701\n",
       "ohe__x7_other                     0.010639\n",
       "ohe__x1_6                         0.010582\n",
       "ohe__x0_Ruvuma-Southern_Coast     0.010493\n",
       "ohe__x1_9                         0.010309"
      ]
     },
     "execution_count": 189,
     "metadata": {},
     "output_type": "execute_result"
    }
   ],
   "source": [
    "test_Xfpca\n",
    "pd.DataFrame(rf.feature_importances_.reshape(1,-1), \n",
    "             columns=expdf.columns[:100]).T.rename(columns={0:'Importances'}).sort_values(by='Importances', \n",
    "                                                                           ascending=False).head(25)"
   ]
  },
  {
   "cell_type": "code",
   "execution_count": 148,
   "metadata": {},
   "outputs": [
    {
     "data": {
      "text/html": [
       "<div>\n",
       "<style scoped>\n",
       "    .dataframe tbody tr th:only-of-type {\n",
       "        vertical-align: middle;\n",
       "    }\n",
       "\n",
       "    .dataframe tbody tr th {\n",
       "        vertical-align: top;\n",
       "    }\n",
       "\n",
       "    .dataframe thead th {\n",
       "        text-align: right;\n",
       "    }\n",
       "</style>\n",
       "<table border=\"1\" class=\"dataframe\">\n",
       "  <thead>\n",
       "    <tr style=\"text-align: right;\">\n",
       "      <th></th>\n",
       "      <th>var</th>\n",
       "    </tr>\n",
       "  </thead>\n",
       "  <tbody>\n",
       "    <tr>\n",
       "      <th>scaler__gps_height</th>\n",
       "      <td>1.039087e+02</td>\n",
       "    </tr>\n",
       "    <tr>\n",
       "      <th>scaler__population</th>\n",
       "      <td>1.447754e+01</td>\n",
       "    </tr>\n",
       "    <tr>\n",
       "      <th>ohe__x0_Internal</th>\n",
       "      <td>6.250422e+00</td>\n",
       "    </tr>\n",
       "    <tr>\n",
       "      <th>ohe__x0_Lake Nyasa</th>\n",
       "      <td>5.071451e+00</td>\n",
       "    </tr>\n",
       "    <tr>\n",
       "      <th>ohe__x0_Lake Rukwa</th>\n",
       "      <td>1.471009e+00</td>\n",
       "    </tr>\n",
       "    <tr>\n",
       "      <th>...</th>\n",
       "      <td>...</td>\n",
       "    </tr>\n",
       "    <tr>\n",
       "      <th>ohe__x17_1</th>\n",
       "      <td>6.554983e-31</td>\n",
       "    </tr>\n",
       "    <tr>\n",
       "      <th>ohe__x16_wanging'ombe water supply s</th>\n",
       "      <td>6.554983e-31</td>\n",
       "    </tr>\n",
       "    <tr>\n",
       "      <th>year</th>\n",
       "      <td>4.911722e-31</td>\n",
       "    </tr>\n",
       "    <tr>\n",
       "      <th>month</th>\n",
       "      <td>4.051318e-31</td>\n",
       "    </tr>\n",
       "    <tr>\n",
       "      <th>years_old</th>\n",
       "      <td>8.579695e-32</td>\n",
       "    </tr>\n",
       "  </tbody>\n",
       "</table>\n",
       "<p>223 rows × 1 columns</p>\n",
       "</div>"
      ],
      "text/plain": [
       "                                               var\n",
       "scaler__gps_height                    1.039087e+02\n",
       "scaler__population                    1.447754e+01\n",
       "ohe__x0_Internal                      6.250422e+00\n",
       "ohe__x0_Lake Nyasa                    5.071451e+00\n",
       "ohe__x0_Lake Rukwa                    1.471009e+00\n",
       "...                                            ...\n",
       "ohe__x17_1                            6.554983e-31\n",
       "ohe__x16_wanging'ombe water supply s  6.554983e-31\n",
       "year                                  4.911722e-31\n",
       "month                                 4.051318e-31\n",
       "years_old                             8.579695e-32\n",
       "\n",
       "[223 rows x 1 columns]"
      ]
     },
     "execution_count": 148,
     "metadata": {},
     "output_type": "execute_result"
    }
   ],
   "source": [
    "pcacols = PCA()\n",
    "pcacols.fit(train_Xf)\n",
    "exp = pcacols.explained_variance_\n",
    "exp\n",
    "expdf = pd.DataFrame(exp.reshape(1,-1), columns=train_Xf.columns)\n",
    "expdf.T.rename(columns={0:'var'}).sort_values('var', ascending=False)"
   ]
  },
  {
   "cell_type": "code",
   "execution_count": 150,
   "metadata": {},
   "outputs": [
    {
     "data": {
      "text/html": [
       "<div>\n",
       "<style scoped>\n",
       "    .dataframe tbody tr th:only-of-type {\n",
       "        vertical-align: middle;\n",
       "    }\n",
       "\n",
       "    .dataframe tbody tr th {\n",
       "        vertical-align: top;\n",
       "    }\n",
       "\n",
       "    .dataframe thead th {\n",
       "        text-align: right;\n",
       "    }\n",
       "</style>\n",
       "<table border=\"1\" class=\"dataframe\">\n",
       "  <thead>\n",
       "    <tr style=\"text-align: right;\">\n",
       "      <th></th>\n",
       "      <th>scaler__gps_height</th>\n",
       "      <th>scaler__population</th>\n",
       "      <th>ohe__x0_Internal</th>\n",
       "      <th>ohe__x0_Lake Nyasa</th>\n",
       "      <th>ohe__x0_Lake Rukwa</th>\n",
       "      <th>ohe__x0_Lake Tanganyika</th>\n",
       "      <th>ohe__x0_Lake Victoria</th>\n",
       "      <th>ohe__x0_Pangani</th>\n",
       "      <th>ohe__x0_Rufiji</th>\n",
       "      <th>ohe__x0_Ruvuma-Southern_Coast</th>\n",
       "      <th>...</th>\n",
       "      <th>ohe__x17_9</th>\n",
       "      <th>amount_tsh</th>\n",
       "      <th>longitude</th>\n",
       "      <th>latitude</th>\n",
       "      <th>public_meeting</th>\n",
       "      <th>permit</th>\n",
       "      <th>lga_Njombe</th>\n",
       "      <th>year</th>\n",
       "      <th>month</th>\n",
       "      <th>years_old</th>\n",
       "    </tr>\n",
       "  </thead>\n",
       "  <tbody>\n",
       "    <tr>\n",
       "      <th>0</th>\n",
       "      <td>-1.383165</td>\n",
       "      <td>-0.209732</td>\n",
       "      <td>0.0</td>\n",
       "      <td>0.0</td>\n",
       "      <td>0.0</td>\n",
       "      <td>0.0</td>\n",
       "      <td>0.0</td>\n",
       "      <td>0.0</td>\n",
       "      <td>0.0</td>\n",
       "      <td>0.0</td>\n",
       "      <td>...</td>\n",
       "      <td>0.0</td>\n",
       "      <td>3.056703</td>\n",
       "      <td>38.123839</td>\n",
       "      <td>-6.087137</td>\n",
       "      <td>1.0</td>\n",
       "      <td>1.0</td>\n",
       "      <td>0.0</td>\n",
       "      <td>2011.0</td>\n",
       "      <td>3.0</td>\n",
       "      <td>39.0</td>\n",
       "    </tr>\n",
       "    <tr>\n",
       "      <th>1</th>\n",
       "      <td>0.322698</td>\n",
       "      <td>-0.379567</td>\n",
       "      <td>0.0</td>\n",
       "      <td>0.0</td>\n",
       "      <td>0.0</td>\n",
       "      <td>0.0</td>\n",
       "      <td>1.0</td>\n",
       "      <td>0.0</td>\n",
       "      <td>0.0</td>\n",
       "      <td>0.0</td>\n",
       "      <td>...</td>\n",
       "      <td>0.0</td>\n",
       "      <td>2.198999</td>\n",
       "      <td>31.000000</td>\n",
       "      <td>-1.000000</td>\n",
       "      <td>0.0</td>\n",
       "      <td>0.0</td>\n",
       "      <td>0.0</td>\n",
       "      <td>2013.0</td>\n",
       "      <td>2.0</td>\n",
       "      <td>14.0</td>\n",
       "    </tr>\n",
       "    <tr>\n",
       "      <th>2</th>\n",
       "      <td>0.196048</td>\n",
       "      <td>-0.379567</td>\n",
       "      <td>0.0</td>\n",
       "      <td>0.0</td>\n",
       "      <td>0.0</td>\n",
       "      <td>0.0</td>\n",
       "      <td>1.0</td>\n",
       "      <td>0.0</td>\n",
       "      <td>0.0</td>\n",
       "      <td>0.0</td>\n",
       "      <td>...</td>\n",
       "      <td>0.0</td>\n",
       "      <td>3.207379</td>\n",
       "      <td>33.312321</td>\n",
       "      <td>-2.814100</td>\n",
       "      <td>1.0</td>\n",
       "      <td>1.0</td>\n",
       "      <td>0.0</td>\n",
       "      <td>2011.0</td>\n",
       "      <td>8.0</td>\n",
       "      <td>12.0</td>\n",
       "    </tr>\n",
       "    <tr>\n",
       "      <th>3</th>\n",
       "      <td>0.698084</td>\n",
       "      <td>-0.330739</td>\n",
       "      <td>1.0</td>\n",
       "      <td>0.0</td>\n",
       "      <td>0.0</td>\n",
       "      <td>0.0</td>\n",
       "      <td>0.0</td>\n",
       "      <td>0.0</td>\n",
       "      <td>0.0</td>\n",
       "      <td>0.0</td>\n",
       "      <td>...</td>\n",
       "      <td>0.0</td>\n",
       "      <td>1.925946</td>\n",
       "      <td>34.783049</td>\n",
       "      <td>-4.842093</td>\n",
       "      <td>1.0</td>\n",
       "      <td>1.0</td>\n",
       "      <td>0.0</td>\n",
       "      <td>2013.0</td>\n",
       "      <td>1.0</td>\n",
       "      <td>3.0</td>\n",
       "    </tr>\n",
       "    <tr>\n",
       "      <th>4</th>\n",
       "      <td>-1.051745</td>\n",
       "      <td>-0.377444</td>\n",
       "      <td>0.0</td>\n",
       "      <td>1.0</td>\n",
       "      <td>0.0</td>\n",
       "      <td>0.0</td>\n",
       "      <td>0.0</td>\n",
       "      <td>0.0</td>\n",
       "      <td>0.0</td>\n",
       "      <td>0.0</td>\n",
       "      <td>...</td>\n",
       "      <td>0.0</td>\n",
       "      <td>2.000000</td>\n",
       "      <td>34.660944</td>\n",
       "      <td>-10.707331</td>\n",
       "      <td>0.0</td>\n",
       "      <td>1.0</td>\n",
       "      <td>0.0</td>\n",
       "      <td>2013.0</td>\n",
       "      <td>9.0</td>\n",
       "      <td>0.0</td>\n",
       "    </tr>\n",
       "    <tr>\n",
       "      <th>...</th>\n",
       "      <td>...</td>\n",
       "      <td>...</td>\n",
       "      <td>...</td>\n",
       "      <td>...</td>\n",
       "      <td>...</td>\n",
       "      <td>...</td>\n",
       "      <td>...</td>\n",
       "      <td>...</td>\n",
       "      <td>...</td>\n",
       "      <td>...</td>\n",
       "      <td>...</td>\n",
       "      <td>...</td>\n",
       "      <td>...</td>\n",
       "      <td>...</td>\n",
       "      <td>...</td>\n",
       "      <td>...</td>\n",
       "      <td>...</td>\n",
       "      <td>...</td>\n",
       "      <td>...</td>\n",
       "      <td>...</td>\n",
       "      <td>...</td>\n",
       "    </tr>\n",
       "    <tr>\n",
       "      <th>44545</th>\n",
       "      <td>-1.388317</td>\n",
       "      <td>0.161782</td>\n",
       "      <td>0.0</td>\n",
       "      <td>0.0</td>\n",
       "      <td>0.0</td>\n",
       "      <td>0.0</td>\n",
       "      <td>0.0</td>\n",
       "      <td>0.0</td>\n",
       "      <td>1.0</td>\n",
       "      <td>0.0</td>\n",
       "      <td>...</td>\n",
       "      <td>0.0</td>\n",
       "      <td>3.000000</td>\n",
       "      <td>36.367112</td>\n",
       "      <td>-8.774761</td>\n",
       "      <td>1.0</td>\n",
       "      <td>1.0</td>\n",
       "      <td>0.0</td>\n",
       "      <td>2011.0</td>\n",
       "      <td>3.0</td>\n",
       "      <td>16.0</td>\n",
       "    </tr>\n",
       "    <tr>\n",
       "      <th>44546</th>\n",
       "      <td>1.043242</td>\n",
       "      <td>-0.305264</td>\n",
       "      <td>0.0</td>\n",
       "      <td>1.0</td>\n",
       "      <td>0.0</td>\n",
       "      <td>0.0</td>\n",
       "      <td>0.0</td>\n",
       "      <td>0.0</td>\n",
       "      <td>0.0</td>\n",
       "      <td>0.0</td>\n",
       "      <td>...</td>\n",
       "      <td>0.0</td>\n",
       "      <td>3.000000</td>\n",
       "      <td>34.531524</td>\n",
       "      <td>-9.769604</td>\n",
       "      <td>1.0</td>\n",
       "      <td>0.0</td>\n",
       "      <td>0.0</td>\n",
       "      <td>2011.0</td>\n",
       "      <td>3.0</td>\n",
       "      <td>23.0</td>\n",
       "    </tr>\n",
       "    <tr>\n",
       "      <th>44547</th>\n",
       "      <td>-1.882963</td>\n",
       "      <td>1.743370</td>\n",
       "      <td>0.0</td>\n",
       "      <td>0.0</td>\n",
       "      <td>0.0</td>\n",
       "      <td>0.0</td>\n",
       "      <td>0.0</td>\n",
       "      <td>1.0</td>\n",
       "      <td>0.0</td>\n",
       "      <td>0.0</td>\n",
       "      <td>...</td>\n",
       "      <td>0.0</td>\n",
       "      <td>1.606018</td>\n",
       "      <td>38.974416</td>\n",
       "      <td>-5.420823</td>\n",
       "      <td>0.0</td>\n",
       "      <td>0.0</td>\n",
       "      <td>0.0</td>\n",
       "      <td>2011.0</td>\n",
       "      <td>3.0</td>\n",
       "      <td>6.0</td>\n",
       "    </tr>\n",
       "    <tr>\n",
       "      <th>44548</th>\n",
       "      <td>0.399966</td>\n",
       "      <td>-0.379567</td>\n",
       "      <td>0.0</td>\n",
       "      <td>0.0</td>\n",
       "      <td>0.0</td>\n",
       "      <td>0.0</td>\n",
       "      <td>1.0</td>\n",
       "      <td>0.0</td>\n",
       "      <td>0.0</td>\n",
       "      <td>0.0</td>\n",
       "      <td>...</td>\n",
       "      <td>0.0</td>\n",
       "      <td>2.469591</td>\n",
       "      <td>34.316586</td>\n",
       "      <td>-3.107161</td>\n",
       "      <td>1.0</td>\n",
       "      <td>1.0</td>\n",
       "      <td>0.0</td>\n",
       "      <td>2012.0</td>\n",
       "      <td>10.0</td>\n",
       "      <td>13.0</td>\n",
       "    </tr>\n",
       "    <tr>\n",
       "      <th>44549</th>\n",
       "      <td>0.265349</td>\n",
       "      <td>-0.377444</td>\n",
       "      <td>0.0</td>\n",
       "      <td>0.0</td>\n",
       "      <td>0.0</td>\n",
       "      <td>0.0</td>\n",
       "      <td>0.0</td>\n",
       "      <td>1.0</td>\n",
       "      <td>0.0</td>\n",
       "      <td>0.0</td>\n",
       "      <td>...</td>\n",
       "      <td>0.0</td>\n",
       "      <td>4.000000</td>\n",
       "      <td>37.626401</td>\n",
       "      <td>-3.211457</td>\n",
       "      <td>1.0</td>\n",
       "      <td>1.0</td>\n",
       "      <td>0.0</td>\n",
       "      <td>2013.0</td>\n",
       "      <td>2.0</td>\n",
       "      <td>37.0</td>\n",
       "    </tr>\n",
       "  </tbody>\n",
       "</table>\n",
       "<p>44550 rows × 223 columns</p>\n",
       "</div>"
      ],
      "text/plain": [
       "       scaler__gps_height  scaler__population  ohe__x0_Internal  \\\n",
       "0               -1.383165           -0.209732               0.0   \n",
       "1                0.322698           -0.379567               0.0   \n",
       "2                0.196048           -0.379567               0.0   \n",
       "3                0.698084           -0.330739               1.0   \n",
       "4               -1.051745           -0.377444               0.0   \n",
       "...                   ...                 ...               ...   \n",
       "44545           -1.388317            0.161782               0.0   \n",
       "44546            1.043242           -0.305264               0.0   \n",
       "44547           -1.882963            1.743370               0.0   \n",
       "44548            0.399966           -0.379567               0.0   \n",
       "44549            0.265349           -0.377444               0.0   \n",
       "\n",
       "       ohe__x0_Lake Nyasa  ohe__x0_Lake Rukwa  ohe__x0_Lake Tanganyika  \\\n",
       "0                     0.0                 0.0                      0.0   \n",
       "1                     0.0                 0.0                      0.0   \n",
       "2                     0.0                 0.0                      0.0   \n",
       "3                     0.0                 0.0                      0.0   \n",
       "4                     1.0                 0.0                      0.0   \n",
       "...                   ...                 ...                      ...   \n",
       "44545                 0.0                 0.0                      0.0   \n",
       "44546                 1.0                 0.0                      0.0   \n",
       "44547                 0.0                 0.0                      0.0   \n",
       "44548                 0.0                 0.0                      0.0   \n",
       "44549                 0.0                 0.0                      0.0   \n",
       "\n",
       "       ohe__x0_Lake Victoria  ohe__x0_Pangani  ohe__x0_Rufiji  \\\n",
       "0                        0.0              0.0             0.0   \n",
       "1                        1.0              0.0             0.0   \n",
       "2                        1.0              0.0             0.0   \n",
       "3                        0.0              0.0             0.0   \n",
       "4                        0.0              0.0             0.0   \n",
       "...                      ...              ...             ...   \n",
       "44545                    0.0              0.0             1.0   \n",
       "44546                    0.0              0.0             0.0   \n",
       "44547                    0.0              1.0             0.0   \n",
       "44548                    1.0              0.0             0.0   \n",
       "44549                    0.0              1.0             0.0   \n",
       "\n",
       "       ohe__x0_Ruvuma-Southern_Coast  ...  ohe__x17_9  amount_tsh  longitude  \\\n",
       "0                                0.0  ...         0.0    3.056703  38.123839   \n",
       "1                                0.0  ...         0.0    2.198999  31.000000   \n",
       "2                                0.0  ...         0.0    3.207379  33.312321   \n",
       "3                                0.0  ...         0.0    1.925946  34.783049   \n",
       "4                                0.0  ...         0.0    2.000000  34.660944   \n",
       "...                              ...  ...         ...         ...        ...   \n",
       "44545                            0.0  ...         0.0    3.000000  36.367112   \n",
       "44546                            0.0  ...         0.0    3.000000  34.531524   \n",
       "44547                            0.0  ...         0.0    1.606018  38.974416   \n",
       "44548                            0.0  ...         0.0    2.469591  34.316586   \n",
       "44549                            0.0  ...         0.0    4.000000  37.626401   \n",
       "\n",
       "        latitude  public_meeting  permit  lga_Njombe    year  month  years_old  \n",
       "0      -6.087137             1.0     1.0         0.0  2011.0    3.0       39.0  \n",
       "1      -1.000000             0.0     0.0         0.0  2013.0    2.0       14.0  \n",
       "2      -2.814100             1.0     1.0         0.0  2011.0    8.0       12.0  \n",
       "3      -4.842093             1.0     1.0         0.0  2013.0    1.0        3.0  \n",
       "4     -10.707331             0.0     1.0         0.0  2013.0    9.0        0.0  \n",
       "...          ...             ...     ...         ...     ...    ...        ...  \n",
       "44545  -8.774761             1.0     1.0         0.0  2011.0    3.0       16.0  \n",
       "44546  -9.769604             1.0     0.0         0.0  2011.0    3.0       23.0  \n",
       "44547  -5.420823             0.0     0.0         0.0  2011.0    3.0        6.0  \n",
       "44548  -3.107161             1.0     1.0         0.0  2012.0   10.0       13.0  \n",
       "44549  -3.211457             1.0     1.0         0.0  2013.0    2.0       37.0  \n",
       "\n",
       "[44550 rows x 223 columns]"
      ]
     },
     "execution_count": 150,
     "metadata": {},
     "output_type": "execute_result"
    }
   ],
   "source": [
    "train_Xf"
   ]
  },
  {
   "cell_type": "code",
   "execution_count": 57,
   "metadata": {},
   "outputs": [
    {
     "ename": "ImportError",
     "evalue": "cannot import name 'Chi_sq_test' from 'model_prep' (C:\\Users\\bwils\\OneDrive\\Documents\\GitHub\\Pump-it-up\\model_prep\\__init__.py)",
     "output_type": "error",
     "traceback": [
      "\u001b[1;31m---------------------------------------------------------------------------\u001b[0m",
      "\u001b[1;31mImportError\u001b[0m                               Traceback (most recent call last)",
      "\u001b[1;32m<ipython-input-57-f1b4a43582ed>\u001b[0m in \u001b[0;36m<module>\u001b[1;34m\u001b[0m\n\u001b[1;32m----> 1\u001b[1;33m \u001b[1;32mfrom\u001b[0m \u001b[0mmodel_prep\u001b[0m \u001b[1;32mimport\u001b[0m \u001b[0mChi_sq_test\u001b[0m\u001b[1;33m\u001b[0m\u001b[1;33m\u001b[0m\u001b[0m\n\u001b[0m",
      "\u001b[1;31mImportError\u001b[0m: cannot import name 'Chi_sq_test' from 'model_prep' (C:\\Users\\bwils\\OneDrive\\Documents\\GitHub\\Pump-it-up\\model_prep\\__init__.py)"
     ]
    }
   ],
   "source": [
    "from model_prep import Chi_sq_test"
   ]
  },
  {
   "cell_type": "code",
   "execution_count": 58,
   "metadata": {},
   "outputs": [],
   "source": [
    "def Chi_sq_test(df, dependant, independant):\n",
    "    #takes in the names of a dependant and independant variable (column), runs a chi squared test and then outputs \n",
    "    #a seaborn heatmap of the percent difference between the expected and actual values\n",
    "    \n",
    "    from scipy.stats import chi2_contingency\n",
    "    from scipy.stats import chi2\n",
    "    \n",
    "    #create cotingency table\n",
    "    count_table = df.groupby([dependant, independant])['id'].count().unstack()\n",
    "    count_table.fillna(0, inplace=True)\n",
    "    count_table = count_table.astype('int')\n",
    "    \n",
    "    #Chi Squared test is for only counts above 5, we are keeping the same ratio, but increasing min value to 5 in each column\n",
    "    if count_table.isin(range(0,5)).any().any():\n",
    "        for j in range(len(count_table.columns)):\n",
    "            for i in range(len(count_table.index)):\n",
    "                if count_table.iloc[i,j] < 1:\n",
    "                    count_table.iloc[i,j] = 5\n",
    "                    count_table.iloc[:,j] = count_table.iloc[:,j]*5\n",
    "                elif count_table.iloc[i,j] <5:\n",
    "                    count_table.iloc[:,j] = count_table.iloc[:,j]*(5/count_table.iloc[i,j])\n",
    "    \n",
    "    stat, p, dof, expected = chi2_contingency(count_table)\n",
    "    \n",
    "    #print test information\n",
    "    print('P-Value = {}'.format(p))\n",
    "    print('Chi Statistic = {}'.format(stat))\n",
    "    print('Degrees of Freedom = {}'.format(dof))\n",
    "    \n",
    "    #caluclate and print heatmap\n",
    "    plt.figure(figsize=(12,6))\n",
    "    sns.heatmap(((count_table - expected) / count_table *100), annot=True, vmax=100, vmin=-100, fmt='.1f', \n",
    "                annot_kws={'rotation': 90}, cmap='viridis')\n",
    "    plt.title('Percent Difference of Expected vs. Actual Classes per {}'.format(str.title(independant)))\n",
    "    plt.show()"
   ]
  },
  {
   "cell_type": "code",
   "execution_count": 191,
   "metadata": {},
   "outputs": [
    {
     "ename": "KeyError",
     "evalue": "'popbins'",
     "output_type": "error",
     "traceback": [
      "\u001b[1;31m---------------------------------------------------------------------------\u001b[0m",
      "\u001b[1;31mKeyError\u001b[0m                                  Traceback (most recent call last)",
      "\u001b[1;32m<ipython-input-191-aa56fc1d164f>\u001b[0m in \u001b[0;36m<module>\u001b[1;34m\u001b[0m\n\u001b[1;32m----> 1\u001b[1;33m \u001b[0mChi_sq_test\u001b[0m\u001b[1;33m(\u001b[0m\u001b[0mchecker\u001b[0m\u001b[1;33m,\u001b[0m \u001b[1;34m'correct'\u001b[0m\u001b[1;33m,\u001b[0m \u001b[1;34m'popbins'\u001b[0m\u001b[1;33m)\u001b[0m\u001b[1;33m\u001b[0m\u001b[1;33m\u001b[0m\u001b[0m\n\u001b[0m",
      "\u001b[1;32m<ipython-input-58-645cbf706e42>\u001b[0m in \u001b[0;36mChi_sq_test\u001b[1;34m(df, dependant, independant)\u001b[0m\n\u001b[0;32m      7\u001b[0m \u001b[1;33m\u001b[0m\u001b[0m\n\u001b[0;32m      8\u001b[0m     \u001b[1;31m#create cotingency table\u001b[0m\u001b[1;33m\u001b[0m\u001b[1;33m\u001b[0m\u001b[1;33m\u001b[0m\u001b[0m\n\u001b[1;32m----> 9\u001b[1;33m     \u001b[0mcount_table\u001b[0m \u001b[1;33m=\u001b[0m \u001b[0mdf\u001b[0m\u001b[1;33m.\u001b[0m\u001b[0mgroupby\u001b[0m\u001b[1;33m(\u001b[0m\u001b[1;33m[\u001b[0m\u001b[0mdependant\u001b[0m\u001b[1;33m,\u001b[0m \u001b[0mindependant\u001b[0m\u001b[1;33m]\u001b[0m\u001b[1;33m)\u001b[0m\u001b[1;33m[\u001b[0m\u001b[1;34m'id'\u001b[0m\u001b[1;33m]\u001b[0m\u001b[1;33m.\u001b[0m\u001b[0mcount\u001b[0m\u001b[1;33m(\u001b[0m\u001b[1;33m)\u001b[0m\u001b[1;33m.\u001b[0m\u001b[0munstack\u001b[0m\u001b[1;33m(\u001b[0m\u001b[1;33m)\u001b[0m\u001b[1;33m\u001b[0m\u001b[1;33m\u001b[0m\u001b[0m\n\u001b[0m\u001b[0;32m     10\u001b[0m     \u001b[0mcount_table\u001b[0m\u001b[1;33m.\u001b[0m\u001b[0mfillna\u001b[0m\u001b[1;33m(\u001b[0m\u001b[1;36m0\u001b[0m\u001b[1;33m,\u001b[0m \u001b[0minplace\u001b[0m\u001b[1;33m=\u001b[0m\u001b[1;32mTrue\u001b[0m\u001b[1;33m)\u001b[0m\u001b[1;33m\u001b[0m\u001b[1;33m\u001b[0m\u001b[0m\n\u001b[0;32m     11\u001b[0m     \u001b[0mcount_table\u001b[0m \u001b[1;33m=\u001b[0m \u001b[0mcount_table\u001b[0m\u001b[1;33m.\u001b[0m\u001b[0mastype\u001b[0m\u001b[1;33m(\u001b[0m\u001b[1;34m'int'\u001b[0m\u001b[1;33m)\u001b[0m\u001b[1;33m\u001b[0m\u001b[1;33m\u001b[0m\u001b[0m\n",
      "\u001b[1;32m~\\anaconda3\\envs\\pumpitup\\lib\\site-packages\\pandas\\core\\frame.py\u001b[0m in \u001b[0;36mgroupby\u001b[1;34m(self, by, axis, level, as_index, sort, group_keys, squeeze, observed, dropna)\u001b[0m\n\u001b[0;32m   6715\u001b[0m         \u001b[0maxis\u001b[0m \u001b[1;33m=\u001b[0m \u001b[0mself\u001b[0m\u001b[1;33m.\u001b[0m\u001b[0m_get_axis_number\u001b[0m\u001b[1;33m(\u001b[0m\u001b[0maxis\u001b[0m\u001b[1;33m)\u001b[0m\u001b[1;33m\u001b[0m\u001b[1;33m\u001b[0m\u001b[0m\n\u001b[0;32m   6716\u001b[0m \u001b[1;33m\u001b[0m\u001b[0m\n\u001b[1;32m-> 6717\u001b[1;33m         return DataFrameGroupBy(\n\u001b[0m\u001b[0;32m   6718\u001b[0m             \u001b[0mobj\u001b[0m\u001b[1;33m=\u001b[0m\u001b[0mself\u001b[0m\u001b[1;33m,\u001b[0m\u001b[1;33m\u001b[0m\u001b[1;33m\u001b[0m\u001b[0m\n\u001b[0;32m   6719\u001b[0m             \u001b[0mkeys\u001b[0m\u001b[1;33m=\u001b[0m\u001b[0mby\u001b[0m\u001b[1;33m,\u001b[0m\u001b[1;33m\u001b[0m\u001b[1;33m\u001b[0m\u001b[0m\n",
      "\u001b[1;32m~\\anaconda3\\envs\\pumpitup\\lib\\site-packages\\pandas\\core\\groupby\\groupby.py\u001b[0m in \u001b[0;36m__init__\u001b[1;34m(self, obj, keys, axis, level, grouper, exclusions, selection, as_index, sort, group_keys, squeeze, observed, mutated, dropna)\u001b[0m\n\u001b[0;32m    558\u001b[0m             \u001b[1;32mfrom\u001b[0m \u001b[0mpandas\u001b[0m\u001b[1;33m.\u001b[0m\u001b[0mcore\u001b[0m\u001b[1;33m.\u001b[0m\u001b[0mgroupby\u001b[0m\u001b[1;33m.\u001b[0m\u001b[0mgrouper\u001b[0m \u001b[1;32mimport\u001b[0m \u001b[0mget_grouper\u001b[0m\u001b[1;33m\u001b[0m\u001b[1;33m\u001b[0m\u001b[0m\n\u001b[0;32m    559\u001b[0m \u001b[1;33m\u001b[0m\u001b[0m\n\u001b[1;32m--> 560\u001b[1;33m             grouper, exclusions, obj = get_grouper(\n\u001b[0m\u001b[0;32m    561\u001b[0m                 \u001b[0mobj\u001b[0m\u001b[1;33m,\u001b[0m\u001b[1;33m\u001b[0m\u001b[1;33m\u001b[0m\u001b[0m\n\u001b[0;32m    562\u001b[0m                 \u001b[0mkeys\u001b[0m\u001b[1;33m,\u001b[0m\u001b[1;33m\u001b[0m\u001b[1;33m\u001b[0m\u001b[0m\n",
      "\u001b[1;32m~\\anaconda3\\envs\\pumpitup\\lib\\site-packages\\pandas\\core\\groupby\\grouper.py\u001b[0m in \u001b[0;36mget_grouper\u001b[1;34m(obj, key, axis, level, sort, observed, mutated, validate, dropna)\u001b[0m\n\u001b[0;32m    809\u001b[0m                 \u001b[0min_axis\u001b[0m\u001b[1;33m,\u001b[0m \u001b[0mname\u001b[0m\u001b[1;33m,\u001b[0m \u001b[0mlevel\u001b[0m\u001b[1;33m,\u001b[0m \u001b[0mgpr\u001b[0m \u001b[1;33m=\u001b[0m \u001b[1;32mFalse\u001b[0m\u001b[1;33m,\u001b[0m \u001b[1;32mNone\u001b[0m\u001b[1;33m,\u001b[0m \u001b[0mgpr\u001b[0m\u001b[1;33m,\u001b[0m \u001b[1;32mNone\u001b[0m\u001b[1;33m\u001b[0m\u001b[1;33m\u001b[0m\u001b[0m\n\u001b[0;32m    810\u001b[0m             \u001b[1;32melse\u001b[0m\u001b[1;33m:\u001b[0m\u001b[1;33m\u001b[0m\u001b[1;33m\u001b[0m\u001b[0m\n\u001b[1;32m--> 811\u001b[1;33m                 \u001b[1;32mraise\u001b[0m \u001b[0mKeyError\u001b[0m\u001b[1;33m(\u001b[0m\u001b[0mgpr\u001b[0m\u001b[1;33m)\u001b[0m\u001b[1;33m\u001b[0m\u001b[1;33m\u001b[0m\u001b[0m\n\u001b[0m\u001b[0;32m    812\u001b[0m         \u001b[1;32melif\u001b[0m \u001b[0misinstance\u001b[0m\u001b[1;33m(\u001b[0m\u001b[0mgpr\u001b[0m\u001b[1;33m,\u001b[0m \u001b[0mGrouper\u001b[0m\u001b[1;33m)\u001b[0m \u001b[1;32mand\u001b[0m \u001b[0mgpr\u001b[0m\u001b[1;33m.\u001b[0m\u001b[0mkey\u001b[0m \u001b[1;32mis\u001b[0m \u001b[1;32mnot\u001b[0m \u001b[1;32mNone\u001b[0m\u001b[1;33m:\u001b[0m\u001b[1;33m\u001b[0m\u001b[1;33m\u001b[0m\u001b[0m\n\u001b[0;32m    813\u001b[0m             \u001b[1;31m# Add key to exclusions\u001b[0m\u001b[1;33m\u001b[0m\u001b[1;33m\u001b[0m\u001b[1;33m\u001b[0m\u001b[0m\n",
      "\u001b[1;31mKeyError\u001b[0m: 'popbins'"
     ]
    }
   ],
   "source": [
    "Chi_sq_test(checker, 'correct', 'popbins')"
   ]
  },
  {
   "cell_type": "code",
   "execution_count": null,
   "metadata": {},
   "outputs": [],
   "source": []
  }
 ],
 "metadata": {
  "kernelspec": {
   "display_name": "pumpitup",
   "language": "python",
   "name": "pumpitup"
  },
  "language_info": {
   "codemirror_mode": {
    "name": "ipython",
    "version": 3
   },
   "file_extension": ".py",
   "mimetype": "text/x-python",
   "name": "python",
   "nbconvert_exporter": "python",
   "pygments_lexer": "ipython3",
   "version": "3.9.2"
  }
 },
 "nbformat": 4,
 "nbformat_minor": 5
}
